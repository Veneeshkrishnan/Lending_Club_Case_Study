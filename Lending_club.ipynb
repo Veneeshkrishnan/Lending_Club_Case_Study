{
 "cells": [
  {
   "cell_type": "markdown",
   "id": "c0726ebc",
   "metadata": {},
   "source": [
    "# LENDING CLUB CASE STUDY\n"
   ]
  },
  {
   "cell_type": "markdown",
   "id": "76194c01",
   "metadata": {},
   "source": [
    " ## <font color='blue'>Introduction</font>\n",
    " \n",
    " >   A very important area of risk analytics of banking and financial services is identifing risky applicants.This case study aims to provide us an idea of implementing EDA to figure out the solution for this problem. we will also develope a basic understanding of risk analytics in banking and financial services. "
   ]
  },
  {
   "cell_type": "markdown",
   "id": "90abd121",
   "metadata": {},
   "source": [
    "## <font color=\"blue\">Business understanding</font>\n",
    "\n",
    "   >When a company receives a loan application from the applicant, the company has to decide whether to approve it or not based on the applicant's profile.\n",
    "There are two types of risk involved in it:\n",
    ">- Approving loan to the applicant, who is not likely to pay, which leads to financial loss.\n",
    ">- Not approving loan to the applicant, who is likely to pay, which leads to business loss.\n",
    ">\n",
    ">when a person applies for a loan, the lender could take two types of decision:\n",
    "> ### 1.Loan accepted: \n",
    ">If the company approves the loan, then there are three possible scenarios:\n",
    ">- Fully paid - The Customer has fully paid the loan.\n",
    ">- Current - The customer is in the process of paying the loan. The tenure of the loan is not yet completed.\n",
    ">- Charged-off - The customer who failed to repay the loan in due time for a long period of time.\n",
    ">\n",
    "> ### 2.Loan rejected:\n",
    "> The company had rejected the loan because the client does not meet the requirement of the loan.\n"
   ]
  },
  {
   "cell_type": "markdown",
   "id": "160d57fe",
   "metadata": {},
   "source": [
    "##  <font color=\"blue\">Business objectives\n",
    "    \n",
    ">   In order to avoid the credit loss, it is necessary to identify patterns which indicates if a person is likely to default, so that the lenders can take decisions like rejecting the loan, reducing the amount of loan, lending loan with high interest rate, etc. This will ensure that customers who is likely to repay the loan are not rejected.\n",
    ">\n",
    ">The company wants to identify the driving factors beyond loan defaults. If they understood the driving factor, they can able to take effective decisions. "
   ]
  },
  {
   "cell_type": "markdown",
   "id": "ce791317",
   "metadata": {},
   "source": [
    "## <font color=\"blue\">Data understanding\n",
    "    \n",
    "> ### 1. 'loan.csv'\n",
    "> It contains all the information about past loan applicants and whether they paid on due time or got defaulted.\n",
    ">\n",
    "> ### 2. 'Data_Dictionary.xlsx'\n",
    "> It is a data dictionary which describes the meaning of the variable."
   ]
  },
  {
   "cell_type": "markdown",
   "id": "9410b5e2",
   "metadata": {},
   "source": [
    "## <font color=\"blue\">Importing Libraries"
   ]
  },
  {
   "cell_type": "code",
   "execution_count": 1,
   "id": "88640fa5",
   "metadata": {},
   "outputs": [],
   "source": [
    "import numpy as np\n",
    "import pandas as pd\n",
    "import matplotlib.pyplot as plt\n",
    "from matplotlib import style\n",
    "import seaborn as sns\n",
    "import datetime as dt"
   ]
  },
  {
   "cell_type": "markdown",
   "id": "a1b92ec8",
   "metadata": {},
   "source": [
    "## <font color=\"blue\">Customizing Settings"
   ]
  },
  {
   "cell_type": "code",
   "execution_count": 2,
   "id": "b78c15ac",
   "metadata": {},
   "outputs": [],
   "source": [
    "# Expanding output display to see all columns\n",
    "pd.set_option(\"display.max_columns\", None)\n",
    "pd.set_option(\"display.float_format\", lambda x:\"%.3f\" %x)\n",
    "pd.set_option(\"display.width\", 100)"
   ]
  },
  {
   "cell_type": "markdown",
   "id": "b10bcfc6",
   "metadata": {},
   "source": [
    "## <font color=\"blue\">Importing Data"
   ]
  },
  {
   "cell_type": "code",
   "execution_count": 3,
   "id": "ffe4f51d",
   "metadata": {},
   "outputs": [],
   "source": [
    "#importing loan data\n",
    "#As the data contains different dtypes in a same column, allowing to access more memory will avoid future errors\n",
    "Loan_data = pd.read_csv(\"loan.csv\", low_memory=False, index_col=\"id\")\n",
    "\n",
    "#importing data dictionary for the reference\n",
    "Loan_schema = pd.read_excel(\"Data_Dictionary.xlsx\", index_col=\"LoanStatNew\")"
   ]
  },
  {
   "cell_type": "code",
   "execution_count": 4,
   "id": "b3efe318",
   "metadata": {},
   "outputs": [
    {
     "data": {
      "text/html": [
       "<div>\n",
       "<style scoped>\n",
       "    .dataframe tbody tr th:only-of-type {\n",
       "        vertical-align: middle;\n",
       "    }\n",
       "\n",
       "    .dataframe tbody tr th {\n",
       "        vertical-align: top;\n",
       "    }\n",
       "\n",
       "    .dataframe thead th {\n",
       "        text-align: right;\n",
       "    }\n",
       "</style>\n",
       "<table border=\"1\" class=\"dataframe\">\n",
       "  <thead>\n",
       "    <tr style=\"text-align: right;\">\n",
       "      <th></th>\n",
       "      <th>member_id</th>\n",
       "      <th>loan_amnt</th>\n",
       "      <th>funded_amnt</th>\n",
       "      <th>funded_amnt_inv</th>\n",
       "      <th>term</th>\n",
       "      <th>int_rate</th>\n",
       "      <th>installment</th>\n",
       "      <th>grade</th>\n",
       "      <th>sub_grade</th>\n",
       "      <th>emp_title</th>\n",
       "      <th>emp_length</th>\n",
       "      <th>home_ownership</th>\n",
       "      <th>annual_inc</th>\n",
       "      <th>verification_status</th>\n",
       "      <th>issue_d</th>\n",
       "      <th>loan_status</th>\n",
       "      <th>pymnt_plan</th>\n",
       "      <th>url</th>\n",
       "      <th>desc</th>\n",
       "      <th>purpose</th>\n",
       "      <th>title</th>\n",
       "      <th>zip_code</th>\n",
       "      <th>addr_state</th>\n",
       "      <th>dti</th>\n",
       "      <th>delinq_2yrs</th>\n",
       "      <th>earliest_cr_line</th>\n",
       "      <th>inq_last_6mths</th>\n",
       "      <th>mths_since_last_delinq</th>\n",
       "      <th>mths_since_last_record</th>\n",
       "      <th>open_acc</th>\n",
       "      <th>pub_rec</th>\n",
       "      <th>revol_bal</th>\n",
       "      <th>revol_util</th>\n",
       "      <th>total_acc</th>\n",
       "      <th>initial_list_status</th>\n",
       "      <th>out_prncp</th>\n",
       "      <th>out_prncp_inv</th>\n",
       "      <th>total_pymnt</th>\n",
       "      <th>total_pymnt_inv</th>\n",
       "      <th>total_rec_prncp</th>\n",
       "      <th>total_rec_int</th>\n",
       "      <th>total_rec_late_fee</th>\n",
       "      <th>recoveries</th>\n",
       "      <th>collection_recovery_fee</th>\n",
       "      <th>last_pymnt_d</th>\n",
       "      <th>last_pymnt_amnt</th>\n",
       "      <th>next_pymnt_d</th>\n",
       "      <th>last_credit_pull_d</th>\n",
       "      <th>collections_12_mths_ex_med</th>\n",
       "      <th>mths_since_last_major_derog</th>\n",
       "      <th>policy_code</th>\n",
       "      <th>application_type</th>\n",
       "      <th>annual_inc_joint</th>\n",
       "      <th>dti_joint</th>\n",
       "      <th>verification_status_joint</th>\n",
       "      <th>acc_now_delinq</th>\n",
       "      <th>tot_coll_amt</th>\n",
       "      <th>tot_cur_bal</th>\n",
       "      <th>open_acc_6m</th>\n",
       "      <th>open_il_6m</th>\n",
       "      <th>open_il_12m</th>\n",
       "      <th>open_il_24m</th>\n",
       "      <th>mths_since_rcnt_il</th>\n",
       "      <th>total_bal_il</th>\n",
       "      <th>il_util</th>\n",
       "      <th>open_rv_12m</th>\n",
       "      <th>open_rv_24m</th>\n",
       "      <th>max_bal_bc</th>\n",
       "      <th>all_util</th>\n",
       "      <th>total_rev_hi_lim</th>\n",
       "      <th>inq_fi</th>\n",
       "      <th>total_cu_tl</th>\n",
       "      <th>inq_last_12m</th>\n",
       "      <th>acc_open_past_24mths</th>\n",
       "      <th>avg_cur_bal</th>\n",
       "      <th>bc_open_to_buy</th>\n",
       "      <th>bc_util</th>\n",
       "      <th>chargeoff_within_12_mths</th>\n",
       "      <th>delinq_amnt</th>\n",
       "      <th>mo_sin_old_il_acct</th>\n",
       "      <th>mo_sin_old_rev_tl_op</th>\n",
       "      <th>mo_sin_rcnt_rev_tl_op</th>\n",
       "      <th>mo_sin_rcnt_tl</th>\n",
       "      <th>mort_acc</th>\n",
       "      <th>mths_since_recent_bc</th>\n",
       "      <th>mths_since_recent_bc_dlq</th>\n",
       "      <th>mths_since_recent_inq</th>\n",
       "      <th>mths_since_recent_revol_delinq</th>\n",
       "      <th>num_accts_ever_120_pd</th>\n",
       "      <th>num_actv_bc_tl</th>\n",
       "      <th>num_actv_rev_tl</th>\n",
       "      <th>num_bc_sats</th>\n",
       "      <th>num_bc_tl</th>\n",
       "      <th>num_il_tl</th>\n",
       "      <th>num_op_rev_tl</th>\n",
       "      <th>num_rev_accts</th>\n",
       "      <th>num_rev_tl_bal_gt_0</th>\n",
       "      <th>num_sats</th>\n",
       "      <th>num_tl_120dpd_2m</th>\n",
       "      <th>num_tl_30dpd</th>\n",
       "      <th>num_tl_90g_dpd_24m</th>\n",
       "      <th>num_tl_op_past_12m</th>\n",
       "      <th>pct_tl_nvr_dlq</th>\n",
       "      <th>percent_bc_gt_75</th>\n",
       "      <th>pub_rec_bankruptcies</th>\n",
       "      <th>tax_liens</th>\n",
       "      <th>tot_hi_cred_lim</th>\n",
       "      <th>total_bal_ex_mort</th>\n",
       "      <th>total_bc_limit</th>\n",
       "      <th>total_il_high_credit_limit</th>\n",
       "    </tr>\n",
       "    <tr>\n",
       "      <th>id</th>\n",
       "      <th></th>\n",
       "      <th></th>\n",
       "      <th></th>\n",
       "      <th></th>\n",
       "      <th></th>\n",
       "      <th></th>\n",
       "      <th></th>\n",
       "      <th></th>\n",
       "      <th></th>\n",
       "      <th></th>\n",
       "      <th></th>\n",
       "      <th></th>\n",
       "      <th></th>\n",
       "      <th></th>\n",
       "      <th></th>\n",
       "      <th></th>\n",
       "      <th></th>\n",
       "      <th></th>\n",
       "      <th></th>\n",
       "      <th></th>\n",
       "      <th></th>\n",
       "      <th></th>\n",
       "      <th></th>\n",
       "      <th></th>\n",
       "      <th></th>\n",
       "      <th></th>\n",
       "      <th></th>\n",
       "      <th></th>\n",
       "      <th></th>\n",
       "      <th></th>\n",
       "      <th></th>\n",
       "      <th></th>\n",
       "      <th></th>\n",
       "      <th></th>\n",
       "      <th></th>\n",
       "      <th></th>\n",
       "      <th></th>\n",
       "      <th></th>\n",
       "      <th></th>\n",
       "      <th></th>\n",
       "      <th></th>\n",
       "      <th></th>\n",
       "      <th></th>\n",
       "      <th></th>\n",
       "      <th></th>\n",
       "      <th></th>\n",
       "      <th></th>\n",
       "      <th></th>\n",
       "      <th></th>\n",
       "      <th></th>\n",
       "      <th></th>\n",
       "      <th></th>\n",
       "      <th></th>\n",
       "      <th></th>\n",
       "      <th></th>\n",
       "      <th></th>\n",
       "      <th></th>\n",
       "      <th></th>\n",
       "      <th></th>\n",
       "      <th></th>\n",
       "      <th></th>\n",
       "      <th></th>\n",
       "      <th></th>\n",
       "      <th></th>\n",
       "      <th></th>\n",
       "      <th></th>\n",
       "      <th></th>\n",
       "      <th></th>\n",
       "      <th></th>\n",
       "      <th></th>\n",
       "      <th></th>\n",
       "      <th></th>\n",
       "      <th></th>\n",
       "      <th></th>\n",
       "      <th></th>\n",
       "      <th></th>\n",
       "      <th></th>\n",
       "      <th></th>\n",
       "      <th></th>\n",
       "      <th></th>\n",
       "      <th></th>\n",
       "      <th></th>\n",
       "      <th></th>\n",
       "      <th></th>\n",
       "      <th></th>\n",
       "      <th></th>\n",
       "      <th></th>\n",
       "      <th></th>\n",
       "      <th></th>\n",
       "      <th></th>\n",
       "      <th></th>\n",
       "      <th></th>\n",
       "      <th></th>\n",
       "      <th></th>\n",
       "      <th></th>\n",
       "      <th></th>\n",
       "      <th></th>\n",
       "      <th></th>\n",
       "      <th></th>\n",
       "      <th></th>\n",
       "      <th></th>\n",
       "      <th></th>\n",
       "      <th></th>\n",
       "      <th></th>\n",
       "      <th></th>\n",
       "      <th></th>\n",
       "      <th></th>\n",
       "      <th></th>\n",
       "      <th></th>\n",
       "      <th></th>\n",
       "    </tr>\n",
       "  </thead>\n",
       "  <tbody>\n",
       "    <tr>\n",
       "      <th>1077501</th>\n",
       "      <td>1296599</td>\n",
       "      <td>5000</td>\n",
       "      <td>5000</td>\n",
       "      <td>4975.000</td>\n",
       "      <td>36 months</td>\n",
       "      <td>10.65%</td>\n",
       "      <td>162.870</td>\n",
       "      <td>B</td>\n",
       "      <td>B2</td>\n",
       "      <td>NaN</td>\n",
       "      <td>10+ years</td>\n",
       "      <td>RENT</td>\n",
       "      <td>24000.000</td>\n",
       "      <td>Verified</td>\n",
       "      <td>Dec-11</td>\n",
       "      <td>Fully Paid</td>\n",
       "      <td>n</td>\n",
       "      <td>https://lendingclub.com/browse/loanDetail.acti...</td>\n",
       "      <td>Borrower added on 12/22/11 &gt; I need to upgra...</td>\n",
       "      <td>credit_card</td>\n",
       "      <td>Computer</td>\n",
       "      <td>860xx</td>\n",
       "      <td>AZ</td>\n",
       "      <td>27.650</td>\n",
       "      <td>0</td>\n",
       "      <td>Jan-85</td>\n",
       "      <td>1</td>\n",
       "      <td>NaN</td>\n",
       "      <td>NaN</td>\n",
       "      <td>3</td>\n",
       "      <td>0</td>\n",
       "      <td>13648</td>\n",
       "      <td>83.70%</td>\n",
       "      <td>9</td>\n",
       "      <td>f</td>\n",
       "      <td>0.000</td>\n",
       "      <td>0.000</td>\n",
       "      <td>5863.155</td>\n",
       "      <td>5833.840</td>\n",
       "      <td>5000.000</td>\n",
       "      <td>863.160</td>\n",
       "      <td>0.000</td>\n",
       "      <td>0.000</td>\n",
       "      <td>0.000</td>\n",
       "      <td>Jan-15</td>\n",
       "      <td>171.620</td>\n",
       "      <td>NaN</td>\n",
       "      <td>May-16</td>\n",
       "      <td>0.000</td>\n",
       "      <td>NaN</td>\n",
       "      <td>1</td>\n",
       "      <td>INDIVIDUAL</td>\n",
       "      <td>NaN</td>\n",
       "      <td>NaN</td>\n",
       "      <td>NaN</td>\n",
       "      <td>0</td>\n",
       "      <td>NaN</td>\n",
       "      <td>NaN</td>\n",
       "      <td>NaN</td>\n",
       "      <td>NaN</td>\n",
       "      <td>NaN</td>\n",
       "      <td>NaN</td>\n",
       "      <td>NaN</td>\n",
       "      <td>NaN</td>\n",
       "      <td>NaN</td>\n",
       "      <td>NaN</td>\n",
       "      <td>NaN</td>\n",
       "      <td>NaN</td>\n",
       "      <td>NaN</td>\n",
       "      <td>NaN</td>\n",
       "      <td>NaN</td>\n",
       "      <td>NaN</td>\n",
       "      <td>NaN</td>\n",
       "      <td>NaN</td>\n",
       "      <td>NaN</td>\n",
       "      <td>NaN</td>\n",
       "      <td>NaN</td>\n",
       "      <td>0.000</td>\n",
       "      <td>0</td>\n",
       "      <td>NaN</td>\n",
       "      <td>NaN</td>\n",
       "      <td>NaN</td>\n",
       "      <td>NaN</td>\n",
       "      <td>NaN</td>\n",
       "      <td>NaN</td>\n",
       "      <td>NaN</td>\n",
       "      <td>NaN</td>\n",
       "      <td>NaN</td>\n",
       "      <td>NaN</td>\n",
       "      <td>NaN</td>\n",
       "      <td>NaN</td>\n",
       "      <td>NaN</td>\n",
       "      <td>NaN</td>\n",
       "      <td>NaN</td>\n",
       "      <td>NaN</td>\n",
       "      <td>NaN</td>\n",
       "      <td>NaN</td>\n",
       "      <td>NaN</td>\n",
       "      <td>NaN</td>\n",
       "      <td>NaN</td>\n",
       "      <td>NaN</td>\n",
       "      <td>NaN</td>\n",
       "      <td>NaN</td>\n",
       "      <td>NaN</td>\n",
       "      <td>0.000</td>\n",
       "      <td>0.000</td>\n",
       "      <td>NaN</td>\n",
       "      <td>NaN</td>\n",
       "      <td>NaN</td>\n",
       "      <td>NaN</td>\n",
       "    </tr>\n",
       "    <tr>\n",
       "      <th>1077430</th>\n",
       "      <td>1314167</td>\n",
       "      <td>2500</td>\n",
       "      <td>2500</td>\n",
       "      <td>2500.000</td>\n",
       "      <td>60 months</td>\n",
       "      <td>15.27%</td>\n",
       "      <td>59.830</td>\n",
       "      <td>C</td>\n",
       "      <td>C4</td>\n",
       "      <td>Ryder</td>\n",
       "      <td>&lt; 1 year</td>\n",
       "      <td>RENT</td>\n",
       "      <td>30000.000</td>\n",
       "      <td>Source Verified</td>\n",
       "      <td>Dec-11</td>\n",
       "      <td>Charged Off</td>\n",
       "      <td>n</td>\n",
       "      <td>https://lendingclub.com/browse/loanDetail.acti...</td>\n",
       "      <td>Borrower added on 12/22/11 &gt; I plan to use t...</td>\n",
       "      <td>car</td>\n",
       "      <td>bike</td>\n",
       "      <td>309xx</td>\n",
       "      <td>GA</td>\n",
       "      <td>1.000</td>\n",
       "      <td>0</td>\n",
       "      <td>Apr-99</td>\n",
       "      <td>5</td>\n",
       "      <td>NaN</td>\n",
       "      <td>NaN</td>\n",
       "      <td>3</td>\n",
       "      <td>0</td>\n",
       "      <td>1687</td>\n",
       "      <td>9.40%</td>\n",
       "      <td>4</td>\n",
       "      <td>f</td>\n",
       "      <td>0.000</td>\n",
       "      <td>0.000</td>\n",
       "      <td>1008.710</td>\n",
       "      <td>1008.710</td>\n",
       "      <td>456.460</td>\n",
       "      <td>435.170</td>\n",
       "      <td>0.000</td>\n",
       "      <td>117.080</td>\n",
       "      <td>1.110</td>\n",
       "      <td>Apr-13</td>\n",
       "      <td>119.660</td>\n",
       "      <td>NaN</td>\n",
       "      <td>Sep-13</td>\n",
       "      <td>0.000</td>\n",
       "      <td>NaN</td>\n",
       "      <td>1</td>\n",
       "      <td>INDIVIDUAL</td>\n",
       "      <td>NaN</td>\n",
       "      <td>NaN</td>\n",
       "      <td>NaN</td>\n",
       "      <td>0</td>\n",
       "      <td>NaN</td>\n",
       "      <td>NaN</td>\n",
       "      <td>NaN</td>\n",
       "      <td>NaN</td>\n",
       "      <td>NaN</td>\n",
       "      <td>NaN</td>\n",
       "      <td>NaN</td>\n",
       "      <td>NaN</td>\n",
       "      <td>NaN</td>\n",
       "      <td>NaN</td>\n",
       "      <td>NaN</td>\n",
       "      <td>NaN</td>\n",
       "      <td>NaN</td>\n",
       "      <td>NaN</td>\n",
       "      <td>NaN</td>\n",
       "      <td>NaN</td>\n",
       "      <td>NaN</td>\n",
       "      <td>NaN</td>\n",
       "      <td>NaN</td>\n",
       "      <td>NaN</td>\n",
       "      <td>NaN</td>\n",
       "      <td>0.000</td>\n",
       "      <td>0</td>\n",
       "      <td>NaN</td>\n",
       "      <td>NaN</td>\n",
       "      <td>NaN</td>\n",
       "      <td>NaN</td>\n",
       "      <td>NaN</td>\n",
       "      <td>NaN</td>\n",
       "      <td>NaN</td>\n",
       "      <td>NaN</td>\n",
       "      <td>NaN</td>\n",
       "      <td>NaN</td>\n",
       "      <td>NaN</td>\n",
       "      <td>NaN</td>\n",
       "      <td>NaN</td>\n",
       "      <td>NaN</td>\n",
       "      <td>NaN</td>\n",
       "      <td>NaN</td>\n",
       "      <td>NaN</td>\n",
       "      <td>NaN</td>\n",
       "      <td>NaN</td>\n",
       "      <td>NaN</td>\n",
       "      <td>NaN</td>\n",
       "      <td>NaN</td>\n",
       "      <td>NaN</td>\n",
       "      <td>NaN</td>\n",
       "      <td>NaN</td>\n",
       "      <td>0.000</td>\n",
       "      <td>0.000</td>\n",
       "      <td>NaN</td>\n",
       "      <td>NaN</td>\n",
       "      <td>NaN</td>\n",
       "      <td>NaN</td>\n",
       "    </tr>\n",
       "    <tr>\n",
       "      <th>1077175</th>\n",
       "      <td>1313524</td>\n",
       "      <td>2400</td>\n",
       "      <td>2400</td>\n",
       "      <td>2400.000</td>\n",
       "      <td>36 months</td>\n",
       "      <td>15.96%</td>\n",
       "      <td>84.330</td>\n",
       "      <td>C</td>\n",
       "      <td>C5</td>\n",
       "      <td>NaN</td>\n",
       "      <td>10+ years</td>\n",
       "      <td>RENT</td>\n",
       "      <td>12252.000</td>\n",
       "      <td>Not Verified</td>\n",
       "      <td>Dec-11</td>\n",
       "      <td>Fully Paid</td>\n",
       "      <td>n</td>\n",
       "      <td>https://lendingclub.com/browse/loanDetail.acti...</td>\n",
       "      <td>NaN</td>\n",
       "      <td>small_business</td>\n",
       "      <td>real estate business</td>\n",
       "      <td>606xx</td>\n",
       "      <td>IL</td>\n",
       "      <td>8.720</td>\n",
       "      <td>0</td>\n",
       "      <td>Nov-01</td>\n",
       "      <td>2</td>\n",
       "      <td>NaN</td>\n",
       "      <td>NaN</td>\n",
       "      <td>2</td>\n",
       "      <td>0</td>\n",
       "      <td>2956</td>\n",
       "      <td>98.50%</td>\n",
       "      <td>10</td>\n",
       "      <td>f</td>\n",
       "      <td>0.000</td>\n",
       "      <td>0.000</td>\n",
       "      <td>3005.667</td>\n",
       "      <td>3005.670</td>\n",
       "      <td>2400.000</td>\n",
       "      <td>605.670</td>\n",
       "      <td>0.000</td>\n",
       "      <td>0.000</td>\n",
       "      <td>0.000</td>\n",
       "      <td>Jun-14</td>\n",
       "      <td>649.910</td>\n",
       "      <td>NaN</td>\n",
       "      <td>May-16</td>\n",
       "      <td>0.000</td>\n",
       "      <td>NaN</td>\n",
       "      <td>1</td>\n",
       "      <td>INDIVIDUAL</td>\n",
       "      <td>NaN</td>\n",
       "      <td>NaN</td>\n",
       "      <td>NaN</td>\n",
       "      <td>0</td>\n",
       "      <td>NaN</td>\n",
       "      <td>NaN</td>\n",
       "      <td>NaN</td>\n",
       "      <td>NaN</td>\n",
       "      <td>NaN</td>\n",
       "      <td>NaN</td>\n",
       "      <td>NaN</td>\n",
       "      <td>NaN</td>\n",
       "      <td>NaN</td>\n",
       "      <td>NaN</td>\n",
       "      <td>NaN</td>\n",
       "      <td>NaN</td>\n",
       "      <td>NaN</td>\n",
       "      <td>NaN</td>\n",
       "      <td>NaN</td>\n",
       "      <td>NaN</td>\n",
       "      <td>NaN</td>\n",
       "      <td>NaN</td>\n",
       "      <td>NaN</td>\n",
       "      <td>NaN</td>\n",
       "      <td>NaN</td>\n",
       "      <td>0.000</td>\n",
       "      <td>0</td>\n",
       "      <td>NaN</td>\n",
       "      <td>NaN</td>\n",
       "      <td>NaN</td>\n",
       "      <td>NaN</td>\n",
       "      <td>NaN</td>\n",
       "      <td>NaN</td>\n",
       "      <td>NaN</td>\n",
       "      <td>NaN</td>\n",
       "      <td>NaN</td>\n",
       "      <td>NaN</td>\n",
       "      <td>NaN</td>\n",
       "      <td>NaN</td>\n",
       "      <td>NaN</td>\n",
       "      <td>NaN</td>\n",
       "      <td>NaN</td>\n",
       "      <td>NaN</td>\n",
       "      <td>NaN</td>\n",
       "      <td>NaN</td>\n",
       "      <td>NaN</td>\n",
       "      <td>NaN</td>\n",
       "      <td>NaN</td>\n",
       "      <td>NaN</td>\n",
       "      <td>NaN</td>\n",
       "      <td>NaN</td>\n",
       "      <td>NaN</td>\n",
       "      <td>0.000</td>\n",
       "      <td>0.000</td>\n",
       "      <td>NaN</td>\n",
       "      <td>NaN</td>\n",
       "      <td>NaN</td>\n",
       "      <td>NaN</td>\n",
       "    </tr>\n",
       "  </tbody>\n",
       "</table>\n",
       "</div>"
      ],
      "text/plain": [
       "         member_id  loan_amnt  funded_amnt  funded_amnt_inv        term int_rate  installment  \\\n",
       "id                                                                                              \n",
       "1077501    1296599       5000         5000         4975.000   36 months   10.65%      162.870   \n",
       "1077430    1314167       2500         2500         2500.000   60 months   15.27%       59.830   \n",
       "1077175    1313524       2400         2400         2400.000   36 months   15.96%       84.330   \n",
       "\n",
       "        grade sub_grade emp_title emp_length home_ownership  annual_inc verification_status  \\\n",
       "id                                                                                            \n",
       "1077501     B        B2       NaN  10+ years           RENT   24000.000            Verified   \n",
       "1077430     C        C4     Ryder   < 1 year           RENT   30000.000     Source Verified   \n",
       "1077175     C        C5       NaN  10+ years           RENT   12252.000        Not Verified   \n",
       "\n",
       "        issue_d  loan_status pymnt_plan                                                url  \\\n",
       "id                                                                                           \n",
       "1077501  Dec-11   Fully Paid          n  https://lendingclub.com/browse/loanDetail.acti...   \n",
       "1077430  Dec-11  Charged Off          n  https://lendingclub.com/browse/loanDetail.acti...   \n",
       "1077175  Dec-11   Fully Paid          n  https://lendingclub.com/browse/loanDetail.acti...   \n",
       "\n",
       "                                                      desc         purpose                 title  \\\n",
       "id                                                                                                 \n",
       "1077501    Borrower added on 12/22/11 > I need to upgra...     credit_card              Computer   \n",
       "1077430    Borrower added on 12/22/11 > I plan to use t...             car                  bike   \n",
       "1077175                                                NaN  small_business  real estate business   \n",
       "\n",
       "        zip_code addr_state    dti  delinq_2yrs earliest_cr_line  inq_last_6mths  \\\n",
       "id                                                                                 \n",
       "1077501    860xx         AZ 27.650            0           Jan-85               1   \n",
       "1077430    309xx         GA  1.000            0           Apr-99               5   \n",
       "1077175    606xx         IL  8.720            0           Nov-01               2   \n",
       "\n",
       "         mths_since_last_delinq  mths_since_last_record  open_acc  pub_rec  revol_bal revol_util  \\\n",
       "id                                                                                                 \n",
       "1077501                     NaN                     NaN         3        0      13648     83.70%   \n",
       "1077430                     NaN                     NaN         3        0       1687      9.40%   \n",
       "1077175                     NaN                     NaN         2        0       2956     98.50%   \n",
       "\n",
       "         total_acc initial_list_status  out_prncp  out_prncp_inv  total_pymnt  total_pymnt_inv  \\\n",
       "id                                                                                               \n",
       "1077501          9                   f      0.000          0.000     5863.155         5833.840   \n",
       "1077430          4                   f      0.000          0.000     1008.710         1008.710   \n",
       "1077175         10                   f      0.000          0.000     3005.667         3005.670   \n",
       "\n",
       "         total_rec_prncp  total_rec_int  total_rec_late_fee  recoveries  collection_recovery_fee  \\\n",
       "id                                                                                                 \n",
       "1077501         5000.000        863.160               0.000       0.000                    0.000   \n",
       "1077430          456.460        435.170               0.000     117.080                    1.110   \n",
       "1077175         2400.000        605.670               0.000       0.000                    0.000   \n",
       "\n",
       "        last_pymnt_d  last_pymnt_amnt next_pymnt_d last_credit_pull_d  collections_12_mths_ex_med  \\\n",
       "id                                                                                                  \n",
       "1077501       Jan-15          171.620          NaN             May-16                       0.000   \n",
       "1077430       Apr-13          119.660          NaN             Sep-13                       0.000   \n",
       "1077175       Jun-14          649.910          NaN             May-16                       0.000   \n",
       "\n",
       "         mths_since_last_major_derog  policy_code application_type  annual_inc_joint  dti_joint  \\\n",
       "id                                                                                                \n",
       "1077501                          NaN            1       INDIVIDUAL               NaN        NaN   \n",
       "1077430                          NaN            1       INDIVIDUAL               NaN        NaN   \n",
       "1077175                          NaN            1       INDIVIDUAL               NaN        NaN   \n",
       "\n",
       "         verification_status_joint  acc_now_delinq  tot_coll_amt  tot_cur_bal  open_acc_6m  \\\n",
       "id                                                                                           \n",
       "1077501                        NaN               0           NaN          NaN          NaN   \n",
       "1077430                        NaN               0           NaN          NaN          NaN   \n",
       "1077175                        NaN               0           NaN          NaN          NaN   \n",
       "\n",
       "         open_il_6m  open_il_12m  open_il_24m  mths_since_rcnt_il  total_bal_il  il_util  \\\n",
       "id                                                                                         \n",
       "1077501         NaN          NaN          NaN                 NaN           NaN      NaN   \n",
       "1077430         NaN          NaN          NaN                 NaN           NaN      NaN   \n",
       "1077175         NaN          NaN          NaN                 NaN           NaN      NaN   \n",
       "\n",
       "         open_rv_12m  open_rv_24m  max_bal_bc  all_util  total_rev_hi_lim  inq_fi  total_cu_tl  \\\n",
       "id                                                                                               \n",
       "1077501          NaN          NaN         NaN       NaN               NaN     NaN          NaN   \n",
       "1077430          NaN          NaN         NaN       NaN               NaN     NaN          NaN   \n",
       "1077175          NaN          NaN         NaN       NaN               NaN     NaN          NaN   \n",
       "\n",
       "         inq_last_12m  acc_open_past_24mths  avg_cur_bal  bc_open_to_buy  bc_util  \\\n",
       "id                                                                                  \n",
       "1077501           NaN                   NaN          NaN             NaN      NaN   \n",
       "1077430           NaN                   NaN          NaN             NaN      NaN   \n",
       "1077175           NaN                   NaN          NaN             NaN      NaN   \n",
       "\n",
       "         chargeoff_within_12_mths  delinq_amnt  mo_sin_old_il_acct  mo_sin_old_rev_tl_op  \\\n",
       "id                                                                                         \n",
       "1077501                     0.000            0                 NaN                   NaN   \n",
       "1077430                     0.000            0                 NaN                   NaN   \n",
       "1077175                     0.000            0                 NaN                   NaN   \n",
       "\n",
       "         mo_sin_rcnt_rev_tl_op  mo_sin_rcnt_tl  mort_acc  mths_since_recent_bc  \\\n",
       "id                                                                               \n",
       "1077501                    NaN             NaN       NaN                   NaN   \n",
       "1077430                    NaN             NaN       NaN                   NaN   \n",
       "1077175                    NaN             NaN       NaN                   NaN   \n",
       "\n",
       "         mths_since_recent_bc_dlq  mths_since_recent_inq  mths_since_recent_revol_delinq  \\\n",
       "id                                                                                         \n",
       "1077501                       NaN                    NaN                             NaN   \n",
       "1077430                       NaN                    NaN                             NaN   \n",
       "1077175                       NaN                    NaN                             NaN   \n",
       "\n",
       "         num_accts_ever_120_pd  num_actv_bc_tl  num_actv_rev_tl  num_bc_sats  num_bc_tl  \\\n",
       "id                                                                                        \n",
       "1077501                    NaN             NaN              NaN          NaN        NaN   \n",
       "1077430                    NaN             NaN              NaN          NaN        NaN   \n",
       "1077175                    NaN             NaN              NaN          NaN        NaN   \n",
       "\n",
       "         num_il_tl  num_op_rev_tl  num_rev_accts  num_rev_tl_bal_gt_0  num_sats  num_tl_120dpd_2m  \\\n",
       "id                                                                                                  \n",
       "1077501        NaN            NaN            NaN                  NaN       NaN               NaN   \n",
       "1077430        NaN            NaN            NaN                  NaN       NaN               NaN   \n",
       "1077175        NaN            NaN            NaN                  NaN       NaN               NaN   \n",
       "\n",
       "         num_tl_30dpd  num_tl_90g_dpd_24m  num_tl_op_past_12m  pct_tl_nvr_dlq  percent_bc_gt_75  \\\n",
       "id                                                                                                \n",
       "1077501           NaN                 NaN                 NaN             NaN               NaN   \n",
       "1077430           NaN                 NaN                 NaN             NaN               NaN   \n",
       "1077175           NaN                 NaN                 NaN             NaN               NaN   \n",
       "\n",
       "         pub_rec_bankruptcies  tax_liens  tot_hi_cred_lim  total_bal_ex_mort  total_bc_limit  \\\n",
       "id                                                                                             \n",
       "1077501                 0.000      0.000              NaN                NaN             NaN   \n",
       "1077430                 0.000      0.000              NaN                NaN             NaN   \n",
       "1077175                 0.000      0.000              NaN                NaN             NaN   \n",
       "\n",
       "         total_il_high_credit_limit  \n",
       "id                                   \n",
       "1077501                         NaN  \n",
       "1077430                         NaN  \n",
       "1077175                         NaN  "
      ]
     },
     "execution_count": 4,
     "metadata": {},
     "output_type": "execute_result"
    }
   ],
   "source": [
    "# displaying first three rows of loan_data\n",
    "Loan_data.head(3)"
   ]
  },
  {
   "cell_type": "code",
   "execution_count": 5,
   "id": "5244c166",
   "metadata": {},
   "outputs": [
    {
     "data": {
      "text/html": [
       "<div>\n",
       "<style scoped>\n",
       "    .dataframe tbody tr th:only-of-type {\n",
       "        vertical-align: middle;\n",
       "    }\n",
       "\n",
       "    .dataframe tbody tr th {\n",
       "        vertical-align: top;\n",
       "    }\n",
       "\n",
       "    .dataframe thead th {\n",
       "        text-align: right;\n",
       "    }\n",
       "</style>\n",
       "<table border=\"1\" class=\"dataframe\">\n",
       "  <thead>\n",
       "    <tr style=\"text-align: right;\">\n",
       "      <th></th>\n",
       "      <th>Description</th>\n",
       "      <th>Unnamed: 2</th>\n",
       "      <th>Unnamed: 3</th>\n",
       "      <th>Unnamed: 4</th>\n",
       "      <th>Unnamed: 5</th>\n",
       "      <th>Unnamed: 6</th>\n",
       "      <th>Unnamed: 7</th>\n",
       "      <th>Unnamed: 8</th>\n",
       "      <th>Unnamed: 9</th>\n",
       "      <th>Unnamed: 10</th>\n",
       "    </tr>\n",
       "    <tr>\n",
       "      <th>LoanStatNew</th>\n",
       "      <th></th>\n",
       "      <th></th>\n",
       "      <th></th>\n",
       "      <th></th>\n",
       "      <th></th>\n",
       "      <th></th>\n",
       "      <th></th>\n",
       "      <th></th>\n",
       "      <th></th>\n",
       "      <th></th>\n",
       "    </tr>\n",
       "  </thead>\n",
       "  <tbody>\n",
       "    <tr>\n",
       "      <th>acc_now_delinq</th>\n",
       "      <td>The number of accounts on which the borrower i...</td>\n",
       "      <td>NaN</td>\n",
       "      <td>NaN</td>\n",
       "      <td>NaN</td>\n",
       "      <td>NaN</td>\n",
       "      <td>NaN</td>\n",
       "      <td>NaN</td>\n",
       "      <td>NaN</td>\n",
       "      <td>NaN</td>\n",
       "      <td>NaN</td>\n",
       "    </tr>\n",
       "    <tr>\n",
       "      <th>acc_open_past_24mths</th>\n",
       "      <td>Number of trades opened in past 24 months.</td>\n",
       "      <td>NaN</td>\n",
       "      <td>NaN</td>\n",
       "      <td>NaN</td>\n",
       "      <td>NaN</td>\n",
       "      <td>NaN</td>\n",
       "      <td>NaN</td>\n",
       "      <td>NaN</td>\n",
       "      <td>NaN</td>\n",
       "      <td>NaN</td>\n",
       "    </tr>\n",
       "    <tr>\n",
       "      <th>addr_state</th>\n",
       "      <td>The state provided by the borrower in the loan...</td>\n",
       "      <td>NaN</td>\n",
       "      <td>NaN</td>\n",
       "      <td>NaN</td>\n",
       "      <td>NaN</td>\n",
       "      <td>NaN</td>\n",
       "      <td>NaN</td>\n",
       "      <td>NaN</td>\n",
       "      <td>NaN</td>\n",
       "      <td>NaN</td>\n",
       "    </tr>\n",
       "  </tbody>\n",
       "</table>\n",
       "</div>"
      ],
      "text/plain": [
       "                                                            Description  Unnamed: 2  Unnamed: 3  \\\n",
       "LoanStatNew                                                                                       \n",
       "acc_now_delinq        The number of accounts on which the borrower i...         NaN         NaN   \n",
       "acc_open_past_24mths         Number of trades opened in past 24 months.         NaN         NaN   \n",
       "addr_state            The state provided by the borrower in the loan...         NaN         NaN   \n",
       "\n",
       "                      Unnamed: 4  Unnamed: 5  Unnamed: 6  Unnamed: 7  Unnamed: 8  Unnamed: 9  \\\n",
       "LoanStatNew                                                                                    \n",
       "acc_now_delinq               NaN         NaN         NaN         NaN         NaN         NaN   \n",
       "acc_open_past_24mths         NaN         NaN         NaN         NaN         NaN         NaN   \n",
       "addr_state                   NaN         NaN         NaN         NaN         NaN         NaN   \n",
       "\n",
       "                      Unnamed: 10  \n",
       "LoanStatNew                        \n",
       "acc_now_delinq                NaN  \n",
       "acc_open_past_24mths          NaN  \n",
       "addr_state                    NaN  "
      ]
     },
     "execution_count": 5,
     "metadata": {},
     "output_type": "execute_result"
    }
   ],
   "source": [
    "## displaying first three rows of loan_schema\n",
    "Loan_schema.head(3)"
   ]
  },
  {
   "cell_type": "markdown",
   "id": "ef86498d",
   "metadata": {},
   "source": [
    "## <font color=\"blue\">Data Handling and Cleaning"
   ]
  },
  {
   "cell_type": "markdown",
   "id": "45abcb82",
   "metadata": {},
   "source": [
    "### Fixing rows and  columns"
   ]
  },
  {
   "cell_type": "code",
   "execution_count": 6,
   "id": "c343aaf8",
   "metadata": {},
   "outputs": [
    {
     "name": "stdout",
     "output_type": "stream",
     "text": [
      "shape of loan data   : (39717, 110)\n",
      "shape of loan schema : (117, 10)\n"
     ]
    }
   ],
   "source": [
    "#shape of the dataframes\n",
    "print(\"shape of loan data   :\", Loan_data.shape)\n",
    "print(\"shape of loan schema :\", Loan_schema.shape)"
   ]
  },
  {
   "cell_type": "code",
   "execution_count": 7,
   "id": "7a6a44cf",
   "metadata": {},
   "outputs": [
    {
     "name": "stdout",
     "output_type": "stream",
     "text": [
      "After dropping the empty columns, the shape of loan_schema is (117, 1)\n"
     ]
    }
   ],
   "source": [
    "#droping all empty columns in loan schema for easy usage\n",
    "Loan_schema.dropna(how=\"all\", axis=1, inplace=True)\n",
    "print(\"After dropping the empty columns, the shape of loan_schema is\",Loan_schema.shape)"
   ]
  },
  {
   "cell_type": "code",
   "execution_count": 8,
   "id": "feddb406",
   "metadata": {
    "scrolled": false
   },
   "outputs": [
    {
     "name": "stdout",
     "output_type": "stream",
     "text": [
      "After dropping the empty columns, the shape of loan_data is (39717, 56)\n"
     ]
    }
   ],
   "source": [
    "#deleting empty columns in loan data\n",
    "Loan_data.dropna(how=\"all\", axis=1,inplace=True)\n",
    "print(\"After dropping the empty columns, the shape of loan_data is\",Loan_data.shape)"
   ]
  },
  {
   "cell_type": "code",
   "execution_count": 9,
   "id": "9bcef2c4",
   "metadata": {},
   "outputs": [
    {
     "data": {
      "text/plain": [
       "(39717, 56)"
      ]
     },
     "execution_count": 9,
     "metadata": {},
     "output_type": "execute_result"
    }
   ],
   "source": [
    "#checking for empty rows in loan data\n",
    "Loan_data.dropna(how=\"all\", axis=0).shape"
   ]
  },
  {
   "cell_type": "markdown",
   "id": "db9a6c13",
   "metadata": {},
   "source": [
    "No empty rows in the dataframe"
   ]
  },
  {
   "cell_type": "code",
   "execution_count": 10,
   "id": "267b64ee",
   "metadata": {},
   "outputs": [
    {
     "name": "stdout",
     "output_type": "stream",
     "text": [
      "Total unique Id in Loan_data is 39717\n",
      "Total rows in the Loan_data is 39717\n"
     ]
    }
   ],
   "source": [
    "#checking for duplicate ID in loan data(index)\n",
    "print(\"Total unique Id in Loan_data is\", Loan_data.index.nunique())\n",
    "print(\"Total rows in the Loan_data is\",Loan_data.shape[0])"
   ]
  },
  {
   "cell_type": "markdown",
   "id": "2bfb9ffe",
   "metadata": {},
   "source": [
    "From this data, it is evident that the given dataset has no duplicate rows."
   ]
  },
  {
   "cell_type": "code",
   "execution_count": 11,
   "id": "c34424d9",
   "metadata": {},
   "outputs": [
    {
     "name": "stdout",
     "output_type": "stream",
     "text": [
      "After dropping the columns having same values, the shape is (39717, 47)\n"
     ]
    }
   ],
   "source": [
    "#droping the columns having same values\n",
    "nunique = Loan_data.nunique()\n",
    "Loan_data.drop(nunique[nunique==1].index , axis=1, inplace=True)\n",
    "print(\"After dropping the columns having same values, the shape is\",Loan_data.shape)"
   ]
  },
  {
   "cell_type": "code",
   "execution_count": 12,
   "id": "38761f86",
   "metadata": {},
   "outputs": [
    {
     "name": "stdout",
     "output_type": "stream",
     "text": [
      "After dropping url column, the shape is (39717, 46)\n"
     ]
    }
   ],
   "source": [
    "#droping the columns irrelavant to the study\n",
    "#we can drop url column, as it contains same host name and path\n",
    "Loan_data.drop([\"url\"], axis=1, inplace=True)\n",
    "print(\"After dropping url column, the shape is\",Loan_data.shape)"
   ]
  },
  {
   "cell_type": "code",
   "execution_count": 13,
   "id": "0d643f52",
   "metadata": {},
   "outputs": [],
   "source": [
    "#cleaning columns name\n",
    "Loan_data.columns = Loan_data.columns.str.strip().str.capitalize()\n",
    "Loan_schema.index = Loan_schema.index.str.strip().str.capitalize()\n",
    "Loan_data.index.name = \"Id\""
   ]
  },
  {
   "cell_type": "code",
   "execution_count": 14,
   "id": "27edb0c6",
   "metadata": {
    "scrolled": true
   },
   "outputs": [
    {
     "data": {
      "text/html": [
       "<div>\n",
       "<style scoped>\n",
       "    .dataframe tbody tr th:only-of-type {\n",
       "        vertical-align: middle;\n",
       "    }\n",
       "\n",
       "    .dataframe tbody tr th {\n",
       "        vertical-align: top;\n",
       "    }\n",
       "\n",
       "    .dataframe thead th {\n",
       "        text-align: right;\n",
       "    }\n",
       "</style>\n",
       "<table border=\"1\" class=\"dataframe\">\n",
       "  <thead>\n",
       "    <tr style=\"text-align: right;\">\n",
       "      <th></th>\n",
       "      <th>Member_id</th>\n",
       "      <th>Loan_amnt</th>\n",
       "      <th>Funded_amnt</th>\n",
       "      <th>Funded_amnt_inv</th>\n",
       "      <th>Term</th>\n",
       "      <th>Int_rate</th>\n",
       "      <th>Installment</th>\n",
       "      <th>Grade</th>\n",
       "      <th>Sub_grade</th>\n",
       "      <th>Emp_title</th>\n",
       "      <th>Emp_length</th>\n",
       "      <th>Home_ownership</th>\n",
       "      <th>Annual_inc</th>\n",
       "      <th>Verification_status</th>\n",
       "      <th>Issue_d</th>\n",
       "      <th>Loan_status</th>\n",
       "      <th>Desc</th>\n",
       "      <th>Purpose</th>\n",
       "      <th>Title</th>\n",
       "      <th>Zip_code</th>\n",
       "      <th>Addr_state</th>\n",
       "      <th>Dti</th>\n",
       "      <th>Delinq_2yrs</th>\n",
       "      <th>Earliest_cr_line</th>\n",
       "      <th>Inq_last_6mths</th>\n",
       "      <th>Mths_since_last_delinq</th>\n",
       "      <th>Mths_since_last_record</th>\n",
       "      <th>Open_acc</th>\n",
       "      <th>Pub_rec</th>\n",
       "      <th>Revol_bal</th>\n",
       "      <th>Revol_util</th>\n",
       "      <th>Total_acc</th>\n",
       "      <th>Out_prncp</th>\n",
       "      <th>Out_prncp_inv</th>\n",
       "      <th>Total_pymnt</th>\n",
       "      <th>Total_pymnt_inv</th>\n",
       "      <th>Total_rec_prncp</th>\n",
       "      <th>Total_rec_int</th>\n",
       "      <th>Total_rec_late_fee</th>\n",
       "      <th>Recoveries</th>\n",
       "      <th>Collection_recovery_fee</th>\n",
       "      <th>Last_pymnt_d</th>\n",
       "      <th>Last_pymnt_amnt</th>\n",
       "      <th>Next_pymnt_d</th>\n",
       "      <th>Last_credit_pull_d</th>\n",
       "      <th>Pub_rec_bankruptcies</th>\n",
       "    </tr>\n",
       "    <tr>\n",
       "      <th>Id</th>\n",
       "      <th></th>\n",
       "      <th></th>\n",
       "      <th></th>\n",
       "      <th></th>\n",
       "      <th></th>\n",
       "      <th></th>\n",
       "      <th></th>\n",
       "      <th></th>\n",
       "      <th></th>\n",
       "      <th></th>\n",
       "      <th></th>\n",
       "      <th></th>\n",
       "      <th></th>\n",
       "      <th></th>\n",
       "      <th></th>\n",
       "      <th></th>\n",
       "      <th></th>\n",
       "      <th></th>\n",
       "      <th></th>\n",
       "      <th></th>\n",
       "      <th></th>\n",
       "      <th></th>\n",
       "      <th></th>\n",
       "      <th></th>\n",
       "      <th></th>\n",
       "      <th></th>\n",
       "      <th></th>\n",
       "      <th></th>\n",
       "      <th></th>\n",
       "      <th></th>\n",
       "      <th></th>\n",
       "      <th></th>\n",
       "      <th></th>\n",
       "      <th></th>\n",
       "      <th></th>\n",
       "      <th></th>\n",
       "      <th></th>\n",
       "      <th></th>\n",
       "      <th></th>\n",
       "      <th></th>\n",
       "      <th></th>\n",
       "      <th></th>\n",
       "      <th></th>\n",
       "      <th></th>\n",
       "      <th></th>\n",
       "      <th></th>\n",
       "    </tr>\n",
       "  </thead>\n",
       "  <tbody>\n",
       "    <tr>\n",
       "      <th>1077501</th>\n",
       "      <td>1296599</td>\n",
       "      <td>5000</td>\n",
       "      <td>5000</td>\n",
       "      <td>4975.000</td>\n",
       "      <td>36 months</td>\n",
       "      <td>10.65%</td>\n",
       "      <td>162.870</td>\n",
       "      <td>B</td>\n",
       "      <td>B2</td>\n",
       "      <td>NaN</td>\n",
       "      <td>10+ years</td>\n",
       "      <td>RENT</td>\n",
       "      <td>24000.000</td>\n",
       "      <td>Verified</td>\n",
       "      <td>Dec-11</td>\n",
       "      <td>Fully Paid</td>\n",
       "      <td>Borrower added on 12/22/11 &gt; I need to upgra...</td>\n",
       "      <td>credit_card</td>\n",
       "      <td>Computer</td>\n",
       "      <td>860xx</td>\n",
       "      <td>AZ</td>\n",
       "      <td>27.650</td>\n",
       "      <td>0</td>\n",
       "      <td>Jan-85</td>\n",
       "      <td>1</td>\n",
       "      <td>NaN</td>\n",
       "      <td>NaN</td>\n",
       "      <td>3</td>\n",
       "      <td>0</td>\n",
       "      <td>13648</td>\n",
       "      <td>83.70%</td>\n",
       "      <td>9</td>\n",
       "      <td>0.000</td>\n",
       "      <td>0.000</td>\n",
       "      <td>5863.155</td>\n",
       "      <td>5833.840</td>\n",
       "      <td>5000.000</td>\n",
       "      <td>863.160</td>\n",
       "      <td>0.000</td>\n",
       "      <td>0.000</td>\n",
       "      <td>0.000</td>\n",
       "      <td>Jan-15</td>\n",
       "      <td>171.620</td>\n",
       "      <td>NaN</td>\n",
       "      <td>May-16</td>\n",
       "      <td>0.000</td>\n",
       "    </tr>\n",
       "    <tr>\n",
       "      <th>1077430</th>\n",
       "      <td>1314167</td>\n",
       "      <td>2500</td>\n",
       "      <td>2500</td>\n",
       "      <td>2500.000</td>\n",
       "      <td>60 months</td>\n",
       "      <td>15.27%</td>\n",
       "      <td>59.830</td>\n",
       "      <td>C</td>\n",
       "      <td>C4</td>\n",
       "      <td>Ryder</td>\n",
       "      <td>&lt; 1 year</td>\n",
       "      <td>RENT</td>\n",
       "      <td>30000.000</td>\n",
       "      <td>Source Verified</td>\n",
       "      <td>Dec-11</td>\n",
       "      <td>Charged Off</td>\n",
       "      <td>Borrower added on 12/22/11 &gt; I plan to use t...</td>\n",
       "      <td>car</td>\n",
       "      <td>bike</td>\n",
       "      <td>309xx</td>\n",
       "      <td>GA</td>\n",
       "      <td>1.000</td>\n",
       "      <td>0</td>\n",
       "      <td>Apr-99</td>\n",
       "      <td>5</td>\n",
       "      <td>NaN</td>\n",
       "      <td>NaN</td>\n",
       "      <td>3</td>\n",
       "      <td>0</td>\n",
       "      <td>1687</td>\n",
       "      <td>9.40%</td>\n",
       "      <td>4</td>\n",
       "      <td>0.000</td>\n",
       "      <td>0.000</td>\n",
       "      <td>1008.710</td>\n",
       "      <td>1008.710</td>\n",
       "      <td>456.460</td>\n",
       "      <td>435.170</td>\n",
       "      <td>0.000</td>\n",
       "      <td>117.080</td>\n",
       "      <td>1.110</td>\n",
       "      <td>Apr-13</td>\n",
       "      <td>119.660</td>\n",
       "      <td>NaN</td>\n",
       "      <td>Sep-13</td>\n",
       "      <td>0.000</td>\n",
       "    </tr>\n",
       "  </tbody>\n",
       "</table>\n",
       "</div>"
      ],
      "text/plain": [
       "         Member_id  Loan_amnt  Funded_amnt  Funded_amnt_inv        Term Int_rate  Installment  \\\n",
       "Id                                                                                              \n",
       "1077501    1296599       5000         5000         4975.000   36 months   10.65%      162.870   \n",
       "1077430    1314167       2500         2500         2500.000   60 months   15.27%       59.830   \n",
       "\n",
       "        Grade Sub_grade Emp_title Emp_length Home_ownership  Annual_inc Verification_status  \\\n",
       "Id                                                                                            \n",
       "1077501     B        B2       NaN  10+ years           RENT   24000.000            Verified   \n",
       "1077430     C        C4     Ryder   < 1 year           RENT   30000.000     Source Verified   \n",
       "\n",
       "        Issue_d  Loan_status                                               Desc      Purpose  \\\n",
       "Id                                                                                             \n",
       "1077501  Dec-11   Fully Paid    Borrower added on 12/22/11 > I need to upgra...  credit_card   \n",
       "1077430  Dec-11  Charged Off    Borrower added on 12/22/11 > I plan to use t...          car   \n",
       "\n",
       "            Title Zip_code Addr_state    Dti  Delinq_2yrs Earliest_cr_line  Inq_last_6mths  \\\n",
       "Id                                                                                           \n",
       "1077501  Computer    860xx         AZ 27.650            0           Jan-85               1   \n",
       "1077430      bike    309xx         GA  1.000            0           Apr-99               5   \n",
       "\n",
       "         Mths_since_last_delinq  Mths_since_last_record  Open_acc  Pub_rec  Revol_bal Revol_util  \\\n",
       "Id                                                                                                 \n",
       "1077501                     NaN                     NaN         3        0      13648     83.70%   \n",
       "1077430                     NaN                     NaN         3        0       1687      9.40%   \n",
       "\n",
       "         Total_acc  Out_prncp  Out_prncp_inv  Total_pymnt  Total_pymnt_inv  Total_rec_prncp  \\\n",
       "Id                                                                                            \n",
       "1077501          9      0.000          0.000     5863.155         5833.840         5000.000   \n",
       "1077430          4      0.000          0.000     1008.710         1008.710          456.460   \n",
       "\n",
       "         Total_rec_int  Total_rec_late_fee  Recoveries  Collection_recovery_fee Last_pymnt_d  \\\n",
       "Id                                                                                             \n",
       "1077501        863.160               0.000       0.000                    0.000       Jan-15   \n",
       "1077430        435.170               0.000     117.080                    1.110       Apr-13   \n",
       "\n",
       "         Last_pymnt_amnt Next_pymnt_d Last_credit_pull_d  Pub_rec_bankruptcies  \n",
       "Id                                                                              \n",
       "1077501          171.620          NaN             May-16                 0.000  \n",
       "1077430          119.660          NaN             Sep-13                 0.000  "
      ]
     },
     "execution_count": 14,
     "metadata": {},
     "output_type": "execute_result"
    }
   ],
   "source": [
    "Loan_data.head(2)"
   ]
  },
  {
   "cell_type": "markdown",
   "id": "56d443df",
   "metadata": {},
   "source": [
    "### Missing Value Treatment"
   ]
  },
  {
   "cell_type": "code",
   "execution_count": 15,
   "id": "564fa120",
   "metadata": {
    "scrolled": false
   },
   "outputs": [
    {
     "data": {
      "image/png": "[encoded data removed]",
      "text/plain": [
       "<Figure size 720x432 with 1 Axes>"
      ]
     },
     "metadata": {},
     "output_type": "display_data"
    }
   ],
   "source": [
    "#plotting missing values in loan data\n",
    "plt.style.use(\"seaborn\")\n",
    "plt.figure(figsize=(10,6))\n",
    "Loan_data.count().plot.bar()\n",
    "plt.xticks(rotation=90,fontsize=7)\n",
    "plt.title(\"Missing values in Loan data\",fontsize=20)\n",
    "plt.xlabel(\"columns\", fontsize=15)\n",
    "plt.ylabel(\"counts\",fontsize=15)\n",
    "plt.show()"
   ]
  },
  {
   "cell_type": "markdown",
   "id": "1de655de",
   "metadata": {},
   "source": [
    "#### Columns with missing values more than 50%:\n",
    "\n",
    "The columns Mths_since_last_record,Mths_since_last_delinq, Next_pymnt_d have missing values more than 50%.\n",
    "\n",
    "#### Suggestion:\n",
    "\n",
    ">We can drop the columns Mths_since_last_record, Mths_since_last_delinq, Next_pymnt_d."
   ]
  },
  {
   "cell_type": "code",
   "execution_count": 16,
   "id": "c4b1f9e6",
   "metadata": {
    "scrolled": true
   },
   "outputs": [
    {
     "data": {
      "text/plain": [
       "(39717, 43)"
      ]
     },
     "execution_count": 16,
     "metadata": {},
     "output_type": "execute_result"
    }
   ],
   "source": [
    "#dropping the columns having missing value more than 50%\n",
    "Loan_data.drop([\"Mths_since_last_record\",\"Mths_since_last_delinq\",\"Next_pymnt_d\"], axis=1, inplace=True)\n",
    "Loan_data.shape"
   ]
  },
  {
   "cell_type": "markdown",
   "id": "d881cd55",
   "metadata": {},
   "source": [
    "#### Cleaning Desc column:"
   ]
  },
  {
   "cell_type": "code",
   "execution_count": 17,
   "id": "5d3fd285",
   "metadata": {
    "scrolled": true
   },
   "outputs": [
    {
     "name": "stdout",
     "output_type": "stream",
     "text": [
      "Total number of missing values in Desc column are 12940\n"
     ]
    }
   ],
   "source": [
    "print(\"Total number of missing values in Desc column are\",Loan_data[\"Desc\"].isnull().sum())"
   ]
  },
  {
   "cell_type": "markdown",
   "id": "20fbb233",
   "metadata": {},
   "source": [
    "#### Suggestion:\n",
    "\n",
    ">We can drop the Desc column, as it contains more missing values."
   ]
  },
  {
   "cell_type": "code",
   "execution_count": 18,
   "id": "c1fe2a16",
   "metadata": {
    "scrolled": true
   },
   "outputs": [],
   "source": [
    "#dropping Desc column\n",
    "Loan_data.drop(\"Desc\", axis=1, inplace=True)"
   ]
  },
  {
   "cell_type": "markdown",
   "id": "51295213",
   "metadata": {},
   "source": [
    "#### Cleaning the columns Emp_title and Emp_length:"
   ]
  },
  {
   "cell_type": "code",
   "execution_count": 19,
   "id": "817736cf",
   "metadata": {
    "scrolled": true
   },
   "outputs": [
    {
     "name": "stdout",
     "output_type": "stream",
     "text": [
      "Missing values in Emp_title column are 2459\n",
      "Missing values in Emp_length column are 1075\n"
     ]
    }
   ],
   "source": [
    "print(\"Missing values in Emp_title column are\", Loan_data[\"Emp_title\"].isnull().sum())\n",
    "print(\"Missing values in Emp_length column are\", Loan_data[\"Emp_length\"].isnull().sum())"
   ]
  },
  {
   "cell_type": "markdown",
   "id": "7139024d",
   "metadata": {},
   "source": [
    "#### Suggestion:\n",
    ">As the columns Emp_title and Emp_length are key variables for the study, we can drop the missing value rows."
   ]
  },
  {
   "cell_type": "code",
   "execution_count": 20,
   "id": "9c9f32a3",
   "metadata": {},
   "outputs": [],
   "source": [
    "#droping rows having nan values in Emp_title column\n",
    "Loan_data = Loan_data[-(Loan_data[\"Emp_title\"].isnull())]"
   ]
  },
  {
   "cell_type": "code",
   "execution_count": 21,
   "id": "2ee16f02",
   "metadata": {},
   "outputs": [],
   "source": [
    "#droping rows having nan values in Emp_length column\n",
    "Loan_data = Loan_data[-(Loan_data[\"Emp_length\"].isnull())]"
   ]
  },
  {
   "cell_type": "markdown",
   "id": "791e58cd",
   "metadata": {},
   "source": [
    "#### Cleaning the Revol_util column:"
   ]
  },
  {
   "cell_type": "code",
   "execution_count": 22,
   "id": "744c9c85",
   "metadata": {
    "scrolled": true
   },
   "outputs": [
    {
     "name": "stdout",
     "output_type": "stream",
     "text": [
      "Missing values in Revol_util column are 46\n"
     ]
    }
   ],
   "source": [
    "print(\"Missing values in Revol_util column are\", Loan_data[\"Revol_util\"].isnull().sum())"
   ]
  },
  {
   "cell_type": "markdown",
   "id": "b977ffc9",
   "metadata": {},
   "source": [
    "#### suggestion:\n",
    "> We can fill the mode value in the place of missing values."
   ]
  },
  {
   "cell_type": "code",
   "execution_count": 23,
   "id": "34d2fbd8",
   "metadata": {},
   "outputs": [
    {
     "data": {
      "text/plain": [
       "0%        883\n",
       "0.20%      60\n",
       "63%        58\n",
       "66.60%     55\n",
       "70.40%     55\n",
       "         ... \n",
       "0.04%       1\n",
       "11.62%      1\n",
       "70.26%      1\n",
       "33.29%      1\n",
       "8.01%       1\n",
       "Name: Revol_util, Length: 1082, dtype: int64"
      ]
     },
     "execution_count": 23,
     "metadata": {},
     "output_type": "execute_result"
    }
   ],
   "source": [
    "Loan_data[\"Revol_util\"].value_counts()"
   ]
  },
  {
   "cell_type": "code",
   "execution_count": 24,
   "id": "a8dc150b",
   "metadata": {
    "scrolled": true
   },
   "outputs": [],
   "source": [
    "#filling the missing values with mode value\n",
    "Loan_data[\"Revol_util\"].fillna(Loan_data[\"Revol_util\"].mode()[0], inplace=True)"
   ]
  },
  {
   "cell_type": "markdown",
   "id": "22b50415",
   "metadata": {},
   "source": [
    "#### Cleaning the Title column:"
   ]
  },
  {
   "cell_type": "code",
   "execution_count": 25,
   "id": "7f904f9d",
   "metadata": {
    "scrolled": true
   },
   "outputs": [
    {
     "name": "stdout",
     "output_type": "stream",
     "text": [
      "Missing values in Title column are 9\n"
     ]
    }
   ],
   "source": [
    "print(\"Missing values in Title column are\", Loan_data[\"Title\"].isnull().sum())"
   ]
  },
  {
   "cell_type": "markdown",
   "id": "754dfcc3",
   "metadata": {},
   "source": [
    "#### Suggestion:\n",
    "> We can fill the mode value in the place of missing values."
   ]
  },
  {
   "cell_type": "code",
   "execution_count": 26,
   "id": "1d78f240",
   "metadata": {},
   "outputs": [
    {
     "data": {
      "text/plain": [
       "Debt Consolidation                       2089\n",
       "Debt Consolidation Loan                  1652\n",
       "Personal Loan                             632\n",
       "Consolidation                             501\n",
       "debt consolidation                        473\n",
       "                                         ... \n",
       "George                                      1\n",
       "Discover Payments                           1\n",
       "new air conditioner and stair railing       1\n",
       "Med                                         1\n",
       "Frank's Loan                                1\n",
       "Name: Title, Length: 18391, dtype: int64"
      ]
     },
     "execution_count": 26,
     "metadata": {},
     "output_type": "execute_result"
    }
   ],
   "source": [
    "Loan_data[\"Title\"].value_counts()"
   ]
  },
  {
   "cell_type": "code",
   "execution_count": 27,
   "id": "de0e0cc0",
   "metadata": {},
   "outputs": [],
   "source": [
    "#filling the missing value with mode value\n",
    "Loan_data[\"Title\"].fillna(Loan_data[\"Title\"].mode()[0], inplace=True)"
   ]
  },
  {
   "cell_type": "markdown",
   "id": "7f1a0267",
   "metadata": {},
   "source": [
    "#### Cleaning the Last_pymnt_d column:"
   ]
  },
  {
   "cell_type": "code",
   "execution_count": 28,
   "id": "30472e60",
   "metadata": {
    "scrolled": true
   },
   "outputs": [
    {
     "name": "stdout",
     "output_type": "stream",
     "text": [
      "Missing values in Last_pymnt_d column are 64\n"
     ]
    }
   ],
   "source": [
    "print(\"Missing values in Last_pymnt_d column are\", Loan_data[\"Last_pymnt_d\"].isnull().sum())"
   ]
  },
  {
   "cell_type": "markdown",
   "id": "09d4c898",
   "metadata": {},
   "source": [
    "#### Suggestion:\n",
    "> We can fill the mode value in the place of missing values."
   ]
  },
  {
   "cell_type": "code",
   "execution_count": 29,
   "id": "bca4d379",
   "metadata": {
    "scrolled": false
   },
   "outputs": [
    {
     "data": {
      "text/plain": [
       "May-16    1174\n",
       "Mar-13     969\n",
       "Dec-14     876\n",
       "May-13     857\n",
       "Feb-13     817\n",
       "          ... \n",
       "Jun-08      10\n",
       "Apr-08      10\n",
       "Mar-08       5\n",
       "Jan-08       2\n",
       "Feb-08       1\n",
       "Name: Last_pymnt_d, Length: 101, dtype: int64"
      ]
     },
     "execution_count": 29,
     "metadata": {},
     "output_type": "execute_result"
    }
   ],
   "source": [
    "#cleaning Last_pymnt_d column\n",
    "Loan_data[\"Last_pymnt_d\"].value_counts()"
   ]
  },
  {
   "cell_type": "code",
   "execution_count": 30,
   "id": "01b61995",
   "metadata": {},
   "outputs": [],
   "source": [
    "#filling missing values with mode value\n",
    "Loan_data[\"Last_pymnt_d\"].fillna(Loan_data[\"Last_pymnt_d\"].mode()[0],inplace=True)"
   ]
  },
  {
   "cell_type": "markdown",
   "id": "42febcf0",
   "metadata": {},
   "source": [
    "#### Cleaning the Pub_rec_bankruptcies column:"
   ]
  },
  {
   "cell_type": "code",
   "execution_count": 31,
   "id": "195e3a2b",
   "metadata": {
    "scrolled": false
   },
   "outputs": [
    {
     "name": "stdout",
     "output_type": "stream",
     "text": [
      "Missing values in Pub_rec_bankruptcies column are 654\n"
     ]
    }
   ],
   "source": [
    "print(\"Missing values in Pub_rec_bankruptcies column are\", Loan_data[\"Pub_rec_bankruptcies\"].isnull().sum())"
   ]
  },
  {
   "cell_type": "markdown",
   "id": "d920a17b",
   "metadata": {},
   "source": [
    "#### suggestion:\n",
    "> We can fill the mode value in the place of missing values."
   ]
  },
  {
   "cell_type": "code",
   "execution_count": 32,
   "id": "bfdfb044",
   "metadata": {
    "scrolled": false
   },
   "outputs": [
    {
     "data": {
      "text/plain": [
       "0.000    35039\n",
       "1.000     1502\n",
       "2.000        7\n",
       "Name: Pub_rec_bankruptcies, dtype: int64"
      ]
     },
     "execution_count": 32,
     "metadata": {},
     "output_type": "execute_result"
    }
   ],
   "source": [
    "Loan_data[\"Pub_rec_bankruptcies\"].value_counts()"
   ]
  },
  {
   "cell_type": "code",
   "execution_count": 33,
   "id": "45a171ba",
   "metadata": {},
   "outputs": [],
   "source": [
    "#cleaning Pub_rec_bankruptcies column\n",
    "Loan_data[\"Pub_rec_bankruptcies\"].fillna(Loan_data[\"Pub_rec_bankruptcies\"].mode()[0], inplace=True)"
   ]
  },
  {
   "cell_type": "code",
   "execution_count": 34,
   "id": "36a240ff",
   "metadata": {},
   "outputs": [
    {
     "name": "stdout",
     "output_type": "stream",
     "text": [
      "The final shape of the loan data after dropping all the unnecessary rows and columns is (37202, 42)\n"
     ]
    }
   ],
   "source": [
    "print(\"The final shape of the loan data after dropping all the unnecessary rows and columns is\",Loan_data.shape)"
   ]
  },
  {
   "cell_type": "code",
   "execution_count": 35,
   "id": "fb5e9901",
   "metadata": {},
   "outputs": [
    {
     "name": "stdout",
     "output_type": "stream",
     "text": [
      "<class 'pandas.core.frame.DataFrame'>\n",
      "Int64Index: 37202 entries, 1077430 to 87023\n",
      "Data columns (total 42 columns):\n",
      " #   Column                   Non-Null Count  Dtype  \n",
      "---  ------                   --------------  -----  \n",
      " 0   Member_id                37202 non-null  int64  \n",
      " 1   Loan_amnt                37202 non-null  int64  \n",
      " 2   Funded_amnt              37202 non-null  int64  \n",
      " 3   Funded_amnt_inv          37202 non-null  float64\n",
      " 4   Term                     37202 non-null  object \n",
      " 5   Int_rate                 37202 non-null  object \n",
      " 6   Installment              37202 non-null  float64\n",
      " 7   Grade                    37202 non-null  object \n",
      " 8   Sub_grade                37202 non-null  object \n",
      " 9   Emp_title                37202 non-null  object \n",
      " 10  Emp_length               37202 non-null  object \n",
      " 11  Home_ownership           37202 non-null  object \n",
      " 12  Annual_inc               37202 non-null  float64\n",
      " 13  Verification_status      37202 non-null  object \n",
      " 14  Issue_d                  37202 non-null  object \n",
      " 15  Loan_status              37202 non-null  object \n",
      " 16  Purpose                  37202 non-null  object \n",
      " 17  Title                    37202 non-null  object \n",
      " 18  Zip_code                 37202 non-null  object \n",
      " 19  Addr_state               37202 non-null  object \n",
      " 20  Dti                      37202 non-null  float64\n",
      " 21  Delinq_2yrs              37202 non-null  int64  \n",
      " 22  Earliest_cr_line         37202 non-null  object \n",
      " 23  Inq_last_6mths           37202 non-null  int64  \n",
      " 24  Open_acc                 37202 non-null  int64  \n",
      " 25  Pub_rec                  37202 non-null  int64  \n",
      " 26  Revol_bal                37202 non-null  int64  \n",
      " 27  Revol_util               37202 non-null  object \n",
      " 28  Total_acc                37202 non-null  int64  \n",
      " 29  Out_prncp                37202 non-null  float64\n",
      " 30  Out_prncp_inv            37202 non-null  float64\n",
      " 31  Total_pymnt              37202 non-null  float64\n",
      " 32  Total_pymnt_inv          37202 non-null  float64\n",
      " 33  Total_rec_prncp          37202 non-null  float64\n",
      " 34  Total_rec_int            37202 non-null  float64\n",
      " 35  Total_rec_late_fee       37202 non-null  float64\n",
      " 36  Recoveries               37202 non-null  float64\n",
      " 37  Collection_recovery_fee  37202 non-null  float64\n",
      " 38  Last_pymnt_d             37202 non-null  object \n",
      " 39  Last_pymnt_amnt          37202 non-null  float64\n",
      " 40  Last_credit_pull_d       37202 non-null  object \n",
      " 41  Pub_rec_bankruptcies     37202 non-null  float64\n",
      "dtypes: float64(15), int64(9), object(18)\n",
      "memory usage: 12.2+ MB\n"
     ]
    }
   ],
   "source": [
    "Loan_data.info()"
   ]
  },
  {
   "cell_type": "code",
   "execution_count": null,
   "id": "dd10d093",
   "metadata": {},
   "outputs": [],
   "source": []
  }
 ],
 "metadata": {
  "kernelspec": {
   "display_name": "Python 3",
   "language": "python",
   "name": "python3"
  },
  "language_info": {
   "codemirror_mode": {
    "name": "ipython",
    "version": 3
   },
   "file_extension": ".py",
   "mimetype": "text/x-python",
   "name": "python",
   "nbconvert_exporter": "python",
   "pygments_lexer": "ipython3",
   "version": "3.8.8"
  }
 },
 "nbformat": 4,
 "nbformat_minor": 5
}
