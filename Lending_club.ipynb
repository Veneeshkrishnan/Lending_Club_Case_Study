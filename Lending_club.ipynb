{
 "cells": [
  {
   "cell_type": "markdown",
   "id": "c0726ebc",
   "metadata": {},
   "source": [
    "# LENDING CLUB CASE STUDY\n"
   ]
  },
  {
   "cell_type": "markdown",
   "id": "76194c01",
   "metadata": {},
   "source": [
    " ## <font color='blue'>Introduction</font>\n",
    " \n",
    " >   A very important area of risk analytics of banking and financial services is identifing risky applicants.This case study aims to provide us an idea of implementing EDA to figure out the solution for this problem. we will also develope a basic understanding of risk analytics in banking and financial services. "
   ]
  },
  {
   "cell_type": "markdown",
   "id": "90abd121",
   "metadata": {},
   "source": [
    "## <font color=\"blue\">Business understanding</font>\n",
    "\n",
    "   >When a company receives a loan application from the applicant, the company has to decide whether to approve it or not based on the applicant's profile.\n",
    "There are two types of risk involved in it:\n",
    ">- Approving loan to the applicant, who is not likely to pay, which leads to financial loss.\n",
    ">- Not approving loan to the applicant, who is likely to pay, which leads to business loss.\n",
    ">\n",
    ">when a person applies for a loan, the lender could take two types of decision:\n",
    "> ### 1.Loan accepted: \n",
    ">If the company approves the loan, then there are three possible scenarios:\n",
    ">- Fully paid - The Customer has fully paid the loan.\n",
    ">- Current - The customer is in the process of paying the loan. The tenure of the loan is not yet completed.\n",
    ">- Charged-off - The customer who failed to repay the loan in due time for a long period of time.\n",
    ">\n",
    "> ### 2.Loan rejected:\n",
    "> The company had rejected the loan because the client does not meet the requirement of the loan.\n"
   ]
  },
  {
   "cell_type": "markdown",
   "id": "160d57fe",
   "metadata": {},
   "source": [
    "##  <font color=\"blue\">Business objectives\n",
    "    \n",
    ">   In order to avoid the credit loss, it is necessary to identify patterns which indicates if a person is likely to default, so that the lenders can take decisions like rejecting the loan, reducing the amount of loan, lending loan with high interest rate, etc. This will ensure that customers who is likely to repay the loan are not rejected.\n",
    ">\n",
    ">The company wants to identify the driving factors beyond loan defaults. If they understood the driving factor, they can able to take effective decisions. "
   ]
  },
  {
   "cell_type": "markdown",
   "id": "ce791317",
   "metadata": {},
   "source": [
    "## <font color=\"blue\">Data understanding\n",
    "    \n",
    "> ### 1. 'loan.csv'\n",
    "> It contains all the information about past loan applicants and whether they paid on due time or got defaulted.\n",
    ">\n",
    "> ### 2. 'Data_Dictionary.xlsx'\n",
    "> It is a data dictionary which describes the meaning of the variable."
   ]
  },
  {
   "cell_type": "markdown",
   "id": "9410b5e2",
   "metadata": {},
   "source": [
    "## <font color=\"blue\">Importing Libraries"
   ]
  },
  {
   "cell_type": "code",
   "execution_count": 1,
   "id": "88640fa5",
   "metadata": {},
   "outputs": [],
   "source": [
    "import numpy as np\n",
    "import pandas as pd\n",
    "import matplotlib.pyplot as plt\n",
    "from matplotlib import style\n",
    "import seaborn as sns\n",
    "import datetime as dt"
   ]
  },
  {
   "cell_type": "markdown",
   "id": "a1b92ec8",
   "metadata": {},
   "source": [
    "## <font color=\"blue\">Customizing Settings"
   ]
  },
  {
   "cell_type": "code",
   "execution_count": 2,
   "id": "b78c15ac",
   "metadata": {},
   "outputs": [],
   "source": [
    "# Expanding output display to see all columns\n",
    "pd.set_option(\"display.max_columns\", None)\n",
    "pd.set_option(\"display.float_format\", lambda x:\"%.3f\" %x)\n",
    "pd.set_option(\"display.width\", 100)"
   ]
  },
  {
   "cell_type": "markdown",
   "id": "b10bcfc6",
   "metadata": {},
   "source": [
    "## <font color=\"blue\">Importing Data"
   ]
  },
  {
   "cell_type": "code",
   "execution_count": 3,
   "id": "ffe4f51d",
   "metadata": {},
   "outputs": [],
   "source": [
    "#importing loan data\n",
    "#As the data contains different dtypes in a same column, allowing to access more memory will avoid future errors\n",
    "Loan_data = pd.read_csv(\"loan.csv\", low_memory=False, index_col=\"id\")\n",
    "\n",
    "#importing data dictionary for the reference\n",
    "Loan_schema = pd.read_excel(\"Data_Dictionary.xlsx\", index_col=\"LoanStatNew\")"
   ]
  },
  {
   "cell_type": "code",
   "execution_count": 4,
   "id": "b3efe318",
   "metadata": {},
   "outputs": [
    {
     "data": {
      "text/html": [
       "<div>\n",
       "<style scoped>\n",
       "    .dataframe tbody tr th:only-of-type {\n",
       "        vertical-align: middle;\n",
       "    }\n",
       "\n",
       "    .dataframe tbody tr th {\n",
       "        vertical-align: top;\n",
       "    }\n",
       "\n",
       "    .dataframe thead th {\n",
       "        text-align: right;\n",
       "    }\n",
       "</style>\n",
       "<table border=\"1\" class=\"dataframe\">\n",
       "  <thead>\n",
       "    <tr style=\"text-align: right;\">\n",
       "      <th></th>\n",
       "      <th>member_id</th>\n",
       "      <th>loan_amnt</th>\n",
       "      <th>funded_amnt</th>\n",
       "      <th>funded_amnt_inv</th>\n",
       "      <th>term</th>\n",
       "      <th>int_rate</th>\n",
       "      <th>installment</th>\n",
       "      <th>grade</th>\n",
       "      <th>sub_grade</th>\n",
       "      <th>emp_title</th>\n",
       "      <th>emp_length</th>\n",
       "      <th>home_ownership</th>\n",
       "      <th>annual_inc</th>\n",
       "      <th>verification_status</th>\n",
       "      <th>issue_d</th>\n",
       "      <th>loan_status</th>\n",
       "      <th>pymnt_plan</th>\n",
       "      <th>url</th>\n",
       "      <th>desc</th>\n",
       "      <th>purpose</th>\n",
       "      <th>title</th>\n",
       "      <th>zip_code</th>\n",
       "      <th>addr_state</th>\n",
       "      <th>dti</th>\n",
       "      <th>delinq_2yrs</th>\n",
       "      <th>earliest_cr_line</th>\n",
       "      <th>inq_last_6mths</th>\n",
       "      <th>mths_since_last_delinq</th>\n",
       "      <th>mths_since_last_record</th>\n",
       "      <th>open_acc</th>\n",
       "      <th>pub_rec</th>\n",
       "      <th>revol_bal</th>\n",
       "      <th>revol_util</th>\n",
       "      <th>total_acc</th>\n",
       "      <th>initial_list_status</th>\n",
       "      <th>out_prncp</th>\n",
       "      <th>out_prncp_inv</th>\n",
       "      <th>total_pymnt</th>\n",
       "      <th>total_pymnt_inv</th>\n",
       "      <th>total_rec_prncp</th>\n",
       "      <th>total_rec_int</th>\n",
       "      <th>total_rec_late_fee</th>\n",
       "      <th>recoveries</th>\n",
       "      <th>collection_recovery_fee</th>\n",
       "      <th>last_pymnt_d</th>\n",
       "      <th>last_pymnt_amnt</th>\n",
       "      <th>next_pymnt_d</th>\n",
       "      <th>last_credit_pull_d</th>\n",
       "      <th>collections_12_mths_ex_med</th>\n",
       "      <th>mths_since_last_major_derog</th>\n",
       "      <th>policy_code</th>\n",
       "      <th>application_type</th>\n",
       "      <th>annual_inc_joint</th>\n",
       "      <th>dti_joint</th>\n",
       "      <th>verification_status_joint</th>\n",
       "      <th>acc_now_delinq</th>\n",
       "      <th>tot_coll_amt</th>\n",
       "      <th>tot_cur_bal</th>\n",
       "      <th>open_acc_6m</th>\n",
       "      <th>open_il_6m</th>\n",
       "      <th>open_il_12m</th>\n",
       "      <th>open_il_24m</th>\n",
       "      <th>mths_since_rcnt_il</th>\n",
       "      <th>total_bal_il</th>\n",
       "      <th>il_util</th>\n",
       "      <th>open_rv_12m</th>\n",
       "      <th>open_rv_24m</th>\n",
       "      <th>max_bal_bc</th>\n",
       "      <th>all_util</th>\n",
       "      <th>total_rev_hi_lim</th>\n",
       "      <th>inq_fi</th>\n",
       "      <th>total_cu_tl</th>\n",
       "      <th>inq_last_12m</th>\n",
       "      <th>acc_open_past_24mths</th>\n",
       "      <th>avg_cur_bal</th>\n",
       "      <th>bc_open_to_buy</th>\n",
       "      <th>bc_util</th>\n",
       "      <th>chargeoff_within_12_mths</th>\n",
       "      <th>delinq_amnt</th>\n",
       "      <th>mo_sin_old_il_acct</th>\n",
       "      <th>mo_sin_old_rev_tl_op</th>\n",
       "      <th>mo_sin_rcnt_rev_tl_op</th>\n",
       "      <th>mo_sin_rcnt_tl</th>\n",
       "      <th>mort_acc</th>\n",
       "      <th>mths_since_recent_bc</th>\n",
       "      <th>mths_since_recent_bc_dlq</th>\n",
       "      <th>mths_since_recent_inq</th>\n",
       "      <th>mths_since_recent_revol_delinq</th>\n",
       "      <th>num_accts_ever_120_pd</th>\n",
       "      <th>num_actv_bc_tl</th>\n",
       "      <th>num_actv_rev_tl</th>\n",
       "      <th>num_bc_sats</th>\n",
       "      <th>num_bc_tl</th>\n",
       "      <th>num_il_tl</th>\n",
       "      <th>num_op_rev_tl</th>\n",
       "      <th>num_rev_accts</th>\n",
       "      <th>num_rev_tl_bal_gt_0</th>\n",
       "      <th>num_sats</th>\n",
       "      <th>num_tl_120dpd_2m</th>\n",
       "      <th>num_tl_30dpd</th>\n",
       "      <th>num_tl_90g_dpd_24m</th>\n",
       "      <th>num_tl_op_past_12m</th>\n",
       "      <th>pct_tl_nvr_dlq</th>\n",
       "      <th>percent_bc_gt_75</th>\n",
       "      <th>pub_rec_bankruptcies</th>\n",
       "      <th>tax_liens</th>\n",
       "      <th>tot_hi_cred_lim</th>\n",
       "      <th>total_bal_ex_mort</th>\n",
       "      <th>total_bc_limit</th>\n",
       "      <th>total_il_high_credit_limit</th>\n",
       "    </tr>\n",
       "    <tr>\n",
       "      <th>id</th>\n",
       "      <th></th>\n",
       "      <th></th>\n",
       "      <th></th>\n",
       "      <th></th>\n",
       "      <th></th>\n",
       "      <th></th>\n",
       "      <th></th>\n",
       "      <th></th>\n",
       "      <th></th>\n",
       "      <th></th>\n",
       "      <th></th>\n",
       "      <th></th>\n",
       "      <th></th>\n",
       "      <th></th>\n",
       "      <th></th>\n",
       "      <th></th>\n",
       "      <th></th>\n",
       "      <th></th>\n",
       "      <th></th>\n",
       "      <th></th>\n",
       "      <th></th>\n",
       "      <th></th>\n",
       "      <th></th>\n",
       "      <th></th>\n",
       "      <th></th>\n",
       "      <th></th>\n",
       "      <th></th>\n",
       "      <th></th>\n",
       "      <th></th>\n",
       "      <th></th>\n",
       "      <th></th>\n",
       "      <th></th>\n",
       "      <th></th>\n",
       "      <th></th>\n",
       "      <th></th>\n",
       "      <th></th>\n",
       "      <th></th>\n",
       "      <th></th>\n",
       "      <th></th>\n",
       "      <th></th>\n",
       "      <th></th>\n",
       "      <th></th>\n",
       "      <th></th>\n",
       "      <th></th>\n",
       "      <th></th>\n",
       "      <th></th>\n",
       "      <th></th>\n",
       "      <th></th>\n",
       "      <th></th>\n",
       "      <th></th>\n",
       "      <th></th>\n",
       "      <th></th>\n",
       "      <th></th>\n",
       "      <th></th>\n",
       "      <th></th>\n",
       "      <th></th>\n",
       "      <th></th>\n",
       "      <th></th>\n",
       "      <th></th>\n",
       "      <th></th>\n",
       "      <th></th>\n",
       "      <th></th>\n",
       "      <th></th>\n",
       "      <th></th>\n",
       "      <th></th>\n",
       "      <th></th>\n",
       "      <th></th>\n",
       "      <th></th>\n",
       "      <th></th>\n",
       "      <th></th>\n",
       "      <th></th>\n",
       "      <th></th>\n",
       "      <th></th>\n",
       "      <th></th>\n",
       "      <th></th>\n",
       "      <th></th>\n",
       "      <th></th>\n",
       "      <th></th>\n",
       "      <th></th>\n",
       "      <th></th>\n",
       "      <th></th>\n",
       "      <th></th>\n",
       "      <th></th>\n",
       "      <th></th>\n",
       "      <th></th>\n",
       "      <th></th>\n",
       "      <th></th>\n",
       "      <th></th>\n",
       "      <th></th>\n",
       "      <th></th>\n",
       "      <th></th>\n",
       "      <th></th>\n",
       "      <th></th>\n",
       "      <th></th>\n",
       "      <th></th>\n",
       "      <th></th>\n",
       "      <th></th>\n",
       "      <th></th>\n",
       "      <th></th>\n",
       "      <th></th>\n",
       "      <th></th>\n",
       "      <th></th>\n",
       "      <th></th>\n",
       "      <th></th>\n",
       "      <th></th>\n",
       "      <th></th>\n",
       "      <th></th>\n",
       "      <th></th>\n",
       "      <th></th>\n",
       "      <th></th>\n",
       "    </tr>\n",
       "  </thead>\n",
       "  <tbody>\n",
       "    <tr>\n",
       "      <th>1077501</th>\n",
       "      <td>1296599</td>\n",
       "      <td>5000</td>\n",
       "      <td>5000</td>\n",
       "      <td>4975.000</td>\n",
       "      <td>36 months</td>\n",
       "      <td>10.65%</td>\n",
       "      <td>162.870</td>\n",
       "      <td>B</td>\n",
       "      <td>B2</td>\n",
       "      <td>NaN</td>\n",
       "      <td>10+ years</td>\n",
       "      <td>RENT</td>\n",
       "      <td>24000.000</td>\n",
       "      <td>Verified</td>\n",
       "      <td>Dec-11</td>\n",
       "      <td>Fully Paid</td>\n",
       "      <td>n</td>\n",
       "      <td>https://lendingclub.com/browse/loanDetail.acti...</td>\n",
       "      <td>Borrower added on 12/22/11 &gt; I need to upgra...</td>\n",
       "      <td>credit_card</td>\n",
       "      <td>Computer</td>\n",
       "      <td>860xx</td>\n",
       "      <td>AZ</td>\n",
       "      <td>27.650</td>\n",
       "      <td>0</td>\n",
       "      <td>Jan-85</td>\n",
       "      <td>1</td>\n",
       "      <td>NaN</td>\n",
       "      <td>NaN</td>\n",
       "      <td>3</td>\n",
       "      <td>0</td>\n",
       "      <td>13648</td>\n",
       "      <td>83.70%</td>\n",
       "      <td>9</td>\n",
       "      <td>f</td>\n",
       "      <td>0.000</td>\n",
       "      <td>0.000</td>\n",
       "      <td>5863.155</td>\n",
       "      <td>5833.840</td>\n",
       "      <td>5000.000</td>\n",
       "      <td>863.160</td>\n",
       "      <td>0.000</td>\n",
       "      <td>0.000</td>\n",
       "      <td>0.000</td>\n",
       "      <td>Jan-15</td>\n",
       "      <td>171.620</td>\n",
       "      <td>NaN</td>\n",
       "      <td>May-16</td>\n",
       "      <td>0.000</td>\n",
       "      <td>NaN</td>\n",
       "      <td>1</td>\n",
       "      <td>INDIVIDUAL</td>\n",
       "      <td>NaN</td>\n",
       "      <td>NaN</td>\n",
       "      <td>NaN</td>\n",
       "      <td>0</td>\n",
       "      <td>NaN</td>\n",
       "      <td>NaN</td>\n",
       "      <td>NaN</td>\n",
       "      <td>NaN</td>\n",
       "      <td>NaN</td>\n",
       "      <td>NaN</td>\n",
       "      <td>NaN</td>\n",
       "      <td>NaN</td>\n",
       "      <td>NaN</td>\n",
       "      <td>NaN</td>\n",
       "      <td>NaN</td>\n",
       "      <td>NaN</td>\n",
       "      <td>NaN</td>\n",
       "      <td>NaN</td>\n",
       "      <td>NaN</td>\n",
       "      <td>NaN</td>\n",
       "      <td>NaN</td>\n",
       "      <td>NaN</td>\n",
       "      <td>NaN</td>\n",
       "      <td>NaN</td>\n",
       "      <td>NaN</td>\n",
       "      <td>0.000</td>\n",
       "      <td>0</td>\n",
       "      <td>NaN</td>\n",
       "      <td>NaN</td>\n",
       "      <td>NaN</td>\n",
       "      <td>NaN</td>\n",
       "      <td>NaN</td>\n",
       "      <td>NaN</td>\n",
       "      <td>NaN</td>\n",
       "      <td>NaN</td>\n",
       "      <td>NaN</td>\n",
       "      <td>NaN</td>\n",
       "      <td>NaN</td>\n",
       "      <td>NaN</td>\n",
       "      <td>NaN</td>\n",
       "      <td>NaN</td>\n",
       "      <td>NaN</td>\n",
       "      <td>NaN</td>\n",
       "      <td>NaN</td>\n",
       "      <td>NaN</td>\n",
       "      <td>NaN</td>\n",
       "      <td>NaN</td>\n",
       "      <td>NaN</td>\n",
       "      <td>NaN</td>\n",
       "      <td>NaN</td>\n",
       "      <td>NaN</td>\n",
       "      <td>NaN</td>\n",
       "      <td>0.000</td>\n",
       "      <td>0.000</td>\n",
       "      <td>NaN</td>\n",
       "      <td>NaN</td>\n",
       "      <td>NaN</td>\n",
       "      <td>NaN</td>\n",
       "    </tr>\n",
       "    <tr>\n",
       "      <th>1077430</th>\n",
       "      <td>1314167</td>\n",
       "      <td>2500</td>\n",
       "      <td>2500</td>\n",
       "      <td>2500.000</td>\n",
       "      <td>60 months</td>\n",
       "      <td>15.27%</td>\n",
       "      <td>59.830</td>\n",
       "      <td>C</td>\n",
       "      <td>C4</td>\n",
       "      <td>Ryder</td>\n",
       "      <td>&lt; 1 year</td>\n",
       "      <td>RENT</td>\n",
       "      <td>30000.000</td>\n",
       "      <td>Source Verified</td>\n",
       "      <td>Dec-11</td>\n",
       "      <td>Charged Off</td>\n",
       "      <td>n</td>\n",
       "      <td>https://lendingclub.com/browse/loanDetail.acti...</td>\n",
       "      <td>Borrower added on 12/22/11 &gt; I plan to use t...</td>\n",
       "      <td>car</td>\n",
       "      <td>bike</td>\n",
       "      <td>309xx</td>\n",
       "      <td>GA</td>\n",
       "      <td>1.000</td>\n",
       "      <td>0</td>\n",
       "      <td>Apr-99</td>\n",
       "      <td>5</td>\n",
       "      <td>NaN</td>\n",
       "      <td>NaN</td>\n",
       "      <td>3</td>\n",
       "      <td>0</td>\n",
       "      <td>1687</td>\n",
       "      <td>9.40%</td>\n",
       "      <td>4</td>\n",
       "      <td>f</td>\n",
       "      <td>0.000</td>\n",
       "      <td>0.000</td>\n",
       "      <td>1008.710</td>\n",
       "      <td>1008.710</td>\n",
       "      <td>456.460</td>\n",
       "      <td>435.170</td>\n",
       "      <td>0.000</td>\n",
       "      <td>117.080</td>\n",
       "      <td>1.110</td>\n",
       "      <td>Apr-13</td>\n",
       "      <td>119.660</td>\n",
       "      <td>NaN</td>\n",
       "      <td>Sep-13</td>\n",
       "      <td>0.000</td>\n",
       "      <td>NaN</td>\n",
       "      <td>1</td>\n",
       "      <td>INDIVIDUAL</td>\n",
       "      <td>NaN</td>\n",
       "      <td>NaN</td>\n",
       "      <td>NaN</td>\n",
       "      <td>0</td>\n",
       "      <td>NaN</td>\n",
       "      <td>NaN</td>\n",
       "      <td>NaN</td>\n",
       "      <td>NaN</td>\n",
       "      <td>NaN</td>\n",
       "      <td>NaN</td>\n",
       "      <td>NaN</td>\n",
       "      <td>NaN</td>\n",
       "      <td>NaN</td>\n",
       "      <td>NaN</td>\n",
       "      <td>NaN</td>\n",
       "      <td>NaN</td>\n",
       "      <td>NaN</td>\n",
       "      <td>NaN</td>\n",
       "      <td>NaN</td>\n",
       "      <td>NaN</td>\n",
       "      <td>NaN</td>\n",
       "      <td>NaN</td>\n",
       "      <td>NaN</td>\n",
       "      <td>NaN</td>\n",
       "      <td>NaN</td>\n",
       "      <td>0.000</td>\n",
       "      <td>0</td>\n",
       "      <td>NaN</td>\n",
       "      <td>NaN</td>\n",
       "      <td>NaN</td>\n",
       "      <td>NaN</td>\n",
       "      <td>NaN</td>\n",
       "      <td>NaN</td>\n",
       "      <td>NaN</td>\n",
       "      <td>NaN</td>\n",
       "      <td>NaN</td>\n",
       "      <td>NaN</td>\n",
       "      <td>NaN</td>\n",
       "      <td>NaN</td>\n",
       "      <td>NaN</td>\n",
       "      <td>NaN</td>\n",
       "      <td>NaN</td>\n",
       "      <td>NaN</td>\n",
       "      <td>NaN</td>\n",
       "      <td>NaN</td>\n",
       "      <td>NaN</td>\n",
       "      <td>NaN</td>\n",
       "      <td>NaN</td>\n",
       "      <td>NaN</td>\n",
       "      <td>NaN</td>\n",
       "      <td>NaN</td>\n",
       "      <td>NaN</td>\n",
       "      <td>0.000</td>\n",
       "      <td>0.000</td>\n",
       "      <td>NaN</td>\n",
       "      <td>NaN</td>\n",
       "      <td>NaN</td>\n",
       "      <td>NaN</td>\n",
       "    </tr>\n",
       "    <tr>\n",
       "      <th>1077175</th>\n",
       "      <td>1313524</td>\n",
       "      <td>2400</td>\n",
       "      <td>2400</td>\n",
       "      <td>2400.000</td>\n",
       "      <td>36 months</td>\n",
       "      <td>15.96%</td>\n",
       "      <td>84.330</td>\n",
       "      <td>C</td>\n",
       "      <td>C5</td>\n",
       "      <td>NaN</td>\n",
       "      <td>10+ years</td>\n",
       "      <td>RENT</td>\n",
       "      <td>12252.000</td>\n",
       "      <td>Not Verified</td>\n",
       "      <td>Dec-11</td>\n",
       "      <td>Fully Paid</td>\n",
       "      <td>n</td>\n",
       "      <td>https://lendingclub.com/browse/loanDetail.acti...</td>\n",
       "      <td>NaN</td>\n",
       "      <td>small_business</td>\n",
       "      <td>real estate business</td>\n",
       "      <td>606xx</td>\n",
       "      <td>IL</td>\n",
       "      <td>8.720</td>\n",
       "      <td>0</td>\n",
       "      <td>Nov-01</td>\n",
       "      <td>2</td>\n",
       "      <td>NaN</td>\n",
       "      <td>NaN</td>\n",
       "      <td>2</td>\n",
       "      <td>0</td>\n",
       "      <td>2956</td>\n",
       "      <td>98.50%</td>\n",
       "      <td>10</td>\n",
       "      <td>f</td>\n",
       "      <td>0.000</td>\n",
       "      <td>0.000</td>\n",
       "      <td>3005.667</td>\n",
       "      <td>3005.670</td>\n",
       "      <td>2400.000</td>\n",
       "      <td>605.670</td>\n",
       "      <td>0.000</td>\n",
       "      <td>0.000</td>\n",
       "      <td>0.000</td>\n",
       "      <td>Jun-14</td>\n",
       "      <td>649.910</td>\n",
       "      <td>NaN</td>\n",
       "      <td>May-16</td>\n",
       "      <td>0.000</td>\n",
       "      <td>NaN</td>\n",
       "      <td>1</td>\n",
       "      <td>INDIVIDUAL</td>\n",
       "      <td>NaN</td>\n",
       "      <td>NaN</td>\n",
       "      <td>NaN</td>\n",
       "      <td>0</td>\n",
       "      <td>NaN</td>\n",
       "      <td>NaN</td>\n",
       "      <td>NaN</td>\n",
       "      <td>NaN</td>\n",
       "      <td>NaN</td>\n",
       "      <td>NaN</td>\n",
       "      <td>NaN</td>\n",
       "      <td>NaN</td>\n",
       "      <td>NaN</td>\n",
       "      <td>NaN</td>\n",
       "      <td>NaN</td>\n",
       "      <td>NaN</td>\n",
       "      <td>NaN</td>\n",
       "      <td>NaN</td>\n",
       "      <td>NaN</td>\n",
       "      <td>NaN</td>\n",
       "      <td>NaN</td>\n",
       "      <td>NaN</td>\n",
       "      <td>NaN</td>\n",
       "      <td>NaN</td>\n",
       "      <td>NaN</td>\n",
       "      <td>0.000</td>\n",
       "      <td>0</td>\n",
       "      <td>NaN</td>\n",
       "      <td>NaN</td>\n",
       "      <td>NaN</td>\n",
       "      <td>NaN</td>\n",
       "      <td>NaN</td>\n",
       "      <td>NaN</td>\n",
       "      <td>NaN</td>\n",
       "      <td>NaN</td>\n",
       "      <td>NaN</td>\n",
       "      <td>NaN</td>\n",
       "      <td>NaN</td>\n",
       "      <td>NaN</td>\n",
       "      <td>NaN</td>\n",
       "      <td>NaN</td>\n",
       "      <td>NaN</td>\n",
       "      <td>NaN</td>\n",
       "      <td>NaN</td>\n",
       "      <td>NaN</td>\n",
       "      <td>NaN</td>\n",
       "      <td>NaN</td>\n",
       "      <td>NaN</td>\n",
       "      <td>NaN</td>\n",
       "      <td>NaN</td>\n",
       "      <td>NaN</td>\n",
       "      <td>NaN</td>\n",
       "      <td>0.000</td>\n",
       "      <td>0.000</td>\n",
       "      <td>NaN</td>\n",
       "      <td>NaN</td>\n",
       "      <td>NaN</td>\n",
       "      <td>NaN</td>\n",
       "    </tr>\n",
       "  </tbody>\n",
       "</table>\n",
       "</div>"
      ],
      "text/plain": [
       "         member_id  loan_amnt  funded_amnt  funded_amnt_inv        term int_rate  installment  \\\n",
       "id                                                                                              \n",
       "1077501    1296599       5000         5000         4975.000   36 months   10.65%      162.870   \n",
       "1077430    1314167       2500         2500         2500.000   60 months   15.27%       59.830   \n",
       "1077175    1313524       2400         2400         2400.000   36 months   15.96%       84.330   \n",
       "\n",
       "        grade sub_grade emp_title emp_length home_ownership  annual_inc verification_status  \\\n",
       "id                                                                                            \n",
       "1077501     B        B2       NaN  10+ years           RENT   24000.000            Verified   \n",
       "1077430     C        C4     Ryder   < 1 year           RENT   30000.000     Source Verified   \n",
       "1077175     C        C5       NaN  10+ years           RENT   12252.000        Not Verified   \n",
       "\n",
       "        issue_d  loan_status pymnt_plan                                                url  \\\n",
       "id                                                                                           \n",
       "1077501  Dec-11   Fully Paid          n  https://lendingclub.com/browse/loanDetail.acti...   \n",
       "1077430  Dec-11  Charged Off          n  https://lendingclub.com/browse/loanDetail.acti...   \n",
       "1077175  Dec-11   Fully Paid          n  https://lendingclub.com/browse/loanDetail.acti...   \n",
       "\n",
       "                                                      desc         purpose                 title  \\\n",
       "id                                                                                                 \n",
       "1077501    Borrower added on 12/22/11 > I need to upgra...     credit_card              Computer   \n",
       "1077430    Borrower added on 12/22/11 > I plan to use t...             car                  bike   \n",
       "1077175                                                NaN  small_business  real estate business   \n",
       "\n",
       "        zip_code addr_state    dti  delinq_2yrs earliest_cr_line  inq_last_6mths  \\\n",
       "id                                                                                 \n",
       "1077501    860xx         AZ 27.650            0           Jan-85               1   \n",
       "1077430    309xx         GA  1.000            0           Apr-99               5   \n",
       "1077175    606xx         IL  8.720            0           Nov-01               2   \n",
       "\n",
       "         mths_since_last_delinq  mths_since_last_record  open_acc  pub_rec  revol_bal revol_util  \\\n",
       "id                                                                                                 \n",
       "1077501                     NaN                     NaN         3        0      13648     83.70%   \n",
       "1077430                     NaN                     NaN         3        0       1687      9.40%   \n",
       "1077175                     NaN                     NaN         2        0       2956     98.50%   \n",
       "\n",
       "         total_acc initial_list_status  out_prncp  out_prncp_inv  total_pymnt  total_pymnt_inv  \\\n",
       "id                                                                                               \n",
       "1077501          9                   f      0.000          0.000     5863.155         5833.840   \n",
       "1077430          4                   f      0.000          0.000     1008.710         1008.710   \n",
       "1077175         10                   f      0.000          0.000     3005.667         3005.670   \n",
       "\n",
       "         total_rec_prncp  total_rec_int  total_rec_late_fee  recoveries  collection_recovery_fee  \\\n",
       "id                                                                                                 \n",
       "1077501         5000.000        863.160               0.000       0.000                    0.000   \n",
       "1077430          456.460        435.170               0.000     117.080                    1.110   \n",
       "1077175         2400.000        605.670               0.000       0.000                    0.000   \n",
       "\n",
       "        last_pymnt_d  last_pymnt_amnt next_pymnt_d last_credit_pull_d  collections_12_mths_ex_med  \\\n",
       "id                                                                                                  \n",
       "1077501       Jan-15          171.620          NaN             May-16                       0.000   \n",
       "1077430       Apr-13          119.660          NaN             Sep-13                       0.000   \n",
       "1077175       Jun-14          649.910          NaN             May-16                       0.000   \n",
       "\n",
       "         mths_since_last_major_derog  policy_code application_type  annual_inc_joint  dti_joint  \\\n",
       "id                                                                                                \n",
       "1077501                          NaN            1       INDIVIDUAL               NaN        NaN   \n",
       "1077430                          NaN            1       INDIVIDUAL               NaN        NaN   \n",
       "1077175                          NaN            1       INDIVIDUAL               NaN        NaN   \n",
       "\n",
       "         verification_status_joint  acc_now_delinq  tot_coll_amt  tot_cur_bal  open_acc_6m  \\\n",
       "id                                                                                           \n",
       "1077501                        NaN               0           NaN          NaN          NaN   \n",
       "1077430                        NaN               0           NaN          NaN          NaN   \n",
       "1077175                        NaN               0           NaN          NaN          NaN   \n",
       "\n",
       "         open_il_6m  open_il_12m  open_il_24m  mths_since_rcnt_il  total_bal_il  il_util  \\\n",
       "id                                                                                         \n",
       "1077501         NaN          NaN          NaN                 NaN           NaN      NaN   \n",
       "1077430         NaN          NaN          NaN                 NaN           NaN      NaN   \n",
       "1077175         NaN          NaN          NaN                 NaN           NaN      NaN   \n",
       "\n",
       "         open_rv_12m  open_rv_24m  max_bal_bc  all_util  total_rev_hi_lim  inq_fi  total_cu_tl  \\\n",
       "id                                                                                               \n",
       "1077501          NaN          NaN         NaN       NaN               NaN     NaN          NaN   \n",
       "1077430          NaN          NaN         NaN       NaN               NaN     NaN          NaN   \n",
       "1077175          NaN          NaN         NaN       NaN               NaN     NaN          NaN   \n",
       "\n",
       "         inq_last_12m  acc_open_past_24mths  avg_cur_bal  bc_open_to_buy  bc_util  \\\n",
       "id                                                                                  \n",
       "1077501           NaN                   NaN          NaN             NaN      NaN   \n",
       "1077430           NaN                   NaN          NaN             NaN      NaN   \n",
       "1077175           NaN                   NaN          NaN             NaN      NaN   \n",
       "\n",
       "         chargeoff_within_12_mths  delinq_amnt  mo_sin_old_il_acct  mo_sin_old_rev_tl_op  \\\n",
       "id                                                                                         \n",
       "1077501                     0.000            0                 NaN                   NaN   \n",
       "1077430                     0.000            0                 NaN                   NaN   \n",
       "1077175                     0.000            0                 NaN                   NaN   \n",
       "\n",
       "         mo_sin_rcnt_rev_tl_op  mo_sin_rcnt_tl  mort_acc  mths_since_recent_bc  \\\n",
       "id                                                                               \n",
       "1077501                    NaN             NaN       NaN                   NaN   \n",
       "1077430                    NaN             NaN       NaN                   NaN   \n",
       "1077175                    NaN             NaN       NaN                   NaN   \n",
       "\n",
       "         mths_since_recent_bc_dlq  mths_since_recent_inq  mths_since_recent_revol_delinq  \\\n",
       "id                                                                                         \n",
       "1077501                       NaN                    NaN                             NaN   \n",
       "1077430                       NaN                    NaN                             NaN   \n",
       "1077175                       NaN                    NaN                             NaN   \n",
       "\n",
       "         num_accts_ever_120_pd  num_actv_bc_tl  num_actv_rev_tl  num_bc_sats  num_bc_tl  \\\n",
       "id                                                                                        \n",
       "1077501                    NaN             NaN              NaN          NaN        NaN   \n",
       "1077430                    NaN             NaN              NaN          NaN        NaN   \n",
       "1077175                    NaN             NaN              NaN          NaN        NaN   \n",
       "\n",
       "         num_il_tl  num_op_rev_tl  num_rev_accts  num_rev_tl_bal_gt_0  num_sats  num_tl_120dpd_2m  \\\n",
       "id                                                                                                  \n",
       "1077501        NaN            NaN            NaN                  NaN       NaN               NaN   \n",
       "1077430        NaN            NaN            NaN                  NaN       NaN               NaN   \n",
       "1077175        NaN            NaN            NaN                  NaN       NaN               NaN   \n",
       "\n",
       "         num_tl_30dpd  num_tl_90g_dpd_24m  num_tl_op_past_12m  pct_tl_nvr_dlq  percent_bc_gt_75  \\\n",
       "id                                                                                                \n",
       "1077501           NaN                 NaN                 NaN             NaN               NaN   \n",
       "1077430           NaN                 NaN                 NaN             NaN               NaN   \n",
       "1077175           NaN                 NaN                 NaN             NaN               NaN   \n",
       "\n",
       "         pub_rec_bankruptcies  tax_liens  tot_hi_cred_lim  total_bal_ex_mort  total_bc_limit  \\\n",
       "id                                                                                             \n",
       "1077501                 0.000      0.000              NaN                NaN             NaN   \n",
       "1077430                 0.000      0.000              NaN                NaN             NaN   \n",
       "1077175                 0.000      0.000              NaN                NaN             NaN   \n",
       "\n",
       "         total_il_high_credit_limit  \n",
       "id                                   \n",
       "1077501                         NaN  \n",
       "1077430                         NaN  \n",
       "1077175                         NaN  "
      ]
     },
     "execution_count": 4,
     "metadata": {},
     "output_type": "execute_result"
    }
   ],
   "source": [
    "# displaying first three rows of loan_data\n",
    "Loan_data.head(3)"
   ]
  },
  {
   "cell_type": "code",
   "execution_count": 5,
   "id": "5244c166",
   "metadata": {},
   "outputs": [
    {
     "data": {
      "text/html": [
       "<div>\n",
       "<style scoped>\n",
       "    .dataframe tbody tr th:only-of-type {\n",
       "        vertical-align: middle;\n",
       "    }\n",
       "\n",
       "    .dataframe tbody tr th {\n",
       "        vertical-align: top;\n",
       "    }\n",
       "\n",
       "    .dataframe thead th {\n",
       "        text-align: right;\n",
       "    }\n",
       "</style>\n",
       "<table border=\"1\" class=\"dataframe\">\n",
       "  <thead>\n",
       "    <tr style=\"text-align: right;\">\n",
       "      <th></th>\n",
       "      <th>Description</th>\n",
       "      <th>Unnamed: 2</th>\n",
       "      <th>Unnamed: 3</th>\n",
       "      <th>Unnamed: 4</th>\n",
       "      <th>Unnamed: 5</th>\n",
       "      <th>Unnamed: 6</th>\n",
       "      <th>Unnamed: 7</th>\n",
       "      <th>Unnamed: 8</th>\n",
       "      <th>Unnamed: 9</th>\n",
       "      <th>Unnamed: 10</th>\n",
       "    </tr>\n",
       "    <tr>\n",
       "      <th>LoanStatNew</th>\n",
       "      <th></th>\n",
       "      <th></th>\n",
       "      <th></th>\n",
       "      <th></th>\n",
       "      <th></th>\n",
       "      <th></th>\n",
       "      <th></th>\n",
       "      <th></th>\n",
       "      <th></th>\n",
       "      <th></th>\n",
       "    </tr>\n",
       "  </thead>\n",
       "  <tbody>\n",
       "    <tr>\n",
       "      <th>acc_now_delinq</th>\n",
       "      <td>The number of accounts on which the borrower i...</td>\n",
       "      <td>NaN</td>\n",
       "      <td>NaN</td>\n",
       "      <td>NaN</td>\n",
       "      <td>NaN</td>\n",
       "      <td>NaN</td>\n",
       "      <td>NaN</td>\n",
       "      <td>NaN</td>\n",
       "      <td>NaN</td>\n",
       "      <td>NaN</td>\n",
       "    </tr>\n",
       "    <tr>\n",
       "      <th>acc_open_past_24mths</th>\n",
       "      <td>Number of trades opened in past 24 months.</td>\n",
       "      <td>NaN</td>\n",
       "      <td>NaN</td>\n",
       "      <td>NaN</td>\n",
       "      <td>NaN</td>\n",
       "      <td>NaN</td>\n",
       "      <td>NaN</td>\n",
       "      <td>NaN</td>\n",
       "      <td>NaN</td>\n",
       "      <td>NaN</td>\n",
       "    </tr>\n",
       "    <tr>\n",
       "      <th>addr_state</th>\n",
       "      <td>The state provided by the borrower in the loan...</td>\n",
       "      <td>NaN</td>\n",
       "      <td>NaN</td>\n",
       "      <td>NaN</td>\n",
       "      <td>NaN</td>\n",
       "      <td>NaN</td>\n",
       "      <td>NaN</td>\n",
       "      <td>NaN</td>\n",
       "      <td>NaN</td>\n",
       "      <td>NaN</td>\n",
       "    </tr>\n",
       "  </tbody>\n",
       "</table>\n",
       "</div>"
      ],
      "text/plain": [
       "                                                            Description  Unnamed: 2  Unnamed: 3  \\\n",
       "LoanStatNew                                                                                       \n",
       "acc_now_delinq        The number of accounts on which the borrower i...         NaN         NaN   \n",
       "acc_open_past_24mths         Number of trades opened in past 24 months.         NaN         NaN   \n",
       "addr_state            The state provided by the borrower in the loan...         NaN         NaN   \n",
       "\n",
       "                      Unnamed: 4  Unnamed: 5  Unnamed: 6  Unnamed: 7  Unnamed: 8  Unnamed: 9  \\\n",
       "LoanStatNew                                                                                    \n",
       "acc_now_delinq               NaN         NaN         NaN         NaN         NaN         NaN   \n",
       "acc_open_past_24mths         NaN         NaN         NaN         NaN         NaN         NaN   \n",
       "addr_state                   NaN         NaN         NaN         NaN         NaN         NaN   \n",
       "\n",
       "                      Unnamed: 10  \n",
       "LoanStatNew                        \n",
       "acc_now_delinq                NaN  \n",
       "acc_open_past_24mths          NaN  \n",
       "addr_state                    NaN  "
      ]
     },
     "execution_count": 5,
     "metadata": {},
     "output_type": "execute_result"
    }
   ],
   "source": [
    "## displaying first three rows of loan_schema\n",
    "Loan_schema.head(3)"
   ]
  },
  {
   "cell_type": "markdown",
   "id": "ef86498d",
   "metadata": {},
   "source": [
    "## <font color=\"blue\">Data Handling and Cleaning"
   ]
  },
  {
   "cell_type": "markdown",
   "id": "45abcb82",
   "metadata": {},
   "source": [
    "### Fixing rows and  columns"
   ]
  },
  {
   "cell_type": "code",
   "execution_count": 6,
   "id": "c343aaf8",
   "metadata": {},
   "outputs": [
    {
     "name": "stdout",
     "output_type": "stream",
     "text": [
      "shape of loan data   : (39717, 110)\n",
      "shape of loan schema : (117, 10)\n"
     ]
    }
   ],
   "source": [
    "#Shape of the dataframes\n",
    "print(\"shape of loan data   :\", Loan_data.shape)\n",
    "print(\"shape of loan schema :\", Loan_schema.shape)"
   ]
  },
  {
   "cell_type": "code",
   "execution_count": 7,
   "id": "7a6a44cf",
   "metadata": {},
   "outputs": [
    {
     "name": "stdout",
     "output_type": "stream",
     "text": [
      "After dropping the empty columns, the shape of loan_schema is (117, 1)\n"
     ]
    }
   ],
   "source": [
    "#Droping all empty columns in loan schema\n",
    "Loan_schema.dropna(how=\"all\", axis=1, inplace=True)\n",
    "print(\"After dropping the empty columns, the shape of loan_schema is\",Loan_schema.shape)"
   ]
  },
  {
   "cell_type": "code",
   "execution_count": 8,
   "id": "feddb406",
   "metadata": {
    "scrolled": false
   },
   "outputs": [
    {
     "name": "stdout",
     "output_type": "stream",
     "text": [
      "After dropping the empty columns, the shape of loan_data is (39717, 56)\n"
     ]
    }
   ],
   "source": [
    "#Deleting empty columns in loan data\n",
    "Loan_data.dropna(how=\"all\", axis=1,inplace=True)\n",
    "print(\"After dropping the empty columns, the shape of loan_data is\",Loan_data.shape)"
   ]
  },
  {
   "cell_type": "code",
   "execution_count": 9,
   "id": "9bcef2c4",
   "metadata": {},
   "outputs": [
    {
     "data": {
      "text/plain": [
       "(39717, 56)"
      ]
     },
     "execution_count": 9,
     "metadata": {},
     "output_type": "execute_result"
    }
   ],
   "source": [
    "#Checking for empty rows in loan data\n",
    "Loan_data.dropna(how=\"all\", axis=0).shape"
   ]
  },
  {
   "cell_type": "markdown",
   "id": "eae5a4e9",
   "metadata": {},
   "source": [
    "No empty rows in the dataset"
   ]
  },
  {
   "cell_type": "code",
   "execution_count": 10,
   "id": "267b64ee",
   "metadata": {},
   "outputs": [
    {
     "name": "stdout",
     "output_type": "stream",
     "text": [
      "Total unique Id in Loan_data is 39717\n",
      "Total rows in the Loan_data is 39717\n"
     ]
    }
   ],
   "source": [
    "#Checking for duplicate ID in loan data(index)\n",
    "print(\"Total unique Id in Loan_data is\", Loan_data.index.nunique())\n",
    "print(\"Total rows in the Loan_data is\",Loan_data.shape[0])"
   ]
  },
  {
   "cell_type": "markdown",
   "id": "2bfb9ffe",
   "metadata": {},
   "source": [
    "From this data, it is evident that the given dataset has no duplicate rows."
   ]
  },
  {
   "cell_type": "code",
   "execution_count": 11,
   "id": "c34424d9",
   "metadata": {},
   "outputs": [
    {
     "name": "stdout",
     "output_type": "stream",
     "text": [
      "After dropping the columns having same values, the shape is (39717, 47)\n"
     ]
    }
   ],
   "source": [
    "#Dropping the columns having same values\n",
    "nunique = Loan_data.nunique()\n",
    "Loan_data.drop(nunique[nunique==1].index , axis=1, inplace=True)\n",
    "print(\"After dropping the columns having same values, the shape is\",Loan_data.shape)"
   ]
  },
  {
   "cell_type": "markdown",
   "id": "846f57ea",
   "metadata": {},
   "source": [
    "#### Droping the rows and columns irrelavant to the study"
   ]
  },
  {
   "cell_type": "code",
   "execution_count": 12,
   "id": "38761f86",
   "metadata": {},
   "outputs": [],
   "source": [
    "#We can drop Member id and url column. as it is not important for the study\n",
    "Loan_data.drop([\"url\",\"member_id\"], axis=1, inplace=True)\n",
    "\n",
    "#We can drop the rows of Loan status column with value \"Current\",as we do not know whether they will become default or not.\n",
    "Loan_data = Loan_data[-(Loan_data[\"loan_status\"].isin([\"Current\"]))]"
   ]
  },
  {
   "cell_type": "markdown",
   "id": "07d489b5",
   "metadata": {},
   "source": [
    "#### Droping post hoc informations"
   ]
  },
  {
   "cell_type": "code",
   "execution_count": 13,
   "id": "ae09816c",
   "metadata": {},
   "outputs": [
    {
     "name": "stdout",
     "output_type": "stream",
     "text": [
      "After dropping, the shape is (38577, 32)\n"
     ]
    }
   ],
   "source": [
    "#As post hoc information will be available after the loan approval, thus will not be usefull to predict defaulters\n",
    "Loan_data.drop([\"out_prncp\",\"out_prncp_inv\",\"total_pymnt\",\"total_pymnt_inv\",\"total_rec_prncp\",\"total_rec_int\",\"total_rec_late_fee\",\"recoveries\",\"collection_recovery_fee\",\"last_pymnt_d\",\"last_pymnt_amnt\",\"next_pymnt_d\",\"last_credit_pull_d\"], axis=1, inplace=True)\n",
    "print(\"After dropping, the shape is\",Loan_data.shape)"
   ]
  },
  {
   "cell_type": "code",
   "execution_count": 14,
   "id": "0d643f52",
   "metadata": {},
   "outputs": [
    {
     "data": {
      "text/html": [
       "<div>\n",
       "<style scoped>\n",
       "    .dataframe tbody tr th:only-of-type {\n",
       "        vertical-align: middle;\n",
       "    }\n",
       "\n",
       "    .dataframe tbody tr th {\n",
       "        vertical-align: top;\n",
       "    }\n",
       "\n",
       "    .dataframe thead th {\n",
       "        text-align: right;\n",
       "    }\n",
       "</style>\n",
       "<table border=\"1\" class=\"dataframe\">\n",
       "  <thead>\n",
       "    <tr style=\"text-align: right;\">\n",
       "      <th></th>\n",
       "      <th>Loan_amnt</th>\n",
       "      <th>Funded_amnt</th>\n",
       "      <th>Funded_amnt_inv</th>\n",
       "      <th>Term</th>\n",
       "      <th>Int_rate</th>\n",
       "      <th>Installment</th>\n",
       "      <th>Grade</th>\n",
       "      <th>Sub_grade</th>\n",
       "      <th>Emp_title</th>\n",
       "      <th>Emp_length</th>\n",
       "      <th>Home_ownership</th>\n",
       "      <th>Annual_inc</th>\n",
       "      <th>Verification_status</th>\n",
       "      <th>Issue_d</th>\n",
       "      <th>Loan_status</th>\n",
       "      <th>Desc</th>\n",
       "      <th>Purpose</th>\n",
       "      <th>Title</th>\n",
       "      <th>Zip_code</th>\n",
       "      <th>Addr_state</th>\n",
       "      <th>Dti</th>\n",
       "      <th>Delinq_2yrs</th>\n",
       "      <th>Earliest_cr_line</th>\n",
       "      <th>Inq_last_6mths</th>\n",
       "      <th>Mths_since_last_delinq</th>\n",
       "      <th>Mths_since_last_record</th>\n",
       "      <th>Open_acc</th>\n",
       "      <th>Pub_rec</th>\n",
       "      <th>Revol_bal</th>\n",
       "      <th>Revol_util</th>\n",
       "      <th>Total_acc</th>\n",
       "      <th>Pub_rec_bankruptcies</th>\n",
       "    </tr>\n",
       "    <tr>\n",
       "      <th>Id</th>\n",
       "      <th></th>\n",
       "      <th></th>\n",
       "      <th></th>\n",
       "      <th></th>\n",
       "      <th></th>\n",
       "      <th></th>\n",
       "      <th></th>\n",
       "      <th></th>\n",
       "      <th></th>\n",
       "      <th></th>\n",
       "      <th></th>\n",
       "      <th></th>\n",
       "      <th></th>\n",
       "      <th></th>\n",
       "      <th></th>\n",
       "      <th></th>\n",
       "      <th></th>\n",
       "      <th></th>\n",
       "      <th></th>\n",
       "      <th></th>\n",
       "      <th></th>\n",
       "      <th></th>\n",
       "      <th></th>\n",
       "      <th></th>\n",
       "      <th></th>\n",
       "      <th></th>\n",
       "      <th></th>\n",
       "      <th></th>\n",
       "      <th></th>\n",
       "      <th></th>\n",
       "      <th></th>\n",
       "      <th></th>\n",
       "    </tr>\n",
       "  </thead>\n",
       "  <tbody>\n",
       "    <tr>\n",
       "      <th>1077501</th>\n",
       "      <td>5000</td>\n",
       "      <td>5000</td>\n",
       "      <td>4975.000</td>\n",
       "      <td>36 months</td>\n",
       "      <td>10.65%</td>\n",
       "      <td>162.870</td>\n",
       "      <td>B</td>\n",
       "      <td>B2</td>\n",
       "      <td>NaN</td>\n",
       "      <td>10+ years</td>\n",
       "      <td>RENT</td>\n",
       "      <td>24000.000</td>\n",
       "      <td>Verified</td>\n",
       "      <td>Dec-11</td>\n",
       "      <td>Fully Paid</td>\n",
       "      <td>Borrower added on 12/22/11 &gt; I need to upgra...</td>\n",
       "      <td>credit_card</td>\n",
       "      <td>Computer</td>\n",
       "      <td>860xx</td>\n",
       "      <td>AZ</td>\n",
       "      <td>27.650</td>\n",
       "      <td>0</td>\n",
       "      <td>Jan-85</td>\n",
       "      <td>1</td>\n",
       "      <td>NaN</td>\n",
       "      <td>NaN</td>\n",
       "      <td>3</td>\n",
       "      <td>0</td>\n",
       "      <td>13648</td>\n",
       "      <td>83.70%</td>\n",
       "      <td>9</td>\n",
       "      <td>0.000</td>\n",
       "    </tr>\n",
       "    <tr>\n",
       "      <th>1077430</th>\n",
       "      <td>2500</td>\n",
       "      <td>2500</td>\n",
       "      <td>2500.000</td>\n",
       "      <td>60 months</td>\n",
       "      <td>15.27%</td>\n",
       "      <td>59.830</td>\n",
       "      <td>C</td>\n",
       "      <td>C4</td>\n",
       "      <td>Ryder</td>\n",
       "      <td>&lt; 1 year</td>\n",
       "      <td>RENT</td>\n",
       "      <td>30000.000</td>\n",
       "      <td>Source Verified</td>\n",
       "      <td>Dec-11</td>\n",
       "      <td>Charged Off</td>\n",
       "      <td>Borrower added on 12/22/11 &gt; I plan to use t...</td>\n",
       "      <td>car</td>\n",
       "      <td>bike</td>\n",
       "      <td>309xx</td>\n",
       "      <td>GA</td>\n",
       "      <td>1.000</td>\n",
       "      <td>0</td>\n",
       "      <td>Apr-99</td>\n",
       "      <td>5</td>\n",
       "      <td>NaN</td>\n",
       "      <td>NaN</td>\n",
       "      <td>3</td>\n",
       "      <td>0</td>\n",
       "      <td>1687</td>\n",
       "      <td>9.40%</td>\n",
       "      <td>4</td>\n",
       "      <td>0.000</td>\n",
       "    </tr>\n",
       "  </tbody>\n",
       "</table>\n",
       "</div>"
      ],
      "text/plain": [
       "         Loan_amnt  Funded_amnt  Funded_amnt_inv        Term Int_rate  Installment Grade  \\\n",
       "Id                                                                                         \n",
       "1077501       5000         5000         4975.000   36 months   10.65%      162.870     B   \n",
       "1077430       2500         2500         2500.000   60 months   15.27%       59.830     C   \n",
       "\n",
       "        Sub_grade Emp_title Emp_length Home_ownership  Annual_inc Verification_status Issue_d  \\\n",
       "Id                                                                                              \n",
       "1077501        B2       NaN  10+ years           RENT   24000.000            Verified  Dec-11   \n",
       "1077430        C4     Ryder   < 1 year           RENT   30000.000     Source Verified  Dec-11   \n",
       "\n",
       "         Loan_status                                               Desc      Purpose     Title  \\\n",
       "Id                                                                                               \n",
       "1077501   Fully Paid    Borrower added on 12/22/11 > I need to upgra...  credit_card  Computer   \n",
       "1077430  Charged Off    Borrower added on 12/22/11 > I plan to use t...          car      bike   \n",
       "\n",
       "        Zip_code Addr_state    Dti  Delinq_2yrs Earliest_cr_line  Inq_last_6mths  \\\n",
       "Id                                                                                 \n",
       "1077501    860xx         AZ 27.650            0           Jan-85               1   \n",
       "1077430    309xx         GA  1.000            0           Apr-99               5   \n",
       "\n",
       "         Mths_since_last_delinq  Mths_since_last_record  Open_acc  Pub_rec  Revol_bal Revol_util  \\\n",
       "Id                                                                                                 \n",
       "1077501                     NaN                     NaN         3        0      13648     83.70%   \n",
       "1077430                     NaN                     NaN         3        0       1687      9.40%   \n",
       "\n",
       "         Total_acc  Pub_rec_bankruptcies  \n",
       "Id                                        \n",
       "1077501          9                 0.000  \n",
       "1077430          4                 0.000  "
      ]
     },
     "execution_count": 14,
     "metadata": {},
     "output_type": "execute_result"
    }
   ],
   "source": [
    "#Cleaning columns name\n",
    "Loan_data.columns = Loan_data.columns.str.strip().str.capitalize()\n",
    "Loan_schema.index = Loan_schema.index.str.strip().str.capitalize()\n",
    "Loan_data.index.name = \"Id\"\n",
    "Loan_data.head(2)"
   ]
  },
  {
   "cell_type": "markdown",
   "id": "56d443df",
   "metadata": {},
   "source": [
    "### Missing Value Treatment"
   ]
  },
  {
   "cell_type": "code",
   "execution_count": 15,
   "id": "564fa120",
   "metadata": {
    "scrolled": false
   },
   "outputs": [
    {
     "data": {
      "image/png": "[encoded data removed]",
      "text/plain": [
       "<Figure size 720x432 with 1 Axes>"
      ]
     },
     "metadata": {},
     "output_type": "display_data"
    }
   ],
   "source": [
    "#Plotting missing values in loan data\n",
    "plt.style.use(\"seaborn\")\n",
    "plt.figure(figsize=(10,6))\n",
    "Loan_data.count().plot.bar()\n",
    "plt.xticks(rotation=90,fontsize=7)\n",
    "plt.title(\"Missing values in Loan data\",fontsize=20)\n",
    "plt.xlabel(\"columns\", fontsize=15)\n",
    "plt.ylabel(\"counts\",fontsize=15)\n",
    "plt.show()"
   ]
  },
  {
   "cell_type": "markdown",
   "id": "d13d50c3",
   "metadata": {},
   "source": [
    "#### <font color=\"blue\">Inference from the plot:\n",
    "\n",
    "> Three columns from the dataset contains missing values more than 50%, thus we can drop the column.\n",
    "#### Columns with missing values more than 50%:\n",
    "\n",
    "The columns Mths_since_last_record,Mths_since_last_delinq has missing values more than 50%.\n",
    "\n",
    "#### <font color=\"blue\">Suggestion:\n",
    "\n",
    ">We can drop the columns Mths_since_last_record, Mths_since_last_delinq."
   ]
  },
  {
   "cell_type": "code",
   "execution_count": 16,
   "id": "c4b1f9e6",
   "metadata": {
    "scrolled": true
   },
   "outputs": [
    {
     "data": {
      "text/plain": [
       "(38577, 30)"
      ]
     },
     "execution_count": 16,
     "metadata": {},
     "output_type": "execute_result"
    }
   ],
   "source": [
    "#Dropping the columns having missing value more than 50%\n",
    "Loan_data.drop([\"Mths_since_last_record\",\"Mths_since_last_delinq\"], axis=1, inplace=True)\n",
    "Loan_data.shape"
   ]
  },
  {
   "cell_type": "markdown",
   "id": "d8aba4d6",
   "metadata": {},
   "source": [
    "#### Cleaning Desc column:"
   ]
  },
  {
   "cell_type": "code",
   "execution_count": 17,
   "id": "5d3fd285",
   "metadata": {
    "scrolled": true
   },
   "outputs": [
    {
     "name": "stdout",
     "output_type": "stream",
     "text": [
      "Total number of missing values in Desc column are 12527\n"
     ]
    }
   ],
   "source": [
    "print(\"Total number of missing values in Desc column are\",Loan_data[\"Desc\"].isnull().sum())"
   ]
  },
  {
   "cell_type": "markdown",
   "id": "20fbb233",
   "metadata": {},
   "source": [
    "#### <font color=\"blue\">Suggestion:\n",
    "\n",
    ">We can drop the Desc column, as it contains more missing values."
   ]
  },
  {
   "cell_type": "code",
   "execution_count": 18,
   "id": "c1fe2a16",
   "metadata": {
    "scrolled": true
   },
   "outputs": [],
   "source": [
    "#Dropping \"Desc\" column\n",
    "Loan_data.drop(\"Desc\", axis=1, inplace=True)"
   ]
  },
  {
   "cell_type": "markdown",
   "id": "02a39b7a",
   "metadata": {},
   "source": [
    "#### Cleaning the columns Emp_title and Emp_length:"
   ]
  },
  {
   "cell_type": "code",
   "execution_count": 19,
   "id": "817736cf",
   "metadata": {
    "scrolled": true
   },
   "outputs": [
    {
     "name": "stdout",
     "output_type": "stream",
     "text": [
      "Missing values in Emp_title column are 2386\n",
      "Missing values in Emp_length column are 1033\n"
     ]
    }
   ],
   "source": [
    "print(\"Missing values in Emp_title column are\", Loan_data[\"Emp_title\"].isnull().sum())\n",
    "print(\"Missing values in Emp_length column are\", Loan_data[\"Emp_length\"].isnull().sum())"
   ]
  },
  {
   "cell_type": "markdown",
   "id": "7139024d",
   "metadata": {},
   "source": [
    "#### <font color=\"blue\">Suggestion:\n",
    ">As the columns Emp_title and Emp_length are important variables for the study, we can drop the missing value rows."
   ]
  },
  {
   "cell_type": "code",
   "execution_count": 20,
   "id": "9c9f32a3",
   "metadata": {},
   "outputs": [],
   "source": [
    "#Dropping rows having nan values in \"Emp_title\" column\n",
    "Loan_data = Loan_data[-(Loan_data[\"Emp_title\"].isnull())]\n",
    "\n",
    "#Dropping rows having nan values in \"Emp_length\" column\n",
    "Loan_data = Loan_data[-(Loan_data[\"Emp_length\"].isnull())]"
   ]
  },
  {
   "cell_type": "markdown",
   "id": "a4782d0c",
   "metadata": {},
   "source": [
    "#### Cleaning the Revol_util column:"
   ]
  },
  {
   "cell_type": "code",
   "execution_count": 21,
   "id": "744c9c85",
   "metadata": {
    "scrolled": true
   },
   "outputs": [
    {
     "name": "stdout",
     "output_type": "stream",
     "text": [
      "Missing values in Revol_util column are 46\n"
     ]
    }
   ],
   "source": [
    "print(\"Missing values in Revol_util column are\", Loan_data[\"Revol_util\"].isnull().sum())"
   ]
  },
  {
   "cell_type": "markdown",
   "id": "b977ffc9",
   "metadata": {},
   "source": [
    "#### <font color=\"blue\">suggestion:\n",
    "> We can fill the mode value in the place of missing values."
   ]
  },
  {
   "cell_type": "code",
   "execution_count": 22,
   "id": "34d2fbd8",
   "metadata": {},
   "outputs": [
    {
     "data": {
      "text/plain": [
       "0%       863\n",
       "0.20%     59\n",
       "63%       58\n",
       "Name: Revol_util, dtype: int64"
      ]
     },
     "execution_count": 22,
     "metadata": {},
     "output_type": "execute_result"
    }
   ],
   "source": [
    "Loan_data[\"Revol_util\"].value_counts().head(3)"
   ]
  },
  {
   "cell_type": "code",
   "execution_count": 23,
   "id": "a8dc150b",
   "metadata": {
    "scrolled": true
   },
   "outputs": [],
   "source": [
    "#Filling the missing values with mode value\n",
    "Loan_data[\"Revol_util\"].fillna(Loan_data[\"Revol_util\"].mode()[0], inplace=True)"
   ]
  },
  {
   "cell_type": "markdown",
   "id": "f6ca7695",
   "metadata": {},
   "source": [
    "#### Cleaning the Title column:"
   ]
  },
  {
   "cell_type": "code",
   "execution_count": 24,
   "id": "7f904f9d",
   "metadata": {
    "scrolled": true
   },
   "outputs": [
    {
     "name": "stdout",
     "output_type": "stream",
     "text": [
      "Missing values in Title column are 9\n"
     ]
    }
   ],
   "source": [
    "print(\"Missing values in Title column are\", Loan_data[\"Title\"].isnull().sum())"
   ]
  },
  {
   "cell_type": "markdown",
   "id": "754dfcc3",
   "metadata": {},
   "source": [
    "#### <font color=\"blue\">Suggestion:\n",
    "> We can fill the mode value in the place of missing values."
   ]
  },
  {
   "cell_type": "code",
   "execution_count": 25,
   "id": "1d78f240",
   "metadata": {},
   "outputs": [
    {
     "data": {
      "text/plain": [
       "Debt Consolidation         2000\n",
       "Debt Consolidation Loan    1549\n",
       "Personal Loan               614\n",
       "Name: Title, dtype: int64"
      ]
     },
     "execution_count": 25,
     "metadata": {},
     "output_type": "execute_result"
    }
   ],
   "source": [
    "Loan_data[\"Title\"].value_counts().head(3)"
   ]
  },
  {
   "cell_type": "code",
   "execution_count": 26,
   "id": "de0e0cc0",
   "metadata": {},
   "outputs": [],
   "source": [
    "#Filling the missing value with mode value\n",
    "Loan_data[\"Title\"].fillna(Loan_data[\"Title\"].mode()[0], inplace=True)"
   ]
  },
  {
   "cell_type": "markdown",
   "id": "8e456080",
   "metadata": {},
   "source": [
    "#### Cleaning the Pub_rec_bankruptcies column:"
   ]
  },
  {
   "cell_type": "code",
   "execution_count": 27,
   "id": "195e3a2b",
   "metadata": {
    "scrolled": true
   },
   "outputs": [
    {
     "name": "stdout",
     "output_type": "stream",
     "text": [
      "Missing values in Pub_rec_bankruptcies column are 654\n"
     ]
    }
   ],
   "source": [
    "print(\"Missing values in Pub_rec_bankruptcies column are\", Loan_data[\"Pub_rec_bankruptcies\"].isnull().sum())"
   ]
  },
  {
   "cell_type": "markdown",
   "id": "09d4c898",
   "metadata": {},
   "source": [
    "#### <font color=\"blue\">Suggestion:\n",
    "> We can fill the mode value in the place of missing values."
   ]
  },
  {
   "cell_type": "code",
   "execution_count": 28,
   "id": "bfdfb044",
   "metadata": {
    "scrolled": false
   },
   "outputs": [
    {
     "data": {
      "text/plain": [
       "0.000    34006\n",
       "1.000     1471\n",
       "2.000        5\n",
       "Name: Pub_rec_bankruptcies, dtype: int64"
      ]
     },
     "execution_count": 28,
     "metadata": {},
     "output_type": "execute_result"
    }
   ],
   "source": [
    "Loan_data[\"Pub_rec_bankruptcies\"].value_counts().head(3)"
   ]
  },
  {
   "cell_type": "code",
   "execution_count": 29,
   "id": "45a171ba",
   "metadata": {},
   "outputs": [
    {
     "name": "stdout",
     "output_type": "stream",
     "text": [
      "The final shape of the loan data after dropping all the unnecessary rows and columns is (36136, 29)\n"
     ]
    }
   ],
   "source": [
    "#cleaning \"Pub_rec_bankruptcies\" column\n",
    "Loan_data[\"Pub_rec_bankruptcies\"].fillna(Loan_data[\"Pub_rec_bankruptcies\"].mode()[0], inplace=True)\n",
    "print(\"The final shape of the loan data after dropping all the unnecessary rows and columns is\",Loan_data.shape)"
   ]
  },
  {
   "cell_type": "code",
   "execution_count": 30,
   "id": "f5cf5bd6",
   "metadata": {},
   "outputs": [
    {
     "name": "stdout",
     "output_type": "stream",
     "text": [
      "After cleaning, the number of missing values in the dataset is 0\n"
     ]
    }
   ],
   "source": [
    "#Checking missing values count\n",
    "print(\"After cleaning, the number of missing values in the dataset is\",Loan_data.isnull().sum().sum())"
   ]
  },
  {
   "cell_type": "markdown",
   "id": "c81a3cf0",
   "metadata": {},
   "source": [
    "### Handling Incorrect Data Types"
   ]
  },
  {
   "cell_type": "code",
   "execution_count": 31,
   "id": "872bfa30",
   "metadata": {
    "scrolled": false
   },
   "outputs": [
    {
     "data": {
      "text/plain": [
       "Loan_amnt                 int64\n",
       "Funded_amnt               int64\n",
       "Funded_amnt_inv         float64\n",
       "Term                     object\n",
       "Int_rate                 object\n",
       "Installment             float64\n",
       "Grade                    object\n",
       "Sub_grade                object\n",
       "Emp_title                object\n",
       "Emp_length               object\n",
       "Home_ownership           object\n",
       "Annual_inc              float64\n",
       "Verification_status      object\n",
       "Issue_d                  object\n",
       "Loan_status              object\n",
       "Purpose                  object\n",
       "Title                    object\n",
       "Zip_code                 object\n",
       "Addr_state               object\n",
       "Dti                     float64\n",
       "Delinq_2yrs               int64\n",
       "Earliest_cr_line         object\n",
       "Inq_last_6mths            int64\n",
       "Open_acc                  int64\n",
       "Pub_rec                   int64\n",
       "Revol_bal                 int64\n",
       "Revol_util               object\n",
       "Total_acc                 int64\n",
       "Pub_rec_bankruptcies    float64\n",
       "dtype: object"
      ]
     },
     "execution_count": 31,
     "metadata": {},
     "output_type": "execute_result"
    }
   ],
   "source": [
    "#Some columns data types needs to be changed\n",
    "Loan_data.dtypes"
   ]
  },
  {
   "cell_type": "markdown",
   "id": "cad40fd8",
   "metadata": {},
   "source": [
    "#### Cleaning Term column:"
   ]
  },
  {
   "cell_type": "code",
   "execution_count": 32,
   "id": "5444ea29",
   "metadata": {
    "scrolled": false
   },
   "outputs": [
    {
     "data": {
      "text/plain": [
       " 36 months    27125\n",
       " 60 months     9011\n",
       "Name: Term, dtype: int64"
      ]
     },
     "execution_count": 32,
     "metadata": {},
     "output_type": "execute_result"
    }
   ],
   "source": [
    "Loan_data[\"Term\"].value_counts()"
   ]
  },
  {
   "cell_type": "code",
   "execution_count": 33,
   "id": "c0768e72",
   "metadata": {},
   "outputs": [],
   "source": [
    "#Cleaning \"Term\" column\n",
    "Loan_data[\"Term\"] = Loan_data[\"Term\"].apply(lambda x:int(x.strip(\"months\")))"
   ]
  },
  {
   "cell_type": "code",
   "execution_count": 34,
   "id": "3651f497",
   "metadata": {},
   "outputs": [
    {
     "data": {
      "text/plain": [
       "dtype('int64')"
      ]
     },
     "execution_count": 34,
     "metadata": {},
     "output_type": "execute_result"
    }
   ],
   "source": [
    "#renaming \"Term\" column name as \"Term_mnths\" in order to identify the column as month\n",
    "Loan_data.rename(columns={\"Term\":\"Term_mnths\"}, inplace=True)\n",
    "Loan_data[\"Term_mnths\"].dtypes"
   ]
  },
  {
   "cell_type": "markdown",
   "id": "73b0e658",
   "metadata": {},
   "source": [
    "#### Cleaning Int_rate column:"
   ]
  },
  {
   "cell_type": "code",
   "execution_count": 35,
   "id": "bb6761fb",
   "metadata": {
    "scrolled": true
   },
   "outputs": [
    {
     "data": {
      "text/plain": [
       "10.99%    862\n",
       "11.49%    739\n",
       "7.51%     732\n",
       "Name: Int_rate, dtype: int64"
      ]
     },
     "execution_count": 35,
     "metadata": {},
     "output_type": "execute_result"
    }
   ],
   "source": [
    "Loan_data[\"Int_rate\"].value_counts().head(3)"
   ]
  },
  {
   "cell_type": "code",
   "execution_count": 36,
   "id": "7e8238c5",
   "metadata": {},
   "outputs": [
    {
     "data": {
      "text/plain": [
       "dtype('float64')"
      ]
     },
     "execution_count": 36,
     "metadata": {},
     "output_type": "execute_result"
    }
   ],
   "source": [
    "#Cleaning int_rate column\n",
    "Loan_data[\"Int_rate\"] = Loan_data[\"Int_rate\"].apply(lambda x:float(x.strip(\"%\")))\n",
    "Loan_data[\"Int_rate\"].dtypes"
   ]
  },
  {
   "cell_type": "markdown",
   "id": "a3e825bf",
   "metadata": {},
   "source": [
    "#### Cleaning Emp_length column:"
   ]
  },
  {
   "cell_type": "code",
   "execution_count": 37,
   "id": "d29c41a0",
   "metadata": {
    "scrolled": true
   },
   "outputs": [
    {
     "data": {
      "text/plain": [
       "10+ years    8156\n",
       "2 years      4178\n",
       "< 1 year     4127\n",
       "3 years      3901\n",
       "4 years      3266\n",
       "5 years      3091\n",
       "1 year       3067\n",
       "6 years      2099\n",
       "7 years      1663\n",
       "8 years      1391\n",
       "9 years      1197\n",
       "Name: Emp_length, dtype: int64"
      ]
     },
     "execution_count": 37,
     "metadata": {},
     "output_type": "execute_result"
    }
   ],
   "source": [
    "Loan_data[\"Emp_length\"].value_counts()"
   ]
  },
  {
   "cell_type": "markdown",
   "id": "6deaf469",
   "metadata": {},
   "source": [
    "#### <font color=\"blue\">Assumption:\n",
    "\n",
    ">As already 1 year category present in the \"Emp_length\" column, lets assume <1 year as 0 year. and 10+ years as 10 years."
   ]
  },
  {
   "cell_type": "code",
   "execution_count": 38,
   "id": "b24c7f84",
   "metadata": {
    "scrolled": true
   },
   "outputs": [
    {
     "data": {
      "text/plain": [
       "dtype('float64')"
      ]
     },
     "execution_count": 38,
     "metadata": {},
     "output_type": "execute_result"
    }
   ],
   "source": [
    "#Assuming and replacing <1 year as 0 year and 10+ years as 10 years\n",
    "Loan_data[\"Emp_length\"].replace({\"< 1 year\":\"0 year\",\"10+ years\":\"10 years\"},inplace=True)\n",
    "\n",
    "#cleaning Emp_length\n",
    "Loan_data[\"Emp_length\"] = Loan_data.Emp_length.str.extract(\"(^\\d+)\").astype(\"float\")\n",
    "Loan_data[\"Emp_length\"].dtypes"
   ]
  },
  {
   "cell_type": "markdown",
   "id": "22566d0a",
   "metadata": {
    "scrolled": true
   },
   "source": [
    "#### Cleaning Revol_util column:"
   ]
  },
  {
   "cell_type": "code",
   "execution_count": 39,
   "id": "3a1b6c3f",
   "metadata": {},
   "outputs": [
    {
     "data": {
      "text/plain": [
       "0%       909\n",
       "0.20%     59\n",
       "63%       58\n",
       "Name: Revol_util, dtype: int64"
      ]
     },
     "execution_count": 39,
     "metadata": {},
     "output_type": "execute_result"
    }
   ],
   "source": [
    "Loan_data[\"Revol_util\"].value_counts().head(3)"
   ]
  },
  {
   "cell_type": "code",
   "execution_count": 40,
   "id": "cdee1181",
   "metadata": {
    "scrolled": true
   },
   "outputs": [
    {
     "data": {
      "text/plain": [
       "dtype('float64')"
      ]
     },
     "execution_count": 40,
     "metadata": {},
     "output_type": "execute_result"
    }
   ],
   "source": [
    "#cleaning revol utilization column\n",
    "Loan_data[\"Revol_util\"] = Loan_data[\"Revol_util\"].astype(str).apply(lambda x:float(x.rstrip(\"%\")))\n",
    "Loan_data[\"Revol_util\"].dtypes"
   ]
  },
  {
   "cell_type": "markdown",
   "id": "6a561363",
   "metadata": {},
   "source": [
    "#### Cleaning Revol_util column:"
   ]
  },
  {
   "cell_type": "code",
   "execution_count": 41,
   "id": "01919e03",
   "metadata": {},
   "outputs": [],
   "source": [
    "#converting all dates from string to datetime format\n",
    "Loan_data[\"Issue_d\"] = pd.to_datetime(Loan_data[\"Issue_d\"], format =\"%b-%y\")\n",
    "Loan_data[\"Earliest_cr_line\"] = pd.to_datetime(Loan_data[\"Earliest_cr_line\"], format =\"%b-%y\")"
   ]
  },
  {
   "cell_type": "code",
   "execution_count": 42,
   "id": "b9664b29",
   "metadata": {},
   "outputs": [
    {
     "data": {
      "text/plain": [
       "Id\n",
       "107136    1969-02-01\n",
       "454092    1969-02-01\n",
       "1057384   1969-03-01\n",
       "781693    1969-03-01\n",
       "474431    1969-03-01\n",
       "             ...    \n",
       "990789    2068-08-01\n",
       "1042802   2068-09-01\n",
       "879876    2068-09-01\n",
       "383364    2068-10-01\n",
       "647976    2068-12-01\n",
       "Name: Earliest_cr_line, Length: 36136, dtype: datetime64[ns]"
      ]
     },
     "execution_count": 42,
     "metadata": {},
     "output_type": "execute_result"
    }
   ],
   "source": [
    "Loan_data[\"Earliest_cr_line\"].sort_values()"
   ]
  },
  {
   "cell_type": "markdown",
   "id": "d617f782",
   "metadata": {},
   "source": [
    "The \"Earliest_cr_line\" contains years less than 1968. python datetime library interprets year less than 1968 for next century like 2068, thus we need to correct that."
   ]
  },
  {
   "cell_type": "code",
   "execution_count": 43,
   "id": "abac8fa9",
   "metadata": {},
   "outputs": [],
   "source": [
    "#writing function to correct the datetime\n",
    "def fix_date(x):\n",
    "    if x.year >= 2012:\n",
    "        year = x.year - 100\n",
    "    else:\n",
    "        year = x.year\n",
    "    return dt.date(year,x.month,x.day)"
   ]
  },
  {
   "cell_type": "code",
   "execution_count": 44,
   "id": "daec7a27",
   "metadata": {},
   "outputs": [],
   "source": [
    "#cleaning \"Earliest_cr_line\" column\n",
    "Loan_data[\"Earliest_cr_line\"] = Loan_data[\"Earliest_cr_line\"].apply(fix_date).astype(\"datetime64\")"
   ]
  },
  {
   "cell_type": "code",
   "execution_count": 45,
   "id": "611108e1",
   "metadata": {},
   "outputs": [
    {
     "data": {
      "text/plain": [
       "Id\n",
       "771203    1946-01-01\n",
       "751959    1950-12-01\n",
       "634940    1954-11-01\n",
       "772702    1956-09-01\n",
       "816677    1962-09-01\n",
       "             ...    \n",
       "1039102   2008-09-01\n",
       "989257    2008-09-01\n",
       "982285    2008-09-01\n",
       "1028850   2008-10-01\n",
       "1063003   2008-11-01\n",
       "Name: Earliest_cr_line, Length: 36136, dtype: datetime64[ns]"
      ]
     },
     "execution_count": 45,
     "metadata": {},
     "output_type": "execute_result"
    }
   ],
   "source": [
    "Loan_data[\"Earliest_cr_line\"].sort_values()"
   ]
  },
  {
   "cell_type": "code",
   "execution_count": 46,
   "id": "84d4dd70",
   "metadata": {},
   "outputs": [
    {
     "data": {
      "text/plain": [
       "Loan_amnt                        int64\n",
       "Funded_amnt                      int64\n",
       "Funded_amnt_inv                float64\n",
       "Term_mnths                       int64\n",
       "Int_rate                       float64\n",
       "Installment                    float64\n",
       "Grade                           object\n",
       "Sub_grade                       object\n",
       "Emp_title                       object\n",
       "Emp_length                     float64\n",
       "Home_ownership                  object\n",
       "Annual_inc                     float64\n",
       "Verification_status             object\n",
       "Issue_d                 datetime64[ns]\n",
       "Loan_status                     object\n",
       "Purpose                         object\n",
       "Title                           object\n",
       "Zip_code                        object\n",
       "Addr_state                      object\n",
       "Dti                            float64\n",
       "Delinq_2yrs                      int64\n",
       "Earliest_cr_line        datetime64[ns]\n",
       "Inq_last_6mths                   int64\n",
       "Open_acc                         int64\n",
       "Pub_rec                          int64\n",
       "Revol_bal                        int64\n",
       "Revol_util                     float64\n",
       "Total_acc                        int64\n",
       "Pub_rec_bankruptcies           float64\n",
       "dtype: object"
      ]
     },
     "execution_count": 46,
     "metadata": {},
     "output_type": "execute_result"
    }
   ],
   "source": [
    "#checking the data types of all the columns\n",
    "Loan_data.dtypes"
   ]
  },
  {
   "cell_type": "markdown",
   "id": "20dd6886",
   "metadata": {},
   "source": [
    "## Sanity checks"
   ]
  },
  {
   "cell_type": "markdown",
   "id": "5643fd5b",
   "metadata": {},
   "source": [
    "#### The Funded amount should not be more than Loan amount"
   ]
  },
  {
   "cell_type": "code",
   "execution_count": 47,
   "id": "7c0fb7f4",
   "metadata": {
    "scrolled": false
   },
   "outputs": [
    {
     "data": {
      "text/html": [
       "<div>\n",
       "<style scoped>\n",
       "    .dataframe tbody tr th:only-of-type {\n",
       "        vertical-align: middle;\n",
       "    }\n",
       "\n",
       "    .dataframe tbody tr th {\n",
       "        vertical-align: top;\n",
       "    }\n",
       "\n",
       "    .dataframe thead th {\n",
       "        text-align: right;\n",
       "    }\n",
       "</style>\n",
       "<table border=\"1\" class=\"dataframe\">\n",
       "  <thead>\n",
       "    <tr style=\"text-align: right;\">\n",
       "      <th></th>\n",
       "      <th>Loan_amnt</th>\n",
       "      <th>Funded_amnt</th>\n",
       "      <th>Funded_amnt_inv</th>\n",
       "      <th>Term_mnths</th>\n",
       "      <th>Int_rate</th>\n",
       "      <th>Installment</th>\n",
       "      <th>Grade</th>\n",
       "      <th>Sub_grade</th>\n",
       "      <th>Emp_title</th>\n",
       "      <th>Emp_length</th>\n",
       "      <th>Home_ownership</th>\n",
       "      <th>Annual_inc</th>\n",
       "      <th>Verification_status</th>\n",
       "      <th>Issue_d</th>\n",
       "      <th>Loan_status</th>\n",
       "      <th>Purpose</th>\n",
       "      <th>Title</th>\n",
       "      <th>Zip_code</th>\n",
       "      <th>Addr_state</th>\n",
       "      <th>Dti</th>\n",
       "      <th>Delinq_2yrs</th>\n",
       "      <th>Earliest_cr_line</th>\n",
       "      <th>Inq_last_6mths</th>\n",
       "      <th>Open_acc</th>\n",
       "      <th>Pub_rec</th>\n",
       "      <th>Revol_bal</th>\n",
       "      <th>Revol_util</th>\n",
       "      <th>Total_acc</th>\n",
       "      <th>Pub_rec_bankruptcies</th>\n",
       "    </tr>\n",
       "    <tr>\n",
       "      <th>Id</th>\n",
       "      <th></th>\n",
       "      <th></th>\n",
       "      <th></th>\n",
       "      <th></th>\n",
       "      <th></th>\n",
       "      <th></th>\n",
       "      <th></th>\n",
       "      <th></th>\n",
       "      <th></th>\n",
       "      <th></th>\n",
       "      <th></th>\n",
       "      <th></th>\n",
       "      <th></th>\n",
       "      <th></th>\n",
       "      <th></th>\n",
       "      <th></th>\n",
       "      <th></th>\n",
       "      <th></th>\n",
       "      <th></th>\n",
       "      <th></th>\n",
       "      <th></th>\n",
       "      <th></th>\n",
       "      <th></th>\n",
       "      <th></th>\n",
       "      <th></th>\n",
       "      <th></th>\n",
       "      <th></th>\n",
       "      <th></th>\n",
       "      <th></th>\n",
       "    </tr>\n",
       "  </thead>\n",
       "  <tbody>\n",
       "  </tbody>\n",
       "</table>\n",
       "</div>"
      ],
      "text/plain": [
       "Empty DataFrame\n",
       "Columns: [Loan_amnt, Funded_amnt, Funded_amnt_inv, Term_mnths, Int_rate, Installment, Grade, Sub_grade, Emp_title, Emp_length, Home_ownership, Annual_inc, Verification_status, Issue_d, Loan_status, Purpose, Title, Zip_code, Addr_state, Dti, Delinq_2yrs, Earliest_cr_line, Inq_last_6mths, Open_acc, Pub_rec, Revol_bal, Revol_util, Total_acc, Pub_rec_bankruptcies]\n",
       "Index: []"
      ]
     },
     "execution_count": 47,
     "metadata": {},
     "output_type": "execute_result"
    }
   ],
   "source": [
    "#Dropping the row if loan amount is less than funded amount\n",
    "Loan_data[Loan_data[\"Loan_amnt\"] < Loan_data[\"Funded_amnt\"]]"
   ]
  },
  {
   "cell_type": "markdown",
   "id": "a77ce3dc",
   "metadata": {},
   "source": [
    "All the funded amount is less than loan amount"
   ]
  },
  {
   "cell_type": "markdown",
   "id": "28fa1f72",
   "metadata": {},
   "source": [
    "#### The Funded amount by investors should not be more than funded amount"
   ]
  },
  {
   "cell_type": "code",
   "execution_count": 48,
   "id": "ff88a47a",
   "metadata": {},
   "outputs": [
    {
     "data": {
      "text/html": [
       "<div>\n",
       "<style scoped>\n",
       "    .dataframe tbody tr th:only-of-type {\n",
       "        vertical-align: middle;\n",
       "    }\n",
       "\n",
       "    .dataframe tbody tr th {\n",
       "        vertical-align: top;\n",
       "    }\n",
       "\n",
       "    .dataframe thead th {\n",
       "        text-align: right;\n",
       "    }\n",
       "</style>\n",
       "<table border=\"1\" class=\"dataframe\">\n",
       "  <thead>\n",
       "    <tr style=\"text-align: right;\">\n",
       "      <th></th>\n",
       "      <th>Loan_amnt</th>\n",
       "      <th>Funded_amnt</th>\n",
       "      <th>Funded_amnt_inv</th>\n",
       "      <th>Term_mnths</th>\n",
       "      <th>Int_rate</th>\n",
       "      <th>Installment</th>\n",
       "      <th>Grade</th>\n",
       "      <th>Sub_grade</th>\n",
       "      <th>Emp_title</th>\n",
       "      <th>Emp_length</th>\n",
       "      <th>Home_ownership</th>\n",
       "      <th>Annual_inc</th>\n",
       "      <th>Verification_status</th>\n",
       "      <th>Issue_d</th>\n",
       "      <th>Loan_status</th>\n",
       "      <th>Purpose</th>\n",
       "      <th>Title</th>\n",
       "      <th>Zip_code</th>\n",
       "      <th>Addr_state</th>\n",
       "      <th>Dti</th>\n",
       "      <th>Delinq_2yrs</th>\n",
       "      <th>Earliest_cr_line</th>\n",
       "      <th>Inq_last_6mths</th>\n",
       "      <th>Open_acc</th>\n",
       "      <th>Pub_rec</th>\n",
       "      <th>Revol_bal</th>\n",
       "      <th>Revol_util</th>\n",
       "      <th>Total_acc</th>\n",
       "      <th>Pub_rec_bankruptcies</th>\n",
       "    </tr>\n",
       "    <tr>\n",
       "      <th>Id</th>\n",
       "      <th></th>\n",
       "      <th></th>\n",
       "      <th></th>\n",
       "      <th></th>\n",
       "      <th></th>\n",
       "      <th></th>\n",
       "      <th></th>\n",
       "      <th></th>\n",
       "      <th></th>\n",
       "      <th></th>\n",
       "      <th></th>\n",
       "      <th></th>\n",
       "      <th></th>\n",
       "      <th></th>\n",
       "      <th></th>\n",
       "      <th></th>\n",
       "      <th></th>\n",
       "      <th></th>\n",
       "      <th></th>\n",
       "      <th></th>\n",
       "      <th></th>\n",
       "      <th></th>\n",
       "      <th></th>\n",
       "      <th></th>\n",
       "      <th></th>\n",
       "      <th></th>\n",
       "      <th></th>\n",
       "      <th></th>\n",
       "      <th></th>\n",
       "    </tr>\n",
       "  </thead>\n",
       "  <tbody>\n",
       "  </tbody>\n",
       "</table>\n",
       "</div>"
      ],
      "text/plain": [
       "Empty DataFrame\n",
       "Columns: [Loan_amnt, Funded_amnt, Funded_amnt_inv, Term_mnths, Int_rate, Installment, Grade, Sub_grade, Emp_title, Emp_length, Home_ownership, Annual_inc, Verification_status, Issue_d, Loan_status, Purpose, Title, Zip_code, Addr_state, Dti, Delinq_2yrs, Earliest_cr_line, Inq_last_6mths, Open_acc, Pub_rec, Revol_bal, Revol_util, Total_acc, Pub_rec_bankruptcies]\n",
       "Index: []"
      ]
     },
     "execution_count": 48,
     "metadata": {},
     "output_type": "execute_result"
    }
   ],
   "source": [
    "#Dropping the row if funded amount is less than the funded amount by investors\n",
    "Loan_data[Loan_data[\"Funded_amnt\"] < Loan_data[\"Funded_amnt_inv\"]]"
   ]
  },
  {
   "cell_type": "markdown",
   "id": "2091bdca",
   "metadata": {},
   "source": [
    "All the funded amount by investors is less than funded amount"
   ]
  },
  {
   "cell_type": "markdown",
   "id": "686e78f1",
   "metadata": {},
   "source": [
    "#### The overall amount to be paid should not be less than funded amount with some interests\n",
    "\n",
    "Amount to be paid = (Term months * Installment)"
   ]
  },
  {
   "cell_type": "code",
   "execution_count": 49,
   "id": "5eb80792",
   "metadata": {
    "scrolled": true
   },
   "outputs": [
    {
     "data": {
      "text/html": [
       "<div>\n",
       "<style scoped>\n",
       "    .dataframe tbody tr th:only-of-type {\n",
       "        vertical-align: middle;\n",
       "    }\n",
       "\n",
       "    .dataframe tbody tr th {\n",
       "        vertical-align: top;\n",
       "    }\n",
       "\n",
       "    .dataframe thead th {\n",
       "        text-align: right;\n",
       "    }\n",
       "</style>\n",
       "<table border=\"1\" class=\"dataframe\">\n",
       "  <thead>\n",
       "    <tr style=\"text-align: right;\">\n",
       "      <th></th>\n",
       "      <th>Loan_amnt</th>\n",
       "      <th>Funded_amnt</th>\n",
       "      <th>Funded_amnt_inv</th>\n",
       "      <th>Term_mnths</th>\n",
       "      <th>Int_rate</th>\n",
       "      <th>Installment</th>\n",
       "      <th>Grade</th>\n",
       "      <th>Sub_grade</th>\n",
       "      <th>Emp_title</th>\n",
       "      <th>Emp_length</th>\n",
       "      <th>Home_ownership</th>\n",
       "      <th>Annual_inc</th>\n",
       "      <th>Verification_status</th>\n",
       "      <th>Issue_d</th>\n",
       "      <th>Loan_status</th>\n",
       "      <th>Purpose</th>\n",
       "      <th>Title</th>\n",
       "      <th>Zip_code</th>\n",
       "      <th>Addr_state</th>\n",
       "      <th>Dti</th>\n",
       "      <th>Delinq_2yrs</th>\n",
       "      <th>Earliest_cr_line</th>\n",
       "      <th>Inq_last_6mths</th>\n",
       "      <th>Open_acc</th>\n",
       "      <th>Pub_rec</th>\n",
       "      <th>Revol_bal</th>\n",
       "      <th>Revol_util</th>\n",
       "      <th>Total_acc</th>\n",
       "      <th>Pub_rec_bankruptcies</th>\n",
       "    </tr>\n",
       "    <tr>\n",
       "      <th>Id</th>\n",
       "      <th></th>\n",
       "      <th></th>\n",
       "      <th></th>\n",
       "      <th></th>\n",
       "      <th></th>\n",
       "      <th></th>\n",
       "      <th></th>\n",
       "      <th></th>\n",
       "      <th></th>\n",
       "      <th></th>\n",
       "      <th></th>\n",
       "      <th></th>\n",
       "      <th></th>\n",
       "      <th></th>\n",
       "      <th></th>\n",
       "      <th></th>\n",
       "      <th></th>\n",
       "      <th></th>\n",
       "      <th></th>\n",
       "      <th></th>\n",
       "      <th></th>\n",
       "      <th></th>\n",
       "      <th></th>\n",
       "      <th></th>\n",
       "      <th></th>\n",
       "      <th></th>\n",
       "      <th></th>\n",
       "      <th></th>\n",
       "      <th></th>\n",
       "    </tr>\n",
       "  </thead>\n",
       "  <tbody>\n",
       "  </tbody>\n",
       "</table>\n",
       "</div>"
      ],
      "text/plain": [
       "Empty DataFrame\n",
       "Columns: [Loan_amnt, Funded_amnt, Funded_amnt_inv, Term_mnths, Int_rate, Installment, Grade, Sub_grade, Emp_title, Emp_length, Home_ownership, Annual_inc, Verification_status, Issue_d, Loan_status, Purpose, Title, Zip_code, Addr_state, Dti, Delinq_2yrs, Earliest_cr_line, Inq_last_6mths, Open_acc, Pub_rec, Revol_bal, Revol_util, Total_acc, Pub_rec_bankruptcies]\n",
       "Index: []"
      ]
     },
     "execution_count": 49,
     "metadata": {},
     "output_type": "execute_result"
    }
   ],
   "source": [
    "#Dropping the row having overall amount to be paid less than funded amount with interest\n",
    "Loan_data[(Loan_data[\"Installment\"] * Loan_data[\"Term_mnths\"]) < (Loan_data[\"Funded_amnt\"])]"
   ]
  },
  {
   "cell_type": "markdown",
   "id": "cc7011c2",
   "metadata": {},
   "source": [
    "The overall amount to be paid is not less than the funded amount with some interests"
   ]
  },
  {
   "cell_type": "markdown",
   "id": "98e3c8db",
   "metadata": {},
   "source": [
    "#### The customer applying for the loan for the purpose of debt consolidation should not have dept-to-income ratio as zero."
   ]
  },
  {
   "cell_type": "code",
   "execution_count": 50,
   "id": "cf770568",
   "metadata": {},
   "outputs": [
    {
     "data": {
      "text/html": [
       "<div>\n",
       "<style scoped>\n",
       "    .dataframe tbody tr th:only-of-type {\n",
       "        vertical-align: middle;\n",
       "    }\n",
       "\n",
       "    .dataframe tbody tr th {\n",
       "        vertical-align: top;\n",
       "    }\n",
       "\n",
       "    .dataframe thead th {\n",
       "        text-align: right;\n",
       "    }\n",
       "</style>\n",
       "<table border=\"1\" class=\"dataframe\">\n",
       "  <thead>\n",
       "    <tr style=\"text-align: right;\">\n",
       "      <th></th>\n",
       "      <th>Loan_amnt</th>\n",
       "      <th>Funded_amnt</th>\n",
       "      <th>Funded_amnt_inv</th>\n",
       "      <th>Term_mnths</th>\n",
       "      <th>Int_rate</th>\n",
       "      <th>Installment</th>\n",
       "      <th>Grade</th>\n",
       "      <th>Sub_grade</th>\n",
       "      <th>Emp_title</th>\n",
       "      <th>Emp_length</th>\n",
       "      <th>Home_ownership</th>\n",
       "      <th>Annual_inc</th>\n",
       "      <th>Verification_status</th>\n",
       "      <th>Issue_d</th>\n",
       "      <th>Loan_status</th>\n",
       "      <th>Purpose</th>\n",
       "      <th>Title</th>\n",
       "      <th>Zip_code</th>\n",
       "      <th>Addr_state</th>\n",
       "      <th>Dti</th>\n",
       "      <th>Delinq_2yrs</th>\n",
       "      <th>Earliest_cr_line</th>\n",
       "      <th>Inq_last_6mths</th>\n",
       "      <th>Open_acc</th>\n",
       "      <th>Pub_rec</th>\n",
       "      <th>Revol_bal</th>\n",
       "      <th>Revol_util</th>\n",
       "      <th>Total_acc</th>\n",
       "      <th>Pub_rec_bankruptcies</th>\n",
       "    </tr>\n",
       "    <tr>\n",
       "      <th>Id</th>\n",
       "      <th></th>\n",
       "      <th></th>\n",
       "      <th></th>\n",
       "      <th></th>\n",
       "      <th></th>\n",
       "      <th></th>\n",
       "      <th></th>\n",
       "      <th></th>\n",
       "      <th></th>\n",
       "      <th></th>\n",
       "      <th></th>\n",
       "      <th></th>\n",
       "      <th></th>\n",
       "      <th></th>\n",
       "      <th></th>\n",
       "      <th></th>\n",
       "      <th></th>\n",
       "      <th></th>\n",
       "      <th></th>\n",
       "      <th></th>\n",
       "      <th></th>\n",
       "      <th></th>\n",
       "      <th></th>\n",
       "      <th></th>\n",
       "      <th></th>\n",
       "      <th></th>\n",
       "      <th></th>\n",
       "      <th></th>\n",
       "      <th></th>\n",
       "    </tr>\n",
       "  </thead>\n",
       "  <tbody>\n",
       "    <tr>\n",
       "      <th>1008627</th>\n",
       "      <td>6500</td>\n",
       "      <td>6500</td>\n",
       "      <td>6500.000</td>\n",
       "      <td>36</td>\n",
       "      <td>10.650</td>\n",
       "      <td>211.730</td>\n",
       "      <td>B</td>\n",
       "      <td>B2</td>\n",
       "      <td>Donovan Hatem LLP</td>\n",
       "      <td>2.000</td>\n",
       "      <td>MORTGAGE</td>\n",
       "      <td>56650.000</td>\n",
       "      <td>Not Verified</td>\n",
       "      <td>2011-11-01</td>\n",
       "      <td>Fully Paid</td>\n",
       "      <td>debt_consolidation</td>\n",
       "      <td>Loan Consolidation</td>\n",
       "      <td>021xx</td>\n",
       "      <td>MA</td>\n",
       "      <td>0.000</td>\n",
       "      <td>0</td>\n",
       "      <td>1998-10-01</td>\n",
       "      <td>2</td>\n",
       "      <td>2</td>\n",
       "      <td>0</td>\n",
       "      <td>0</td>\n",
       "      <td>0.000</td>\n",
       "      <td>7</td>\n",
       "      <td>0.000</td>\n",
       "    </tr>\n",
       "    <tr>\n",
       "      <th>1001046</th>\n",
       "      <td>5150</td>\n",
       "      <td>5150</td>\n",
       "      <td>5150.000</td>\n",
       "      <td>36</td>\n",
       "      <td>7.900</td>\n",
       "      <td>161.150</td>\n",
       "      <td>A</td>\n",
       "      <td>A4</td>\n",
       "      <td>Walmart Information Systems Division</td>\n",
       "      <td>7.000</td>\n",
       "      <td>RENT</td>\n",
       "      <td>68000.000</td>\n",
       "      <td>Verified</td>\n",
       "      <td>2011-11-01</td>\n",
       "      <td>Fully Paid</td>\n",
       "      <td>debt_consolidation</td>\n",
       "      <td>Debt Consolidation 2011</td>\n",
       "      <td>727xx</td>\n",
       "      <td>AR</td>\n",
       "      <td>0.000</td>\n",
       "      <td>0</td>\n",
       "      <td>1997-09-01</td>\n",
       "      <td>2</td>\n",
       "      <td>6</td>\n",
       "      <td>0</td>\n",
       "      <td>0</td>\n",
       "      <td>0.000</td>\n",
       "      <td>10</td>\n",
       "      <td>0.000</td>\n",
       "    </tr>\n",
       "  </tbody>\n",
       "</table>\n",
       "</div>"
      ],
      "text/plain": [
       "         Loan_amnt  Funded_amnt  Funded_amnt_inv  Term_mnths  Int_rate  Installment Grade  \\\n",
       "Id                                                                                          \n",
       "1008627       6500         6500         6500.000          36    10.650      211.730     B   \n",
       "1001046       5150         5150         5150.000          36     7.900      161.150     A   \n",
       "\n",
       "        Sub_grade                             Emp_title  Emp_length Home_ownership  Annual_inc  \\\n",
       "Id                                                                                               \n",
       "1008627        B2                     Donovan Hatem LLP       2.000       MORTGAGE   56650.000   \n",
       "1001046        A4  Walmart Information Systems Division       7.000           RENT   68000.000   \n",
       "\n",
       "        Verification_status    Issue_d Loan_status             Purpose                    Title  \\\n",
       "Id                                                                                                \n",
       "1008627        Not Verified 2011-11-01  Fully Paid  debt_consolidation       Loan Consolidation   \n",
       "1001046            Verified 2011-11-01  Fully Paid  debt_consolidation  Debt Consolidation 2011   \n",
       "\n",
       "        Zip_code Addr_state   Dti  Delinq_2yrs Earliest_cr_line  Inq_last_6mths  Open_acc  \\\n",
       "Id                                                                                          \n",
       "1008627    021xx         MA 0.000            0       1998-10-01               2         2   \n",
       "1001046    727xx         AR 0.000            0       1997-09-01               2         6   \n",
       "\n",
       "         Pub_rec  Revol_bal  Revol_util  Total_acc  Pub_rec_bankruptcies  \n",
       "Id                                                                        \n",
       "1008627        0          0       0.000          7                 0.000  \n",
       "1001046        0          0       0.000         10                 0.000  "
      ]
     },
     "execution_count": 50,
     "metadata": {},
     "output_type": "execute_result"
    }
   ],
   "source": [
    "Loan_data[(Loan_data[\"Purpose\"].str.contains(\"debt_consolidation\")) & (Loan_data[\"Dti\"]==0)].head(2)"
   ]
  },
  {
   "cell_type": "markdown",
   "id": "2c8ccd1a",
   "metadata": {},
   "source": [
    "There are 25 customers who have zero dept-to-income ratio but applied for debt consolidation loan, which is suspicious, thus we can drop the records"
   ]
  },
  {
   "cell_type": "code",
   "execution_count": 51,
   "id": "ec7eabb2",
   "metadata": {},
   "outputs": [
    {
     "data": {
      "text/plain": [
       "(36111, 29)"
      ]
     },
     "execution_count": 51,
     "metadata": {},
     "output_type": "execute_result"
    }
   ],
   "source": [
    "#Dropping the row having zero dti but applying loan for dept consolidation\n",
    "Loan_data = Loan_data[-((Loan_data[\"Purpose\"].str.contains(\"debt_consolidation\")) & (Loan_data[\"Dti\"]==0))]\n",
    "Loan_data.shape"
   ]
  },
  {
   "cell_type": "markdown",
   "id": "fef98364",
   "metadata": {},
   "source": [
    "#### The number of open accounts in  borrower's credit file should not be greater than total accounts in his credit file"
   ]
  },
  {
   "cell_type": "code",
   "execution_count": 52,
   "id": "57d19ac5",
   "metadata": {},
   "outputs": [
    {
     "data": {
      "text/html": [
       "<div>\n",
       "<style scoped>\n",
       "    .dataframe tbody tr th:only-of-type {\n",
       "        vertical-align: middle;\n",
       "    }\n",
       "\n",
       "    .dataframe tbody tr th {\n",
       "        vertical-align: top;\n",
       "    }\n",
       "\n",
       "    .dataframe thead th {\n",
       "        text-align: right;\n",
       "    }\n",
       "</style>\n",
       "<table border=\"1\" class=\"dataframe\">\n",
       "  <thead>\n",
       "    <tr style=\"text-align: right;\">\n",
       "      <th></th>\n",
       "      <th>Loan_amnt</th>\n",
       "      <th>Funded_amnt</th>\n",
       "      <th>Funded_amnt_inv</th>\n",
       "      <th>Term_mnths</th>\n",
       "      <th>Int_rate</th>\n",
       "      <th>Installment</th>\n",
       "      <th>Grade</th>\n",
       "      <th>Sub_grade</th>\n",
       "      <th>Emp_title</th>\n",
       "      <th>Emp_length</th>\n",
       "      <th>Home_ownership</th>\n",
       "      <th>Annual_inc</th>\n",
       "      <th>Verification_status</th>\n",
       "      <th>Issue_d</th>\n",
       "      <th>Loan_status</th>\n",
       "      <th>Purpose</th>\n",
       "      <th>Title</th>\n",
       "      <th>Zip_code</th>\n",
       "      <th>Addr_state</th>\n",
       "      <th>Dti</th>\n",
       "      <th>Delinq_2yrs</th>\n",
       "      <th>Earliest_cr_line</th>\n",
       "      <th>Inq_last_6mths</th>\n",
       "      <th>Open_acc</th>\n",
       "      <th>Pub_rec</th>\n",
       "      <th>Revol_bal</th>\n",
       "      <th>Revol_util</th>\n",
       "      <th>Total_acc</th>\n",
       "      <th>Pub_rec_bankruptcies</th>\n",
       "    </tr>\n",
       "    <tr>\n",
       "      <th>Id</th>\n",
       "      <th></th>\n",
       "      <th></th>\n",
       "      <th></th>\n",
       "      <th></th>\n",
       "      <th></th>\n",
       "      <th></th>\n",
       "      <th></th>\n",
       "      <th></th>\n",
       "      <th></th>\n",
       "      <th></th>\n",
       "      <th></th>\n",
       "      <th></th>\n",
       "      <th></th>\n",
       "      <th></th>\n",
       "      <th></th>\n",
       "      <th></th>\n",
       "      <th></th>\n",
       "      <th></th>\n",
       "      <th></th>\n",
       "      <th></th>\n",
       "      <th></th>\n",
       "      <th></th>\n",
       "      <th></th>\n",
       "      <th></th>\n",
       "      <th></th>\n",
       "      <th></th>\n",
       "      <th></th>\n",
       "      <th></th>\n",
       "      <th></th>\n",
       "    </tr>\n",
       "  </thead>\n",
       "  <tbody>\n",
       "    <tr>\n",
       "      <th>127213</th>\n",
       "      <td>2000</td>\n",
       "      <td>2000</td>\n",
       "      <td>1575.000</td>\n",
       "      <td>36</td>\n",
       "      <td>7.120</td>\n",
       "      <td>61.870</td>\n",
       "      <td>A</td>\n",
       "      <td>A1</td>\n",
       "      <td>U.S. Government</td>\n",
       "      <td>10.000</td>\n",
       "      <td>MORTGAGE</td>\n",
       "      <td>118000.000</td>\n",
       "      <td>Not Verified</td>\n",
       "      <td>2007-09-01</td>\n",
       "      <td>Fully Paid</td>\n",
       "      <td>debt_consolidation</td>\n",
       "      <td>consolidate debt</td>\n",
       "      <td>020xx</td>\n",
       "      <td>MA</td>\n",
       "      <td>0.430</td>\n",
       "      <td>0</td>\n",
       "      <td>1991-06-01</td>\n",
       "      <td>0</td>\n",
       "      <td>14</td>\n",
       "      <td>0</td>\n",
       "      <td>4709</td>\n",
       "      <td>18.500</td>\n",
       "      <td>8</td>\n",
       "      <td>0.000</td>\n",
       "    </tr>\n",
       "  </tbody>\n",
       "</table>\n",
       "</div>"
      ],
      "text/plain": [
       "        Loan_amnt  Funded_amnt  Funded_amnt_inv  Term_mnths  Int_rate  Installment Grade  \\\n",
       "Id                                                                                         \n",
       "127213       2000         2000         1575.000          36     7.120       61.870     A   \n",
       "\n",
       "       Sub_grade        Emp_title  Emp_length Home_ownership  Annual_inc Verification_status  \\\n",
       "Id                                                                                             \n",
       "127213        A1  U.S. Government      10.000       MORTGAGE  118000.000        Not Verified   \n",
       "\n",
       "          Issue_d Loan_status             Purpose             Title Zip_code Addr_state   Dti  \\\n",
       "Id                                                                                              \n",
       "127213 2007-09-01  Fully Paid  debt_consolidation  consolidate debt    020xx         MA 0.430   \n",
       "\n",
       "        Delinq_2yrs Earliest_cr_line  Inq_last_6mths  Open_acc  Pub_rec  Revol_bal  Revol_util  \\\n",
       "Id                                                                                               \n",
       "127213            0       1991-06-01               0        14        0       4709      18.500   \n",
       "\n",
       "        Total_acc  Pub_rec_bankruptcies  \n",
       "Id                                       \n",
       "127213          8                 0.000  "
      ]
     },
     "execution_count": 52,
     "metadata": {},
     "output_type": "execute_result"
    }
   ],
   "source": [
    "Loan_data[Loan_data[\"Open_acc\"] > Loan_data[\"Total_acc\"]]"
   ]
  },
  {
   "cell_type": "markdown",
   "id": "a25a6060",
   "metadata": {},
   "source": [
    "In this row, total number of open credit lines in borrower's credit file is more than the total credit lines in borrower's current credit file. This row is suspicious thus we can drop it."
   ]
  },
  {
   "cell_type": "code",
   "execution_count": 53,
   "id": "889827c5",
   "metadata": {},
   "outputs": [
    {
     "data": {
      "text/plain": [
       "(36110, 29)"
      ]
     },
     "execution_count": 53,
     "metadata": {},
     "output_type": "execute_result"
    }
   ],
   "source": [
    "#Dropping the rows having open credit lines in credit file is more than total credit lines in credit file\n",
    "Loan_data = Loan_data[-(Loan_data[\"Open_acc\"] > Loan_data[\"Total_acc\"])]\n",
    "Loan_data.shape"
   ]
  },
  {
   "cell_type": "markdown",
   "id": "e931f67f",
   "metadata": {},
   "source": [
    "### Categorical data cleaning"
   ]
  },
  {
   "cell_type": "code",
   "execution_count": 54,
   "id": "a4d3b6cf",
   "metadata": {},
   "outputs": [],
   "source": [
    "#Extracting categorical variables from dataset and naming as \"Cat_Loan_data\"\n",
    "Cat_Loan_data = Loan_data.select_dtypes(exclude=[np.number])\n",
    "\n",
    "#Extracting numeric variables from dataset and naming as \"Num_Loan_data\"\n",
    "Num_Loan_data = Loan_data.select_dtypes(include=[np.number])"
   ]
  },
  {
   "cell_type": "markdown",
   "id": "f42639a3",
   "metadata": {},
   "source": [
    ">Cat_Loan_data  =  Categorical columns of loan data\n",
    ">\n",
    ">Num_Loan_data  =  Numerical columns of loan data"
   ]
  },
  {
   "cell_type": "code",
   "execution_count": 55,
   "id": "85197c3b",
   "metadata": {},
   "outputs": [
    {
     "data": {
      "text/html": [
       "<div>\n",
       "<style scoped>\n",
       "    .dataframe tbody tr th:only-of-type {\n",
       "        vertical-align: middle;\n",
       "    }\n",
       "\n",
       "    .dataframe tbody tr th {\n",
       "        vertical-align: top;\n",
       "    }\n",
       "\n",
       "    .dataframe thead th {\n",
       "        text-align: right;\n",
       "    }\n",
       "</style>\n",
       "<table border=\"1\" class=\"dataframe\">\n",
       "  <thead>\n",
       "    <tr style=\"text-align: right;\">\n",
       "      <th></th>\n",
       "      <th>Grade</th>\n",
       "      <th>Sub_grade</th>\n",
       "      <th>Emp_title</th>\n",
       "      <th>Home_ownership</th>\n",
       "      <th>Verification_status</th>\n",
       "      <th>Issue_d</th>\n",
       "      <th>Loan_status</th>\n",
       "      <th>Purpose</th>\n",
       "      <th>Title</th>\n",
       "      <th>Zip_code</th>\n",
       "      <th>Addr_state</th>\n",
       "      <th>Earliest_cr_line</th>\n",
       "    </tr>\n",
       "    <tr>\n",
       "      <th>Id</th>\n",
       "      <th></th>\n",
       "      <th></th>\n",
       "      <th></th>\n",
       "      <th></th>\n",
       "      <th></th>\n",
       "      <th></th>\n",
       "      <th></th>\n",
       "      <th></th>\n",
       "      <th></th>\n",
       "      <th></th>\n",
       "      <th></th>\n",
       "      <th></th>\n",
       "    </tr>\n",
       "  </thead>\n",
       "  <tbody>\n",
       "    <tr>\n",
       "      <th>1077430</th>\n",
       "      <td>C</td>\n",
       "      <td>C4</td>\n",
       "      <td>Ryder</td>\n",
       "      <td>RENT</td>\n",
       "      <td>Source Verified</td>\n",
       "      <td>2011-12-01</td>\n",
       "      <td>Charged Off</td>\n",
       "      <td>car</td>\n",
       "      <td>bike</td>\n",
       "      <td>309xx</td>\n",
       "      <td>GA</td>\n",
       "      <td>1999-04-01</td>\n",
       "    </tr>\n",
       "    <tr>\n",
       "      <th>1076863</th>\n",
       "      <td>C</td>\n",
       "      <td>C1</td>\n",
       "      <td>AIR RESOURCES BOARD</td>\n",
       "      <td>RENT</td>\n",
       "      <td>Source Verified</td>\n",
       "      <td>2011-12-01</td>\n",
       "      <td>Fully Paid</td>\n",
       "      <td>other</td>\n",
       "      <td>personel</td>\n",
       "      <td>917xx</td>\n",
       "      <td>CA</td>\n",
       "      <td>1996-02-01</td>\n",
       "    </tr>\n",
       "  </tbody>\n",
       "</table>\n",
       "</div>"
      ],
      "text/plain": [
       "        Grade Sub_grade            Emp_title Home_ownership Verification_status    Issue_d  \\\n",
       "Id                                                                                           \n",
       "1077430     C        C4                Ryder           RENT     Source Verified 2011-12-01   \n",
       "1076863     C        C1  AIR RESOURCES BOARD           RENT     Source Verified 2011-12-01   \n",
       "\n",
       "         Loan_status Purpose     Title Zip_code Addr_state Earliest_cr_line  \n",
       "Id                                                                           \n",
       "1077430  Charged Off     car      bike    309xx         GA       1999-04-01  \n",
       "1076863   Fully Paid   other  personel    917xx         CA       1996-02-01  "
      ]
     },
     "execution_count": 55,
     "metadata": {},
     "output_type": "execute_result"
    }
   ],
   "source": [
    "Cat_Loan_data.head(2)"
   ]
  },
  {
   "cell_type": "markdown",
   "id": "9a95ef2c",
   "metadata": {},
   "source": [
    "#### Cleaning Emp_title column:"
   ]
  },
  {
   "cell_type": "code",
   "execution_count": 56,
   "id": "163ccbce",
   "metadata": {
    "scrolled": true
   },
   "outputs": [
    {
     "name": "stdout",
     "output_type": "stream",
     "text": [
      "The unique count of Emp title column is 27964\n"
     ]
    },
    {
     "data": {
      "text/plain": [
       "US Army              131\n",
       "Bank of America      107\n",
       "IBM                   65\n",
       "AT&T                  57\n",
       "Kaiser Permanente     56\n",
       "UPS                   52\n",
       "Wells Fargo           52\n",
       "USAF                  51\n",
       "US Air Force          51\n",
       "Walmart               45\n",
       "Name: Emp_title, dtype: int64"
      ]
     },
     "execution_count": 56,
     "metadata": {},
     "output_type": "execute_result"
    }
   ],
   "source": [
    "print(\"The unique count of Emp title column is\", Loan_data[\"Emp_title\"].nunique())\n",
    "Loan_data[\"Emp_title\"].value_counts().head(10)"
   ]
  },
  {
   "cell_type": "markdown",
   "id": "99863283",
   "metadata": {},
   "source": [
    "The employment title have more number of duplicates, thus we need to deduplicate the values."
   ]
  },
  {
   "cell_type": "code",
   "execution_count": 57,
   "id": "3d0b094e",
   "metadata": {
    "scrolled": false
   },
   "outputs": [
    {
     "name": "stdout",
     "output_type": "stream",
     "text": [
      "After cleaning, the unique count of Employment title column becomes 25623\n"
     ]
    },
    {
     "data": {
      "text/plain": [
       "usarmy             296\n",
       "usairforce         174\n",
       "selfemployed       154\n",
       "bankofamerica      134\n",
       "walmart            112\n",
       "uspostalservice    110\n",
       "jpmorganchase       90\n",
       "atandt              88\n",
       "usnavy              81\n",
       "wellsfargo          71\n",
       "Name: Emp_title, dtype: int64"
      ]
     },
     "execution_count": 57,
     "metadata": {},
     "output_type": "execute_result"
    }
   ],
   "source": [
    "#replacing the symbols in the Emp title column\n",
    "Loan_data[\"Emp_title\"] = Loan_data[\"Emp_title\"].apply(lambda x:x.strip().replace(\",\",\"\").replace(\".\",\"\").replace(\"&\",\"and\").replace(\"-\",\" \").replace(\"'\",\"\").replace(\" \",\"\").lower())\n",
    "#replacing dublicate values\n",
    "Loan_data[\"Emp_title\"].replace({\"unitedstatesairforce\":\"usairforce\",\"unitedstatesarmy\":\"usarmy\",\"self\":\"selfemployed\",\"unitedstatespostalservice\":\"uspostalservice\",\"usaf\":\"usairforce\",\"unitedstatesnavy\":\"usnavy\"}, inplace =True)\n",
    "print(\"After cleaning, the unique count of Employment title column becomes\",Loan_data[\"Emp_title\"].nunique())\n",
    "Loan_data[\"Emp_title\"].value_counts().head(10)"
   ]
  },
  {
   "cell_type": "markdown",
   "id": "1f46d24f",
   "metadata": {},
   "source": [
    "Removed spaces,commas,etc and uncapitalized the Employment title column, thus merged 2341 duplicates in employment title column"
   ]
  },
  {
   "cell_type": "markdown",
   "id": "ff21a1c5",
   "metadata": {},
   "source": [
    "#### Cleaning title column:"
   ]
  },
  {
   "cell_type": "code",
   "execution_count": 58,
   "id": "9e88115f",
   "metadata": {
    "scrolled": false
   },
   "outputs": [
    {
     "name": "stdout",
     "output_type": "stream",
     "text": [
      "the unique values of the title column is 18088\n"
     ]
    },
    {
     "data": {
      "text/plain": [
       "Debt Consolidation           2007\n",
       "Debt Consolidation Loan      1547\n",
       "Personal Loan                 614\n",
       "Consolidation                 475\n",
       "debt consolidation            446\n",
       "Credit Card Consolidation     332\n",
       "Home Improvement              327\n",
       "Debt consolidation            307\n",
       "Personal                      283\n",
       "Credit Card Loan              280\n",
       "Name: Title, dtype: int64"
      ]
     },
     "execution_count": 58,
     "metadata": {},
     "output_type": "execute_result"
    }
   ],
   "source": [
    "print(\"the unique values of the title column is\",Loan_data[\"Title\"].nunique())\n",
    "Loan_data[\"Title\"].value_counts().head(10)"
   ]
  },
  {
   "cell_type": "markdown",
   "id": "a89e1e6a",
   "metadata": {},
   "source": [
    "The title have more number of duplicates, thus we need to deduplicate the values."
   ]
  },
  {
   "cell_type": "code",
   "execution_count": 59,
   "id": "b4661242",
   "metadata": {},
   "outputs": [
    {
     "name": "stdout",
     "output_type": "stream",
     "text": [
      "After almost cleaning, the unique count becomes  11171\n"
     ]
    },
    {
     "data": {
      "text/plain": [
       "debt consolidation    8341\n",
       "credit card           3765\n",
       "personal              1907\n",
       "home                  1734\n",
       "consolidation         1086\n",
       "wedding                419\n",
       "small business         316\n",
       "car                    301\n",
       "dept consolidation     291\n",
       "other                  227\n",
       "Name: Title, dtype: int64"
      ]
     },
     "execution_count": 59,
     "metadata": {},
     "output_type": "execute_result"
    }
   ],
   "source": [
    "Loan_data[\"Title\"] = Loan_data[\"Title\"].apply(lambda x:x.lower().replace(\"_\",\" \").strip())\n",
    "#converting all credit card reasons in title column as credit card\n",
    "Loan_data.loc[Loan_data[\"Title\"].str.contains(\"credit card\"), \"Title\"] = \"credit card\"\n",
    "#converting all education reasons in title column as education\n",
    "Loan_data.loc[Loan_data[\"Title\"].str.contains(\"education\"), \"Title\"] = \"education\"\n",
    "\n",
    "#converting all personal loan reasons in title column as personal\n",
    "Loan_data.loc[Loan_data[\"Title\"].str.contains(\"personal\"), \"Title\"] = \"personal\"\n",
    "#converting all home reasons in title column as home\n",
    "Loan_data.loc[Loan_data[\"Title\"].str.contains(\"home\"), \"Title\"] = \"home\"\n",
    "\n",
    "#removing loan from the end\n",
    "Loan_data[\"Title\"] = Loan_data[\"Title\"].apply(lambda x:x.replace(\"loan\",\"\").replace(\"dept\",\"debt\").strip())\n",
    "#converting all dept reasons in title column as dept consolidation\n",
    "Loan_data.loc[Loan_data[\"Title\"].str.contains(\"debt\"), \"Title\"] = \"debt consolidation\"\n",
    "Loan_data[\"Title\"].value_counts().head(50)\n",
    "\n",
    "#some rows with having value only \"loan\" is replaced with space,while cleaning the title column\n",
    "#thus replacing those with mode values.\n",
    "Loan_data[\"Title\"] = Loan_data[\"Title\"].apply(lambda x:\"dept consolidation\" if x==\"\" else x)\n",
    "print(\"After almost cleaning, the unique count becomes \",Loan_data[\"Title\"].nunique())\n",
    "Loan_data[\"Title\"].value_counts().head(10)"
   ]
  },
  {
   "cell_type": "markdown",
   "id": "c00734d3",
   "metadata": {},
   "source": [
    "Deduplicated the title column, thus merged 6917 duplicates in title column"
   ]
  },
  {
   "cell_type": "markdown",
   "id": "003789f9",
   "metadata": {},
   "source": [
    "### Outliers analysis"
   ]
  },
  {
   "cell_type": "code",
   "execution_count": 60,
   "id": "07c05725",
   "metadata": {
    "scrolled": true
   },
   "outputs": [
    {
     "data": {
      "text/html": [
       "<div>\n",
       "<style scoped>\n",
       "    .dataframe tbody tr th:only-of-type {\n",
       "        vertical-align: middle;\n",
       "    }\n",
       "\n",
       "    .dataframe tbody tr th {\n",
       "        vertical-align: top;\n",
       "    }\n",
       "\n",
       "    .dataframe thead th {\n",
       "        text-align: right;\n",
       "    }\n",
       "</style>\n",
       "<table border=\"1\" class=\"dataframe\">\n",
       "  <thead>\n",
       "    <tr style=\"text-align: right;\">\n",
       "      <th></th>\n",
       "      <th>Loan_amnt</th>\n",
       "      <th>Funded_amnt</th>\n",
       "      <th>Funded_amnt_inv</th>\n",
       "      <th>Term_mnths</th>\n",
       "      <th>Int_rate</th>\n",
       "      <th>Installment</th>\n",
       "      <th>Emp_length</th>\n",
       "      <th>Annual_inc</th>\n",
       "      <th>Dti</th>\n",
       "      <th>Delinq_2yrs</th>\n",
       "      <th>Inq_last_6mths</th>\n",
       "      <th>Open_acc</th>\n",
       "      <th>Pub_rec</th>\n",
       "      <th>Revol_bal</th>\n",
       "      <th>Revol_util</th>\n",
       "      <th>Total_acc</th>\n",
       "      <th>Pub_rec_bankruptcies</th>\n",
       "    </tr>\n",
       "  </thead>\n",
       "  <tbody>\n",
       "    <tr>\n",
       "      <th>count</th>\n",
       "      <td>36110.000</td>\n",
       "      <td>36110.000</td>\n",
       "      <td>36110.000</td>\n",
       "      <td>36110.000</td>\n",
       "      <td>36110.000</td>\n",
       "      <td>36110.000</td>\n",
       "      <td>36110.000</td>\n",
       "      <td>36110.000</td>\n",
       "      <td>36110.000</td>\n",
       "      <td>36110.000</td>\n",
       "      <td>36110.000</td>\n",
       "      <td>36110.000</td>\n",
       "      <td>36110.000</td>\n",
       "      <td>36110.000</td>\n",
       "      <td>36110.000</td>\n",
       "      <td>36110.000</td>\n",
       "      <td>36110.000</td>\n",
       "    </tr>\n",
       "    <tr>\n",
       "      <th>mean</th>\n",
       "      <td>11105.825</td>\n",
       "      <td>10842.131</td>\n",
       "      <td>10270.288</td>\n",
       "      <td>41.988</td>\n",
       "      <td>11.969</td>\n",
       "      <td>323.875</td>\n",
       "      <td>4.963</td>\n",
       "      <td>69045.534</td>\n",
       "      <td>13.363</td>\n",
       "      <td>0.147</td>\n",
       "      <td>0.871</td>\n",
       "      <td>9.328</td>\n",
       "      <td>0.054</td>\n",
       "      <td>13358.693</td>\n",
       "      <td>49.000</td>\n",
       "      <td>22.140</td>\n",
       "      <td>0.041</td>\n",
       "    </tr>\n",
       "    <tr>\n",
       "      <th>std</th>\n",
       "      <td>7313.945</td>\n",
       "      <td>7060.203</td>\n",
       "      <td>6993.577</td>\n",
       "      <td>10.385</td>\n",
       "      <td>3.685</td>\n",
       "      <td>207.270</td>\n",
       "      <td>3.541</td>\n",
       "      <td>64634.119</td>\n",
       "      <td>6.640</td>\n",
       "      <td>0.495</td>\n",
       "      <td>1.068</td>\n",
       "      <td>4.394</td>\n",
       "      <td>0.235</td>\n",
       "      <td>15723.940</td>\n",
       "      <td>28.274</td>\n",
       "      <td>11.411</td>\n",
       "      <td>0.199</td>\n",
       "    </tr>\n",
       "    <tr>\n",
       "      <th>min</th>\n",
       "      <td>500.000</td>\n",
       "      <td>500.000</td>\n",
       "      <td>0.000</td>\n",
       "      <td>36.000</td>\n",
       "      <td>5.420</td>\n",
       "      <td>16.080</td>\n",
       "      <td>0.000</td>\n",
       "      <td>4000.000</td>\n",
       "      <td>0.000</td>\n",
       "      <td>0.000</td>\n",
       "      <td>0.000</td>\n",
       "      <td>2.000</td>\n",
       "      <td>0.000</td>\n",
       "      <td>0.000</td>\n",
       "      <td>0.000</td>\n",
       "      <td>2.000</td>\n",
       "      <td>0.000</td>\n",
       "    </tr>\n",
       "    <tr>\n",
       "      <th>25%</th>\n",
       "      <td>5500.000</td>\n",
       "      <td>5400.000</td>\n",
       "      <td>5000.000</td>\n",
       "      <td>36.000</td>\n",
       "      <td>9.010</td>\n",
       "      <td>167.710</td>\n",
       "      <td>2.000</td>\n",
       "      <td>41000.000</td>\n",
       "      <td>8.270</td>\n",
       "      <td>0.000</td>\n",
       "      <td>0.000</td>\n",
       "      <td>6.000</td>\n",
       "      <td>0.000</td>\n",
       "      <td>3747.250</td>\n",
       "      <td>25.700</td>\n",
       "      <td>14.000</td>\n",
       "      <td>0.000</td>\n",
       "    </tr>\n",
       "    <tr>\n",
       "      <th>50%</th>\n",
       "      <td>10000.000</td>\n",
       "      <td>9600.000</td>\n",
       "      <td>8875.000</td>\n",
       "      <td>36.000</td>\n",
       "      <td>11.830</td>\n",
       "      <td>280.375</td>\n",
       "      <td>4.000</td>\n",
       "      <td>60000.000</td>\n",
       "      <td>13.470</td>\n",
       "      <td>0.000</td>\n",
       "      <td>1.000</td>\n",
       "      <td>9.000</td>\n",
       "      <td>0.000</td>\n",
       "      <td>8903.000</td>\n",
       "      <td>49.500</td>\n",
       "      <td>20.000</td>\n",
       "      <td>0.000</td>\n",
       "    </tr>\n",
       "    <tr>\n",
       "      <th>75%</th>\n",
       "      <td>15000.000</td>\n",
       "      <td>15000.000</td>\n",
       "      <td>14011.462</td>\n",
       "      <td>36.000</td>\n",
       "      <td>14.420</td>\n",
       "      <td>426.470</td>\n",
       "      <td>9.000</td>\n",
       "      <td>82006.000</td>\n",
       "      <td>18.610</td>\n",
       "      <td>0.000</td>\n",
       "      <td>1.000</td>\n",
       "      <td>12.000</td>\n",
       "      <td>0.000</td>\n",
       "      <td>17043.000</td>\n",
       "      <td>72.500</td>\n",
       "      <td>29.000</td>\n",
       "      <td>0.000</td>\n",
       "    </tr>\n",
       "    <tr>\n",
       "      <th>max</th>\n",
       "      <td>35000.000</td>\n",
       "      <td>35000.000</td>\n",
       "      <td>35000.000</td>\n",
       "      <td>60.000</td>\n",
       "      <td>24.400</td>\n",
       "      <td>1305.190</td>\n",
       "      <td>10.000</td>\n",
       "      <td>6000000.000</td>\n",
       "      <td>29.990</td>\n",
       "      <td>11.000</td>\n",
       "      <td>8.000</td>\n",
       "      <td>44.000</td>\n",
       "      <td>4.000</td>\n",
       "      <td>149588.000</td>\n",
       "      <td>99.900</td>\n",
       "      <td>90.000</td>\n",
       "      <td>2.000</td>\n",
       "    </tr>\n",
       "  </tbody>\n",
       "</table>\n",
       "</div>"
      ],
      "text/plain": [
       "       Loan_amnt  Funded_amnt  Funded_amnt_inv  Term_mnths  Int_rate  Installment  Emp_length  \\\n",
       "count  36110.000    36110.000        36110.000   36110.000 36110.000    36110.000   36110.000   \n",
       "mean   11105.825    10842.131        10270.288      41.988    11.969      323.875       4.963   \n",
       "std     7313.945     7060.203         6993.577      10.385     3.685      207.270       3.541   \n",
       "min      500.000      500.000            0.000      36.000     5.420       16.080       0.000   \n",
       "25%     5500.000     5400.000         5000.000      36.000     9.010      167.710       2.000   \n",
       "50%    10000.000     9600.000         8875.000      36.000    11.830      280.375       4.000   \n",
       "75%    15000.000    15000.000        14011.462      36.000    14.420      426.470       9.000   \n",
       "max    35000.000    35000.000        35000.000      60.000    24.400     1305.190      10.000   \n",
       "\n",
       "       Annual_inc       Dti  Delinq_2yrs  Inq_last_6mths  Open_acc   Pub_rec  Revol_bal  \\\n",
       "count   36110.000 36110.000    36110.000       36110.000 36110.000 36110.000  36110.000   \n",
       "mean    69045.534    13.363        0.147           0.871     9.328     0.054  13358.693   \n",
       "std     64634.119     6.640        0.495           1.068     4.394     0.235  15723.940   \n",
       "min      4000.000     0.000        0.000           0.000     2.000     0.000      0.000   \n",
       "25%     41000.000     8.270        0.000           0.000     6.000     0.000   3747.250   \n",
       "50%     60000.000    13.470        0.000           1.000     9.000     0.000   8903.000   \n",
       "75%     82006.000    18.610        0.000           1.000    12.000     0.000  17043.000   \n",
       "max   6000000.000    29.990       11.000           8.000    44.000     4.000 149588.000   \n",
       "\n",
       "       Revol_util  Total_acc  Pub_rec_bankruptcies  \n",
       "count   36110.000  36110.000             36110.000  \n",
       "mean       49.000     22.140                 0.041  \n",
       "std        28.274     11.411                 0.199  \n",
       "min         0.000      2.000                 0.000  \n",
       "25%        25.700     14.000                 0.000  \n",
       "50%        49.500     20.000                 0.000  \n",
       "75%        72.500     29.000                 0.000  \n",
       "max        99.900     90.000                 2.000  "
      ]
     },
     "execution_count": 60,
     "metadata": {},
     "output_type": "execute_result"
    }
   ],
   "source": [
    "Loan_data.describe()"
   ]
  },
  {
   "cell_type": "markdown",
   "id": "2c728e90",
   "metadata": {},
   "source": [
    "#### Detail inferred from the statistical data\n",
    "\n",
    "> - If the difference between mean and median is so large(without having more number of zero values in the column), then it is evident that the column has outliers.\n",
    ">\n",
    "> - From the above details, the \"Annual_inc\" column contains outliers."
   ]
  },
  {
   "cell_type": "markdown",
   "id": "90584916",
   "metadata": {},
   "source": [
    "#### Checking Annual_inc column:"
   ]
  },
  {
   "cell_type": "code",
   "execution_count": 61,
   "id": "c768afde",
   "metadata": {
    "scrolled": false
   },
   "outputs": [
    {
     "data": {
      "image/png": "[encoded data removed]",
      "text/plain": [
       "<Figure size 576x396 with 1 Axes>"
      ]
     },
     "metadata": {},
     "output_type": "display_data"
    }
   ],
   "source": [
    "plt.boxplot(Loan_data[\"Annual_inc\"], vert=False)\n",
    "plt.xticks(rotation=0,fontsize=7)\n",
    "plt.title(\"Box Plot of Annual Income\",fontsize=20)\n",
    "plt.xlabel(\"Annual income\",fontsize=15)\n",
    "plt.show()"
   ]
  },
  {
   "cell_type": "markdown",
   "id": "ff20066f",
   "metadata": {},
   "source": [
    "From the box plot it is clearly evident that the annual income column has outliers. These outliers will leads to a biased inference, thus we need to remove these outliers.\n",
    "\n",
    "#### <font color=\"blue\">suggestion:\n",
    "> We can drop the rows with annual income more than 06 lakh."
   ]
  },
  {
   "cell_type": "code",
   "execution_count": 62,
   "id": "905f6f4d",
   "metadata": {},
   "outputs": [
    {
     "data": {
      "text/plain": [
       "(36065, 29)"
      ]
     },
     "execution_count": 62,
     "metadata": {},
     "output_type": "execute_result"
    }
   ],
   "source": [
    "#dropping rows with annual income more than 06 lakh\n",
    "Loan_data = Loan_data[-(Loan_data[\"Annual_inc\"]>600000)]\n",
    "Loan_data.shape"
   ]
  },
  {
   "cell_type": "markdown",
   "id": "b1c39244",
   "metadata": {},
   "source": [
    "## <font color=\"blue\">Data Visualization"
   ]
  },
  {
   "cell_type": "code",
   "execution_count": 63,
   "id": "b454f559",
   "metadata": {
    "scrolled": true
   },
   "outputs": [
    {
     "data": {
      "text/html": [
       "<div>\n",
       "<style scoped>\n",
       "    .dataframe tbody tr th:only-of-type {\n",
       "        vertical-align: middle;\n",
       "    }\n",
       "\n",
       "    .dataframe tbody tr th {\n",
       "        vertical-align: top;\n",
       "    }\n",
       "\n",
       "    .dataframe thead th {\n",
       "        text-align: right;\n",
       "    }\n",
       "</style>\n",
       "<table border=\"1\" class=\"dataframe\">\n",
       "  <thead>\n",
       "    <tr style=\"text-align: right;\">\n",
       "      <th></th>\n",
       "      <th>Grade</th>\n",
       "      <th>Sub_grade</th>\n",
       "      <th>Emp_title</th>\n",
       "      <th>Home_ownership</th>\n",
       "      <th>Verification_status</th>\n",
       "      <th>Issue_d</th>\n",
       "      <th>Loan_status</th>\n",
       "      <th>Purpose</th>\n",
       "      <th>Title</th>\n",
       "      <th>Zip_code</th>\n",
       "      <th>Addr_state</th>\n",
       "      <th>Earliest_cr_line</th>\n",
       "    </tr>\n",
       "    <tr>\n",
       "      <th>Id</th>\n",
       "      <th></th>\n",
       "      <th></th>\n",
       "      <th></th>\n",
       "      <th></th>\n",
       "      <th></th>\n",
       "      <th></th>\n",
       "      <th></th>\n",
       "      <th></th>\n",
       "      <th></th>\n",
       "      <th></th>\n",
       "      <th></th>\n",
       "      <th></th>\n",
       "    </tr>\n",
       "  </thead>\n",
       "  <tbody>\n",
       "    <tr>\n",
       "      <th>1077430</th>\n",
       "      <td>C</td>\n",
       "      <td>C4</td>\n",
       "      <td>Ryder</td>\n",
       "      <td>RENT</td>\n",
       "      <td>Source Verified</td>\n",
       "      <td>2011-12-01</td>\n",
       "      <td>Charged Off</td>\n",
       "      <td>car</td>\n",
       "      <td>bike</td>\n",
       "      <td>309xx</td>\n",
       "      <td>GA</td>\n",
       "      <td>1999-04-01</td>\n",
       "    </tr>\n",
       "    <tr>\n",
       "      <th>1076863</th>\n",
       "      <td>C</td>\n",
       "      <td>C1</td>\n",
       "      <td>AIR RESOURCES BOARD</td>\n",
       "      <td>RENT</td>\n",
       "      <td>Source Verified</td>\n",
       "      <td>2011-12-01</td>\n",
       "      <td>Fully Paid</td>\n",
       "      <td>other</td>\n",
       "      <td>personel</td>\n",
       "      <td>917xx</td>\n",
       "      <td>CA</td>\n",
       "      <td>1996-02-01</td>\n",
       "    </tr>\n",
       "  </tbody>\n",
       "</table>\n",
       "</div>"
      ],
      "text/plain": [
       "        Grade Sub_grade            Emp_title Home_ownership Verification_status    Issue_d  \\\n",
       "Id                                                                                           \n",
       "1077430     C        C4                Ryder           RENT     Source Verified 2011-12-01   \n",
       "1076863     C        C1  AIR RESOURCES BOARD           RENT     Source Verified 2011-12-01   \n",
       "\n",
       "         Loan_status Purpose     Title Zip_code Addr_state Earliest_cr_line  \n",
       "Id                                                                           \n",
       "1077430  Charged Off     car      bike    309xx         GA       1999-04-01  \n",
       "1076863   Fully Paid   other  personel    917xx         CA       1996-02-01  "
      ]
     },
     "execution_count": 63,
     "metadata": {},
     "output_type": "execute_result"
    }
   ],
   "source": [
    "#categorical dataset\n",
    "Cat_Loan_data.head(2)"
   ]
  },
  {
   "cell_type": "code",
   "execution_count": 64,
   "id": "080c10bb",
   "metadata": {},
   "outputs": [
    {
     "data": {
      "text/html": [
       "<div>\n",
       "<style scoped>\n",
       "    .dataframe tbody tr th:only-of-type {\n",
       "        vertical-align: middle;\n",
       "    }\n",
       "\n",
       "    .dataframe tbody tr th {\n",
       "        vertical-align: top;\n",
       "    }\n",
       "\n",
       "    .dataframe thead th {\n",
       "        text-align: right;\n",
       "    }\n",
       "</style>\n",
       "<table border=\"1\" class=\"dataframe\">\n",
       "  <thead>\n",
       "    <tr style=\"text-align: right;\">\n",
       "      <th></th>\n",
       "      <th>Loan_amnt</th>\n",
       "      <th>Funded_amnt</th>\n",
       "      <th>Funded_amnt_inv</th>\n",
       "      <th>Term_mnths</th>\n",
       "      <th>Int_rate</th>\n",
       "      <th>Installment</th>\n",
       "      <th>Emp_length</th>\n",
       "      <th>Annual_inc</th>\n",
       "      <th>Dti</th>\n",
       "      <th>Delinq_2yrs</th>\n",
       "      <th>Inq_last_6mths</th>\n",
       "      <th>Open_acc</th>\n",
       "      <th>Pub_rec</th>\n",
       "      <th>Revol_bal</th>\n",
       "      <th>Revol_util</th>\n",
       "      <th>Total_acc</th>\n",
       "      <th>Pub_rec_bankruptcies</th>\n",
       "    </tr>\n",
       "    <tr>\n",
       "      <th>Id</th>\n",
       "      <th></th>\n",
       "      <th></th>\n",
       "      <th></th>\n",
       "      <th></th>\n",
       "      <th></th>\n",
       "      <th></th>\n",
       "      <th></th>\n",
       "      <th></th>\n",
       "      <th></th>\n",
       "      <th></th>\n",
       "      <th></th>\n",
       "      <th></th>\n",
       "      <th></th>\n",
       "      <th></th>\n",
       "      <th></th>\n",
       "      <th></th>\n",
       "      <th></th>\n",
       "    </tr>\n",
       "  </thead>\n",
       "  <tbody>\n",
       "    <tr>\n",
       "      <th>1077430</th>\n",
       "      <td>2500</td>\n",
       "      <td>2500</td>\n",
       "      <td>2500.000</td>\n",
       "      <td>60</td>\n",
       "      <td>15.270</td>\n",
       "      <td>59.830</td>\n",
       "      <td>0.000</td>\n",
       "      <td>30000.000</td>\n",
       "      <td>1.000</td>\n",
       "      <td>0</td>\n",
       "      <td>5</td>\n",
       "      <td>3</td>\n",
       "      <td>0</td>\n",
       "      <td>1687</td>\n",
       "      <td>9.400</td>\n",
       "      <td>4</td>\n",
       "      <td>0.000</td>\n",
       "    </tr>\n",
       "    <tr>\n",
       "      <th>1076863</th>\n",
       "      <td>10000</td>\n",
       "      <td>10000</td>\n",
       "      <td>10000.000</td>\n",
       "      <td>36</td>\n",
       "      <td>13.490</td>\n",
       "      <td>339.310</td>\n",
       "      <td>10.000</td>\n",
       "      <td>49200.000</td>\n",
       "      <td>20.000</td>\n",
       "      <td>0</td>\n",
       "      <td>1</td>\n",
       "      <td>10</td>\n",
       "      <td>0</td>\n",
       "      <td>5598</td>\n",
       "      <td>21.000</td>\n",
       "      <td>37</td>\n",
       "      <td>0.000</td>\n",
       "    </tr>\n",
       "  </tbody>\n",
       "</table>\n",
       "</div>"
      ],
      "text/plain": [
       "         Loan_amnt  Funded_amnt  Funded_amnt_inv  Term_mnths  Int_rate  Installment  Emp_length  \\\n",
       "Id                                                                                                \n",
       "1077430       2500         2500         2500.000          60    15.270       59.830       0.000   \n",
       "1076863      10000        10000        10000.000          36    13.490      339.310      10.000   \n",
       "\n",
       "         Annual_inc    Dti  Delinq_2yrs  Inq_last_6mths  Open_acc  Pub_rec  Revol_bal  Revol_util  \\\n",
       "Id                                                                                                  \n",
       "1077430   30000.000  1.000            0               5         3        0       1687       9.400   \n",
       "1076863   49200.000 20.000            0               1        10        0       5598      21.000   \n",
       "\n",
       "         Total_acc  Pub_rec_bankruptcies  \n",
       "Id                                        \n",
       "1077430          4                 0.000  \n",
       "1076863         37                 0.000  "
      ]
     },
     "execution_count": 64,
     "metadata": {},
     "output_type": "execute_result"
    }
   ],
   "source": [
    "#numercial dataset\n",
    "Num_Loan_data.head(2)"
   ]
  },
  {
   "cell_type": "markdown",
   "id": "1d375aec",
   "metadata": {},
   "source": [
    "### Univariate analysis"
   ]
  },
  {
   "cell_type": "markdown",
   "id": "a2924cb7",
   "metadata": {},
   "source": [
    "#### 1. Analyzing Loan status column:"
   ]
  },
  {
   "cell_type": "code",
   "execution_count": 65,
   "id": "e7f5b926",
   "metadata": {},
   "outputs": [
    {
     "data": {
      "image/png": "[encoded data removed]",
      "text/plain": [
       "<Figure size 864x576 with 2 Axes>"
      ]
     },
     "metadata": {},
     "output_type": "display_data"
    }
   ],
   "source": [
    "plt.figure(figsize=[12,8])\n",
    "#plotting a pie chart for Loan status column\n",
    "plt.subplot(1,2,1)\n",
    "Loan_data[\"Loan_status\"].value_counts().plot.pie(autopct=\"%1.0f%%\", startangle=60, colors=[\"coral\",\"lightblue\"],wedgeprops={\"linewidth\":1, \"edgecolor\":\"k\"})\n",
    "plt.title(\"distribution of Loan status\", fontsize=20)\n",
    "\n",
    "#plotting a horizontal bar chart for Loan status column\n",
    "plt.subplot(1,2,2)\n",
    "Loan_data[\"Loan_status\"].value_counts().plot.barh(width=0.3, color=[\"coral\",\"lightblue\"],linewidth=1, edgecolor=\"k\")\n",
    "plt.title(\"count of loan status\", fontsize=20)\n",
    "plt.xlabel(\"count\")\n",
    "plt.show()"
   ]
  },
  {
   "cell_type": "markdown",
   "id": "3d0b1cfb",
   "metadata": {},
   "source": [
    "#### <font color=\"blue\">Point to infer from the graph:\n",
    "\n",
    "> - Among the total client population approximately 14% of people facing difficulties in repaying the loan."
   ]
  },
  {
   "cell_type": "markdown",
   "id": "31076509",
   "metadata": {},
   "source": [
    "#### 2. Analyzing Purpose Column:"
   ]
  },
  {
   "cell_type": "code",
   "execution_count": 66,
   "id": "bf83ad57",
   "metadata": {},
   "outputs": [
    {
     "data": {
      "image/png": "[encoded data removed]",
      "text/plain": [
       "<Figure size 720x432 with 1 Axes>"
      ]
     },
     "metadata": {},
     "output_type": "display_data"
    }
   ],
   "source": [
    "#plotting distribution of purpose of loan \n",
    "plt.figure(figsize=[10,6])\n",
    "Loan_data[\"Purpose\"].value_counts().head(15).plot.bar(color=sns.color_palette(\"deep\"),linewidth=1,edgecolor=\"k\")\n",
    "plt.title(\"Distribution of Purpose\", fontsize=20)\n",
    "plt.xlabel(\"Purpose\",fontsize=15)\n",
    "plt.ylabel(\"Frequency\",fontsize=15)\n",
    "plt.show()"
   ]
  },
  {
   "cell_type": "markdown",
   "id": "9c2f22ec",
   "metadata": {},
   "source": [
    "#### <font color=\"blue\">Point to infer from the graph:\n",
    "\n",
    "> - Most of the customers are applying loan for dept consolidation followed by credit card payments."
   ]
  },
  {
   "cell_type": "markdown",
   "id": "86a28e5f",
   "metadata": {},
   "source": [
    "#### 3. Analyzing Grades Column:"
   ]
  },
  {
   "cell_type": "code",
   "execution_count": 67,
   "id": "aca1197b",
   "metadata": {},
   "outputs": [
    {
     "data": {
      "image/png": "[encoded data removed]",
      "text/plain": [
       "<Figure size 576x432 with 1 Axes>"
      ]
     },
     "metadata": {},
     "output_type": "display_data"
    }
   ],
   "source": [
    "#plotting a horizontal bar chart for Grade column\n",
    "plt.figure(figsize=[8,6])\n",
    "Loan_data[\"Grade\"].value_counts().plot.bar(width=0.5, color=sns.color_palette(\"muted\",7),linewidth=1, edgecolor=\"k\")\n",
    "plt.title(\"Distribution of Grades\", fontsize=20)\n",
    "plt.ylabel(\"Frequency\", fontsize=15)\n",
    "plt.xlabel(\"Grade\",fontsize=15)\n",
    "plt.show()"
   ]
  },
  {
   "cell_type": "markdown",
   "id": "08bc3077",
   "metadata": {},
   "source": [
    "#### <font color=\"blue\">Point to infer from the graph:\n",
    "\n",
    ">- More number of loans were approved for grade B applicants with minimum approval for grade G applicants."
   ]
  },
  {
   "cell_type": "markdown",
   "id": "7c98f8e5",
   "metadata": {},
   "source": [
    "#### 4. Analyzing Employment title  Column:"
   ]
  },
  {
   "cell_type": "code",
   "execution_count": 68,
   "id": "457d4d75",
   "metadata": {},
   "outputs": [
    {
     "data": {
      "image/png": "[encoded data removed]",
      "text/plain": [
       "<Figure size 720x432 with 1 Axes>"
      ]
     },
     "metadata": {},
     "output_type": "display_data"
    }
   ],
   "source": [
    "#plotting distribution of employment title\n",
    "plt.figure(figsize=[10,6])\n",
    "Loan_data[\"Emp_title\"].value_counts().head(15).plot.bar(color=sns.color_palette(\"deep\"),linewidth=1,edgecolor=\"k\")\n",
    "plt.title(\"Distribution of Employment title\", fontsize=20)\n",
    "plt.xlabel(\"Employment title\",fontsize=15)\n",
    "plt.ylabel(\"Frequency\",fontsize=15)\n",
    "plt.show()"
   ]
  },
  {
   "cell_type": "markdown",
   "id": "c07225b0",
   "metadata": {},
   "source": [
    "#### <font color=\"blue\">Point to infer from the graph\n",
    "\n",
    "> - The united states army and airforce employees apply for the loan the most.\n",
    ">\n",
    "> - Among the top ten employees category applied for the loan, five were government employees of united states.\n"
   ]
  },
  {
   "cell_type": "markdown",
   "id": "c8218f52",
   "metadata": {},
   "source": [
    "#### 5. Analyzing Home Ownership Column:"
   ]
  },
  {
   "cell_type": "code",
   "execution_count": 69,
   "id": "f7b6abe1",
   "metadata": {},
   "outputs": [
    {
     "data": {
      "text/plain": [
       "RENT        17480\n",
       "MORTGAGE    15919\n",
       "OWN          2569\n",
       "OTHER          96\n",
       "NONE            1\n",
       "Name: Home_ownership, dtype: int64"
      ]
     },
     "execution_count": 69,
     "metadata": {},
     "output_type": "execute_result"
    }
   ],
   "source": [
    "Loan_data[\"Home_ownership\"].value_counts()"
   ]
  },
  {
   "cell_type": "code",
   "execution_count": 70,
   "id": "09bc7c96",
   "metadata": {},
   "outputs": [
    {
     "data": {
      "image/png": "[encoded data removed]",
      "text/plain": [
       "<Figure size 576x396 with 1 Axes>"
      ]
     },
     "metadata": {},
     "output_type": "display_data"
    }
   ],
   "source": [
    "#Removing rows with values which are less represented\n",
    "Loan_data = Loan_data[-(Loan_data[\"Home_ownership\"].isin([\"NONE\",\"OTHER\"]))]\n",
    "Loan_data[\"Home_ownership\"].value_counts().plot.pie(autopct=\"%5.0f%%\", startangle=3,colors=sns.color_palette(\"Set1_r\"),wedgeprops={\"linewidth\":1, \"edgecolor\":\"k\"})\n",
    "plt.title(\"Distribution of Home ownership\", fontsize=20)\n",
    "plt.show()"
   ]
  },
  {
   "cell_type": "markdown",
   "id": "13bba3b2",
   "metadata": {},
   "source": [
    "#### <font color=\"blue\">Point to infer from the graph\n",
    "\n",
    "> - Approximately 49% of the applicants are living in rent."
   ]
  },
  {
   "cell_type": "markdown",
   "id": "b0911350",
   "metadata": {},
   "source": [
    "#### 6. Analyzing loan amount column:"
   ]
  },
  {
   "cell_type": "code",
   "execution_count": 71,
   "id": "e1f37f8a",
   "metadata": {
    "scrolled": false
   },
   "outputs": [
    {
     "data": {
      "image/png": "[encoded data removed]",
      "text/plain": [
       "<Figure size 540x360 with 1 Axes>"
      ]
     },
     "metadata": {},
     "output_type": "display_data"
    }
   ],
   "source": [
    "#Plotting distribution plot for loan amount\n",
    "sns.displot(data=Loan_data, x=\"Loan_amnt\", bins=13, color=\"g\",height=5, aspect=1.5)\n",
    "plt.title(\"Distribution of Loan amount\",fontsize=20)\n",
    "plt.show()"
   ]
  },
  {
   "cell_type": "markdown",
   "id": "cb07755b",
   "metadata": {},
   "source": [
    "#### <font color=\"blue\">Point to infer from the graph:\n",
    "\n",
    "> - The majority loan amount provided to the customer is inbetween 5000 and 10000."
   ]
  },
  {
   "cell_type": "markdown",
   "id": "c955aca5",
   "metadata": {},
   "source": [
    "#### 7. Analyzing Employment length column:"
   ]
  },
  {
   "cell_type": "code",
   "execution_count": 72,
   "id": "402a1ddd",
   "metadata": {},
   "outputs": [
    {
     "data": {
      "image/png": "[encoded data removed]",
      "text/plain": [
       "<Figure size 720x432 with 1 Axes>"
      ]
     },
     "metadata": {},
     "output_type": "display_data"
    }
   ],
   "source": [
    "#plotting distribution of employment length\n",
    "plt.figure(figsize=[10,6])\n",
    "Loan_data[\"Emp_length\"].value_counts().head(15).plot.bar(color=sns.color_palette(\"deep\"),linewidth=1,edgecolor=\"k\")\n",
    "plt.title(\"Distribution of Employment length\", fontsize=20)\n",
    "plt.xlabel(\"Employment length\",fontsize=15)\n",
    "plt.ylabel(\"Frequency\",fontsize=15)\n",
    "plt.show()"
   ]
  },
  {
   "cell_type": "markdown",
   "id": "0d727096",
   "metadata": {},
   "source": [
    "#### <font color=\"blue\">Point to infer from the graph:\n",
    "\n",
    "> - Those who having more than 10 years of experience were applying for the loan the most."
   ]
  },
  {
   "cell_type": "markdown",
   "id": "a1d2ee1b",
   "metadata": {},
   "source": [
    "#### 8. Analyzing Term month column:"
   ]
  },
  {
   "cell_type": "code",
   "execution_count": 73,
   "id": "cf51f9a3",
   "metadata": {},
   "outputs": [
    {
     "data": {
      "image/png": "[encoded data removed]",
      "text/plain": [
       "<Figure size 576x396 with 1 Axes>"
      ]
     },
     "metadata": {},
     "output_type": "display_data"
    }
   ],
   "source": [
    "#Plotting distribution of Term month\n",
    "Loan_data[\"Term_mnths\"].value_counts().plot.pie(autopct=\"%5.0f%%\", startangle=90,colors=sns.color_palette(\"Set1_r\"),wedgeprops={\"linewidth\":1, \"edgecolor\":\"k\"})\n",
    "plt.title(\"Distribution of Term months\", fontsize=20)\n",
    "circle = plt.Circle( (0,0), 0.6, color='white')\n",
    "p=plt.gcf()\n",
    "p.gca().add_artist(circle)\n",
    "plt.show()"
   ]
  },
  {
   "cell_type": "markdown",
   "id": "54ff658e",
   "metadata": {},
   "source": [
    "#### <font color=\"blue\">Point to infer from the graph:\n",
    "\n",
    "> - Approximately 75% of loan belongs to 36 month term period."
   ]
  },
  {
   "cell_type": "markdown",
   "id": "698b6bac",
   "metadata": {},
   "source": [
    "#### 9. Analyzing Int Rate column:"
   ]
  },
  {
   "cell_type": "code",
   "execution_count": 74,
   "id": "ad612941",
   "metadata": {},
   "outputs": [
    {
     "data": {
      "image/png": "[encoded data removed]",
      "text/plain": [
       "<Figure size 576x396 with 1 Axes>"
      ]
     },
     "metadata": {},
     "output_type": "display_data"
    }
   ],
   "source": [
    "#plotting distribution of purpose of loan \n",
    "sns.boxplot(x = Loan_data[\"Int_rate\"])\n",
    "plt.title(\"Spread of interest rate\", fontsize=20)\n",
    "plt.xlabel(\"interest rate\",fontsize=15)\n",
    "plt.show()"
   ]
  },
  {
   "cell_type": "markdown",
   "id": "0238ee24",
   "metadata": {},
   "source": [
    "####  <font color=\"blue\">Point to infer from the graph:\n",
    "\n",
    "> - Interest rate is mostly inbetween 10 to 15 percentage."
   ]
  },
  {
   "cell_type": "markdown",
   "id": "073aadc8",
   "metadata": {},
   "source": [
    "#### 10. Analyzing Annual income column:"
   ]
  },
  {
   "cell_type": "code",
   "execution_count": 75,
   "id": "3b3fad77",
   "metadata": {},
   "outputs": [
    {
     "data": {
      "image/png": "[encoded data removed]",
      "text/plain": [
       "<Figure size 576x396 with 1 Axes>"
      ]
     },
     "metadata": {},
     "output_type": "display_data"
    }
   ],
   "source": [
    "#Plotting scatter plot for annual income column\n",
    "sns.scatterplot(x=Loan_data.index, y=Loan_data[\"Annual_inc\"], hue=Loan_data[\"Loan_status\"])\n",
    "plt.title(\"Distribution of Annual Income\",fontsize=20)\n",
    "plt.xlabel(\"Index\")\n",
    "plt.ylabel(\"Annual Income\")\n",
    "plt.show()"
   ]
  },
  {
   "cell_type": "markdown",
   "id": "fe2b1f4e",
   "metadata": {},
   "source": [
    "####  <font color=\"blue\">Point to infer from the graph:\n",
    "\n",
    "> - The customers with annual salary more than 3 lakhs are less likely to default"
   ]
  },
  {
   "cell_type": "markdown",
   "id": "7c97b337",
   "metadata": {},
   "source": [
    "### Segmented Univariate and Bivariate analysis"
   ]
  },
  {
   "cell_type": "code",
   "execution_count": 76,
   "id": "9066c8b6",
   "metadata": {},
   "outputs": [],
   "source": [
    "#Transforming loan status into binary variable (charged off = 1, fully paid=0) for analysis\n",
    "Loan_data[\"Loan_status_bin\"] = Loan_data[\"Loan_status\"].apply(lambda x:1 if x==\"Charged Off\" else 0)"
   ]
  },
  {
   "cell_type": "markdown",
   "id": "51e8d530",
   "metadata": {},
   "source": [
    "#### <font color=\"blue\"> Derived column:\n",
    "> ##### Loan_status_bin:\n",
    "The column created by converting the loan status column into binary digits(charged off=1, fully paid=0)"
   ]
  },
  {
   "cell_type": "code",
   "execution_count": 77,
   "id": "e2d3e77a",
   "metadata": {},
   "outputs": [],
   "source": [
    "#creating a new column by bucketing the loan amounts into 06 buckets\n",
    "Loan_data[\"Loan_amnt_bucket\"] = pd.qcut(Loan_data[\"Loan_amnt\"], q=7, labels=[\"0-5k\",\"5-10k\",\"10-15k\",\"15-20k\",\"20-25k\",\"25-30k\",\"30-35k\"])"
   ]
  },
  {
   "cell_type": "markdown",
   "id": "3d3baf86",
   "metadata": {},
   "source": [
    "####  <font color=\"blue\">Derived column:\n",
    "> ##### Loan_amnt_bucket:\n",
    "The column created by bucketing the loan amount column into seven buckets in order wise."
   ]
  },
  {
   "cell_type": "markdown",
   "id": "5c13ce64",
   "metadata": {},
   "source": [
    "#### 1. Loan status vs Loan amount:"
   ]
  },
  {
   "cell_type": "code",
   "execution_count": 78,
   "id": "98612490",
   "metadata": {},
   "outputs": [
    {
     "data": {
      "image/png": "[encoded data removed]",
      "text/plain": [
       "<Figure size 576x432 with 1 Axes>"
      ]
     },
     "metadata": {},
     "output_type": "display_data"
    }
   ],
   "source": [
    "#plotting default rate with respect to loan amount\n",
    "plt.figure(figsize=[8,6])\n",
    "Loan_data.groupby(by=\"Loan_amnt_bucket\")[\"Loan_status_bin\"].mean().plot.bar(color=sns.color_palette(\"Accent\"), linewidth=1,edgecolor=\"k\")\n",
    "plt.title(\"Default Rate for Loan Amount\", fontsize=20)\n",
    "plt.ylabel(\"Default rate\")\n",
    "plt.show()"
   ]
  },
  {
   "cell_type": "markdown",
   "id": "d17f5a59",
   "metadata": {},
   "source": [
    "#### <font color=\"blue\">Point to infer from the graph\n",
    "\n",
    "> - The default rate is more for the category 30 to 35k"
   ]
  },
  {
   "cell_type": "markdown",
   "id": "1e21a9bf",
   "metadata": {},
   "source": [
    "#### 2. Loan status vs Grade:"
   ]
  },
  {
   "cell_type": "code",
   "execution_count": 79,
   "id": "ffcd76e5",
   "metadata": {},
   "outputs": [
    {
     "data": {
      "image/png": "[encoded data removed]",
      "text/plain": [
       "<Figure size 576x432 with 1 Axes>"
      ]
     },
     "metadata": {},
     "output_type": "display_data"
    }
   ],
   "source": [
    "#plotting default rate with respect to grades\n",
    "plt.figure(figsize=[8,6])\n",
    "Loan_data.groupby(by=\"Grade\")[\"Loan_status_bin\"].mean().plot.line()\n",
    "plt.title(\"Default Rate for Grade\", fontsize=20)\n",
    "plt.ylabel(\"Default rate\")\n",
    "plt.show()"
   ]
  },
  {
   "cell_type": "markdown",
   "id": "e65e2aa3",
   "metadata": {},
   "source": [
    "#### <font color=\"blue\">Point to infer from the graph:\n",
    "\n",
    "> - As the line is linear with positive slope, the grade is positively correlated with default rate."
   ]
  },
  {
   "cell_type": "markdown",
   "id": "ddcd6f78",
   "metadata": {},
   "source": [
    "#### 3. Loan status vs Purpose:"
   ]
  },
  {
   "cell_type": "code",
   "execution_count": 80,
   "id": "b86eae48",
   "metadata": {},
   "outputs": [
    {
     "data": {
      "image/png": "[encoded data removed]",
      "text/plain": [
       "<Figure size 576x432 with 1 Axes>"
      ]
     },
     "metadata": {},
     "output_type": "display_data"
    }
   ],
   "source": [
    "#Plotting default rate with respect to purpose\n",
    "plt.figure(figsize=[8,6])\n",
    "Loan_data.groupby(by=\"Purpose\")[\"Loan_status_bin\"].mean().plot.bar(color=sns.color_palette(\"muted\"),linewidth=1,edgecolor=\"k\")\n",
    "plt.title(\"Default Rate for Purpose\", fontsize=20)\n",
    "plt.ylabel(\"Default rate\")\n",
    "plt.show()"
   ]
  },
  {
   "cell_type": "markdown",
   "id": "c81853af",
   "metadata": {},
   "source": [
    "#### <font color=\"blue\">Point to infer from the graph:\n",
    "\n",
    "> - The customers who is applying loan for small business are more likely to default."
   ]
  },
  {
   "cell_type": "markdown",
   "id": "71bdf2af",
   "metadata": {},
   "source": [
    "#### 4. Loan status vs Employment title:"
   ]
  },
  {
   "cell_type": "code",
   "execution_count": 81,
   "id": "c6dbb8c8",
   "metadata": {},
   "outputs": [
    {
     "data": {
      "text/plain": [
       "RENT        17480\n",
       "MORTGAGE    15919\n",
       "OWN          2569\n",
       "Name: Home_ownership, dtype: int64"
      ]
     },
     "execution_count": 81,
     "metadata": {},
     "output_type": "execute_result"
    }
   ],
   "source": [
    "Loan_data[\"Home_ownership\"].value_counts()"
   ]
  },
  {
   "cell_type": "code",
   "execution_count": 82,
   "id": "481acf6a",
   "metadata": {},
   "outputs": [],
   "source": [
    "#Removing rows with values which are less represented\n",
    "Loan_data = Loan_data[-(Loan_data[\"Home_ownership\"].isin([\"NONE\",\"OTHER\"]))]"
   ]
  },
  {
   "cell_type": "code",
   "execution_count": 83,
   "id": "a78760c3",
   "metadata": {
    "scrolled": false
   },
   "outputs": [
    {
     "data": {
      "image/png": "[encoded data removed]",
      "text/plain": [
       "<Figure size 576x432 with 1 Axes>"
      ]
     },
     "metadata": {},
     "output_type": "display_data"
    }
   ],
   "source": [
    "#plotting default rate with respect to employment title\n",
    "plt.figure(figsize=[8,6])\n",
    "Loan_data.groupby(by=\"Home_ownership\")[\"Loan_status_bin\"].mean().plot.bar(color=sns.color_palette(\"gist_ncar\"),linewidth=1,edgecolor=\"k\")\n",
    "plt.title(\"Default Rate for Home_ownership\", fontsize=20)\n",
    "plt.ylabel(\"Default rate\")\n",
    "plt.show()"
   ]
  },
  {
   "cell_type": "markdown",
   "id": "65ec4256",
   "metadata": {},
   "source": [
    "#### <font color=\"blue\">Point to infer from the graph:\n",
    "\n",
    "> - The customers who are living in rent are more likely to default."
   ]
  },
  {
   "cell_type": "markdown",
   "id": "acbcdde3",
   "metadata": {},
   "source": [
    "#### 5. Loan status vs Interest rate:"
   ]
  },
  {
   "cell_type": "code",
   "execution_count": 84,
   "id": "7b4f7268",
   "metadata": {},
   "outputs": [],
   "source": [
    "#Creating a new column by bucketing the interest rate column\n",
    "Loan_data[\"Int_rate_bucket\"] = pd.qcut(Loan_data[\"Int_rate\"], q=5, labels=[\"VL\",\"L\",\"M\",\"H\",\"VH\"])"
   ]
  },
  {
   "cell_type": "markdown",
   "id": "69f83092",
   "metadata": {},
   "source": [
    "#### <font color=\"blue\">Derived columns:\n",
    ">- ##### Int_rate_bucket:\n",
    "The column created by bucketing the interest rate column into 5 buckets\n"
   ]
  },
  {
   "cell_type": "code",
   "execution_count": 85,
   "id": "8420991d",
   "metadata": {},
   "outputs": [
    {
     "data": {
      "image/png": "[encoded data removed]",
      "text/plain": [
       "<Figure size 576x432 with 1 Axes>"
      ]
     },
     "metadata": {},
     "output_type": "display_data"
    }
   ],
   "source": [
    "#plotting default rate with respect to interest rate:\n",
    "plt.figure(figsize=[8,6])\n",
    "Loan_data.groupby(by=\"Int_rate_bucket\")[\"Loan_status_bin\"].mean().plot.line()\n",
    "plt.title(\"Correlation between interest rate and default rate\", fontsize=20)\n",
    "plt.ylabel(\"Default rate\")\n",
    "plt.show()"
   ]
  },
  {
   "cell_type": "markdown",
   "id": "fe1b12e5",
   "metadata": {},
   "source": [
    "#### <font color=\"blue\">Point to infer from the graph:\n",
    "\n",
    "> - Interest rate and default rate are positively correlated. when interest rate increases the customer is more likely to default."
   ]
  },
  {
   "cell_type": "markdown",
   "id": "50e32a22",
   "metadata": {},
   "source": [
    "#### 6. Loan status vs Annual income:"
   ]
  },
  {
   "cell_type": "code",
   "execution_count": 86,
   "id": "bcc62304",
   "metadata": {},
   "outputs": [],
   "source": [
    "#Creating a new column by bucketing the annual income column\n",
    "Loan_data[\"Annual_inc_bucket\"] = pd.qcut(Loan_data[\"Annual_inc\"], q=7, labels=[\"VP\",\"P\",\"LM\",\"M\",\"UM\",\"R\",\"VR\"])"
   ]
  },
  {
   "cell_type": "markdown",
   "id": "80aa9ee6",
   "metadata": {},
   "source": [
    "#### <font color=\"blue\">Derived columns:\n",
    ">- ##### Annual_inc_bucket:\n",
    "The column created by bucketing the annual income column into 7 buckets"
   ]
  },
  {
   "cell_type": "code",
   "execution_count": 87,
   "id": "ca785a84",
   "metadata": {},
   "outputs": [
    {
     "data": {
      "image/png": "[encoded data removed]",
      "text/plain": [
       "<Figure size 576x432 with 1 Axes>"
      ]
     },
     "metadata": {},
     "output_type": "display_data"
    }
   ],
   "source": [
    "#plotting default rate with respect to annual income\n",
    "plt.figure(figsize=[8,6])\n",
    "Loan_data.groupby(by=\"Annual_inc_bucket\")[\"Loan_status_bin\"].mean().plot.line()\n",
    "plt.title(\"Default Rate vs Annual Income\", fontsize=20)\n",
    "plt.ylabel(\"Default rate\")\n",
    "plt.show()"
   ]
  },
  {
   "cell_type": "markdown",
   "id": "161861e3",
   "metadata": {},
   "source": [
    "#### <font color=\"blue\">Point to infer from the graph:\n",
    "\n",
    "> - Annual income and default rate are negatively correlated. when the annual income increases the customer is less likely to default."
   ]
  },
  {
   "cell_type": "code",
   "execution_count": null,
   "id": "87781f57",
   "metadata": {},
   "outputs": [],
   "source": []
  },
  {
   "cell_type": "code",
   "execution_count": null,
   "id": "3957501f",
   "metadata": {},
   "outputs": [],
   "source": []
  },
  {
   "cell_type": "code",
   "execution_count": null,
   "id": "726fb493",
   "metadata": {},
   "outputs": [],
   "source": []
  },
  {
   "cell_type": "code",
   "execution_count": null,
   "id": "4766ca78",
   "metadata": {},
   "outputs": [],
   "source": []
  },
  {
   "cell_type": "code",
   "execution_count": null,
   "id": "94b3469b",
   "metadata": {},
   "outputs": [],
   "source": []
  },
  {
   "cell_type": "code",
   "execution_count": null,
   "id": "84f0389b",
   "metadata": {},
   "outputs": [],
   "source": []
  },
  {
   "cell_type": "code",
   "execution_count": null,
   "id": "66cddab3",
   "metadata": {},
   "outputs": [],
   "source": []
  },
  {
   "cell_type": "code",
   "execution_count": null,
   "id": "ff7dd02e",
   "metadata": {},
   "outputs": [],
   "source": []
  },
  {
   "cell_type": "code",
   "execution_count": null,
   "id": "76b94cde",
   "metadata": {},
   "outputs": [],
   "source": []
  }
 ],
 "metadata": {
  "kernelspec": {
   "display_name": "Python 3",
   "language": "python",
   "name": "python3"
  },
  "language_info": {
   "codemirror_mode": {
    "name": "ipython",
    "version": 3
   },
   "file_extension": ".py",
   "mimetype": "text/x-python",
   "name": "python",
   "nbconvert_exporter": "python",
   "pygments_lexer": "ipython3",
   "version": "3.8.8"
  }
 },
 "nbformat": 4,
 "nbformat_minor": 5
}
